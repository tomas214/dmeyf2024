{
  "cells": [
    {
      "cell_type": "code",
      "execution_count": 83,
      "metadata": {
        "colab": {
          "base_uri": "https://localhost:8080/"
        },
        "id": "vFPiTB5zanE1",
        "outputId": "6105332f-3235-4bb1-9814-59076d28bf96"
      },
      "outputs": [
        {
          "output_type": "stream",
          "name": "stdout",
          "text": [
            "Requirement already satisfied: optuna==3.6.1 in /usr/local/lib/python3.10/dist-packages (3.6.1)\n",
            "Requirement already satisfied: alembic>=1.5.0 in /usr/local/lib/python3.10/dist-packages (from optuna==3.6.1) (1.13.3)\n",
            "Requirement already satisfied: colorlog in /usr/local/lib/python3.10/dist-packages (from optuna==3.6.1) (6.8.2)\n",
            "Requirement already satisfied: numpy in /usr/local/lib/python3.10/dist-packages (from optuna==3.6.1) (1.26.4)\n",
            "Requirement already satisfied: packaging>=20.0 in /usr/local/lib/python3.10/dist-packages (from optuna==3.6.1) (24.1)\n",
            "Requirement already satisfied: sqlalchemy>=1.3.0 in /usr/local/lib/python3.10/dist-packages (from optuna==3.6.1) (2.0.35)\n",
            "Requirement already satisfied: tqdm in /usr/local/lib/python3.10/dist-packages (from optuna==3.6.1) (4.66.5)\n",
            "Requirement already satisfied: PyYAML in /usr/local/lib/python3.10/dist-packages (from optuna==3.6.1) (6.0.2)\n",
            "Requirement already satisfied: Mako in /usr/local/lib/python3.10/dist-packages (from alembic>=1.5.0->optuna==3.6.1) (1.3.5)\n",
            "Requirement already satisfied: typing-extensions>=4 in /usr/local/lib/python3.10/dist-packages (from alembic>=1.5.0->optuna==3.6.1) (4.12.2)\n",
            "Requirement already satisfied: greenlet!=0.4.17 in /usr/local/lib/python3.10/dist-packages (from sqlalchemy>=1.3.0->optuna==3.6.1) (3.1.1)\n",
            "Requirement already satisfied: MarkupSafe>=0.9.2 in /usr/local/lib/python3.10/dist-packages (from Mako->alembic>=1.5.0->optuna==3.6.1) (2.1.5)\n"
          ]
        }
      ],
      "source": [
        "%pip install optuna==3.6.1"
      ]
    },
    {
      "cell_type": "code",
      "execution_count": 84,
      "metadata": {
        "id": "khKrPN_Catac"
      },
      "outputs": [],
      "source": [
        "import pandas as pd\n",
        "import numpy as np\n",
        "import seaborn as sns\n",
        "import matplotlib.pyplot as plt\n",
        "\n",
        "from sklearn.model_selection import train_test_split\n",
        "from sklearn.model_selection import ShuffleSplit, StratifiedShuffleSplit\n",
        "from sklearn.ensemble import RandomForestClassifier\n",
        "from sklearn.impute import SimpleImputer\n",
        "\n",
        "import lightgbm as lgb\n",
        "\n",
        "import optuna\n",
        "from optuna.visualization import plot_optimization_history, plot_param_importances, plot_slice, plot_contour\n",
        "\n",
        "from time import time\n",
        "\n",
        "import pickle"
      ]
    },
    {
      "cell_type": "code",
      "execution_count": 85,
      "metadata": {
        "colab": {
          "base_uri": "https://localhost:8080/"
        },
        "id": "j97XTq6Xav2s",
        "outputId": "929f1cb5-6343-45b4-8e90-ee8a3e15de0b"
      },
      "outputs": [
        {
          "output_type": "stream",
          "name": "stdout",
          "text": [
            "Drive already mounted at /content/drive; to attempt to forcibly remount, call drive.mount(\"/content/drive\", force_remount=True).\n"
          ]
        }
      ],
      "source": [
        "from google.colab import drive\n",
        "drive.mount(\"/content/drive\")"
      ]
    },
    {
      "cell_type": "code",
      "execution_count": 86,
      "metadata": {
        "id": "jpHbdRGVax8P"
      },
      "outputs": [],
      "source": [
        "dataset_path = '/content/drive/MyDrive/MaestDataMining/Especializacion/2C/DMEF/Datasets/'\n",
        "dataset_file = 'competencia_01.csv'\n",
        "\n",
        "ganancia_acierto = 273000\n",
        "costo_estimulo = 7000\n",
        "\n",
        "mes_train = 202102\n",
        "mes_test = 202104\n",
        "\n",
        "# agregue sus semillas\n",
        "semilla = 714\n",
        "\n",
        "data = pd.read_csv(dataset_path + dataset_file)"
      ]
    },
    {
      "cell_type": "code",
      "source": [
        "data.shape"
      ],
      "metadata": {
        "colab": {
          "base_uri": "https://localhost:8080/"
        },
        "id": "3H1EdAzNF6oY",
        "outputId": "ef5682d2-3754-4ae4-f8d5-76d0c16c7cba"
      },
      "execution_count": 87,
      "outputs": [
        {
          "output_type": "execute_result",
          "data": {
            "text/plain": [
              "(981946, 155)"
            ]
          },
          "metadata": {},
          "execution_count": 87
        }
      ]
    },
    {
      "cell_type": "markdown",
      "metadata": {
        "id": "fcnEkzLNbGDV"
      },
      "source": [
        "Vamos a asignar pesos a las clases. En unos minutos explicaremos las razones detrás de esta decisión. Mientras tanto, pueden aprovechar el código para ajustar el peso de la clase **BAJA+2** según lo deseen.\n",
        "\n",
        "\n",
        "\n"
      ]
    },
    {
      "cell_type": "markdown",
      "source": [
        "clase_binaria2: toma el valor 1 si clase_ternaria es diferente de 'CONTINUA'"
      ],
      "metadata": {
        "id": "viEpO9gp54Tw"
      }
    },
    {
      "cell_type": "code",
      "execution_count": 88,
      "metadata": {
        "id": "fGl_tpfQbCIq"
      },
      "outputs": [],
      "source": [
        "data['clase_peso'] = 1.0\n",
        "\n",
        "data.loc[data['clase_ternaria'] == 'BAJA+2', 'clase_peso'] = 1.00002\n",
        "data.loc[data['clase_ternaria'] == 'BAJA+1', 'clase_peso'] = 1.00001"
      ]
    },
    {
      "cell_type": "code",
      "execution_count": 89,
      "metadata": {
        "id": "58anRX5NbL6Q"
      },
      "outputs": [],
      "source": [
        "data['clase_binaria1'] = 0\n",
        "data['clase_binaria2'] = 0\n",
        "data['clase_binaria1'] = np.where(data['clase_ternaria'] == 'BAJA+2', 1, 0)\n",
        "data['clase_binaria2'] = np.where(data['clase_ternaria'] == 'CONTINUA', 0, 1)"
      ]
    },
    {
      "cell_type": "code",
      "execution_count": 90,
      "metadata": {
        "id": "qMyg3LQybRFb"
      },
      "outputs": [],
      "source": [
        "train_data = data[data['foto_mes'] == mes_train]\n",
        "test_data = data[data['foto_mes'] == mes_test]\n",
        "\n",
        "X_train = train_data.drop(['clase_ternaria', 'clase_peso', 'clase_binaria1','clase_binaria2'], axis=1)\n",
        "y_train_binaria1 = train_data['clase_binaria1']\n",
        "y_train_binaria2 = train_data['clase_binaria2']\n",
        "w_train = train_data['clase_peso']\n",
        "\n",
        "X_test = test_data.drop(['clase_ternaria', 'clase_peso', 'clase_binaria1','clase_binaria2'], axis=1)\n",
        "y_test_binaria1 = test_data['clase_binaria1']\n",
        "y_test_class = test_data['clase_ternaria']\n",
        "w_test = test_data['clase_peso']"
      ]
    },
    {
      "cell_type": "code",
      "source": [
        "imp_mean = SimpleImputer(missing_values=np.nan, strategy='median')\n",
        "Xif = imp_mean.fit_transform(X_test)"
      ],
      "metadata": {
        "id": "r_V3H_zMs1YC"
      },
      "execution_count": 91,
      "outputs": []
    },
    {
      "cell_type": "markdown",
      "metadata": {
        "id": "4pth-k4KbdrF"
      },
      "source": [
        "Para evaluar la calidad del modelo, crearemos nuestra propia función de evaluación que calcule la ganancia. La razón de incluir los pesos es precisamente para poder implementar esta función de evaluación de manera adecuada. Al combinar las clases BAJA+1 y BAJA+2 en una sola, necesitamos una forma de diferenciarlas, y es aquí donde entra en juego el weight. Este parámetro nos permitirá distinguir entre ambas clases al momento de evaluarlas dentro del algoritmo."
      ]
    },
    {
      "cell_type": "code",
      "execution_count": 92,
      "metadata": {
        "id": "-ts0bpblbUV8"
      },
      "outputs": [],
      "source": [
        "def lgb_gan_eval(y_pred, data):\n",
        "    weight = data.get_weight()\n",
        "    ganancia = np.where(weight == 1.00002, ganancia_acierto, 0) - np.where(weight < 1.00002, costo_estimulo, 0)\n",
        "    ganancia = ganancia[np.argsort(y_pred)[::-1]]\n",
        "    ganancia = np.cumsum(ganancia)\n",
        "\n",
        "    return 'gan_eval', np.max(ganancia) , True"
      ]
    },
    {
      "cell_type": "markdown",
      "metadata": {
        "id": "PseT2o3UbiZY"
      },
      "source": [
        "LGBM necesita su propio tipo de Datasets:\n"
      ]
    },
    {
      "cell_type": "code",
      "execution_count": 93,
      "metadata": {
        "id": "gdR_jImrbZQD"
      },
      "outputs": [],
      "source": [
        "train_data1 = lgb.Dataset(X_train, label=y_train_binaria1, weight=w_train)\n",
        "train_data2 = lgb.Dataset(X_train, label=y_train_binaria2, weight=w_train)"
      ]
    },
    {
      "cell_type": "code",
      "execution_count": 94,
      "metadata": {
        "id": "OmnseOQtclJ4"
      },
      "outputs": [],
      "source": [
        "def objective(trial):\n",
        "    num_leaves = trial.suggest_int('num_leaves', 8, 100)\n",
        "    learning_rate = trial.suggest_float('learning_rate', 0.005, 0.3)\n",
        "    min_data_in_leaf = trial.suggest_int('min_data_in_leaf', 1, 1000)\n",
        "    feature_fraction = trial.suggest_float('feature_fraction', 0.1, 1.0)\n",
        "    bagging_fraction = trial.suggest_float('bagging_fraction', 0.1, 1.0)\n",
        "    max_depth = trial.suggest_int('max_depth', 3, 20)\n",
        "    lambda_l1 = trial.suggest_float('lambda_l1', 0.0, 10.0)\n",
        "    lambda_l2 = trial.suggest_float('lambda_l2', 0.0, 10.0)\n",
        "    min_gain_to_split = trial.suggest_float('min_gain_to_split', 0.0, 1.0)\n",
        "    bagging_freq = trial.suggest_int('bagging_freq', 1, 7)\n",
        "\n",
        "    params = {\n",
        "        'objective': 'binary',\n",
        "        'metric': 'custom',\n",
        "        'boosting_type': 'gbdt',\n",
        "        'first_metric_only': True,\n",
        "        'boost_from_average': True,\n",
        "        'feature_pre_filter': False,\n",
        "        'max_bin': 31,\n",
        "        'num_leaves': num_leaves,\n",
        "        'learning_rate': learning_rate,\n",
        "        'min_data_in_leaf': min_data_in_leaf,\n",
        "        'feature_fraction': feature_fraction,\n",
        "        'bagging_fraction': bagging_fraction,\n",
        "        'max_depth': max_depth,\n",
        "        'lambda_l1': lambda_l1,\n",
        "        'lambda_l2': lambda_l2,\n",
        "        'min_gain_to_split': min_gain_to_split,\n",
        "        'bagging_freq': bagging_freq,\n",
        "        'seed': semilla,\n",
        "        'verbose': -1\n",
        "    }\n",
        "\n",
        "    train_data = lgb.Dataset(X_train, label=y_train_binaria2, weight=w_train)\n",
        "    cv_results = lgb.cv(\n",
        "        params,\n",
        "        train_data,\n",
        "        num_boost_round=100,\n",
        "        # early_stopping_rounds= int(50 + 5 / learning_rate),\n",
        "        feval=lgb_gan_eval,\n",
        "        stratified=True,\n",
        "        nfold=5,\n",
        "        seed=semilla\n",
        "    )\n",
        "    max_gan = max(cv_results['valid gan_eval-mean'])\n",
        "    best_iter = cv_results['valid gan_eval-mean'].index(max_gan) + 1\n",
        "\n",
        "    trial.set_user_attr(\"best_iter\", best_iter)\n",
        "\n",
        "    return max_gan * 5\n"
      ]
    },
    {
      "cell_type": "code",
      "execution_count": 95,
      "metadata": {
        "colab": {
          "base_uri": "https://localhost:8080/"
        },
        "id": "nKr45WYdcmj1",
        "outputId": "34a82f3a-c46d-4f0b-be97-69d048fb8b6f"
      },
      "outputs": [
        {
          "output_type": "stream",
          "name": "stderr",
          "text": [
            "[I 2024-10-13 23:58:55,406] Using an existing study with name 'exp_302_lgbm' instead of creating a new one.\n"
          ]
        }
      ],
      "source": [
        "storage_name = \"sqlite:///\" + dataset_path + \"optimization_lgbm.db\"\n",
        "study_name = \"exp_302_lgbm\"\n",
        "\n",
        "study = optuna.create_study(\n",
        "    direction=\"maximize\",\n",
        "    study_name=study_name,\n",
        "    storage=storage_name,\n",
        "    load_if_exists=True,\n",
        ")"
      ]
    },
    {
      "cell_type": "markdown",
      "metadata": {
        "id": "a6XOtd0qc0Zq"
      },
      "source": [
        "[I 2024-10-12 16:58:27,001] Trial 77 finished with value: 114506000.0 and parameters: {'num_leaves': 24, 'learning_rate': 0.11681200404658175, 'min_data_in_leaf': 200, 'feature_fraction': 0.23784197896792073, 'bagging_fraction': 0.6944512419517778, 'max_depth': 10, 'lambda_l1': 1.1536973623742635, 'lambda_l2': 3.3304940551026623, 'min_gain_to_split': 0.2827894890056999, 'bagging_freq': 2}. Best is trial 77 with value: 114506000.0.\n"
      ]
    },
    {
      "cell_type": "code",
      "execution_count": 96,
      "metadata": {
        "colab": {
          "base_uri": "https://localhost:8080/"
        },
        "id": "yJc-k2aQcn-J",
        "outputId": "61488b66-b43c-4d20-c816-0f2e247db631"
      },
      "outputs": [
        {
          "output_type": "stream",
          "name": "stderr",
          "text": [
            "[I 2024-10-14 00:00:02,979] Trial 15 finished with value: 104097000.0 and parameters: {'num_leaves': 15, 'learning_rate': 0.017632876678178873, 'min_data_in_leaf': 486, 'feature_fraction': 0.8358625509823963, 'bagging_fraction': 0.6637184209052275, 'max_depth': 8, 'lambda_l1': 5.532834547455817, 'lambda_l2': 2.829492510015686, 'min_gain_to_split': 0.93573325246915, 'bagging_freq': 3}. Best is trial 14 with value: 105105000.0.\n",
            "[I 2024-10-14 00:00:36,624] Trial 16 finished with value: 107044000.0 and parameters: {'num_leaves': 99, 'learning_rate': 0.0852261158407892, 'min_data_in_leaf': 982, 'feature_fraction': 0.8202750245808443, 'bagging_fraction': 0.6275379745927084, 'max_depth': 3, 'lambda_l1': 6.95688909577289, 'lambda_l2': 7.59925823690142, 'min_gain_to_split': 0.31694570516114695, 'bagging_freq': 2}. Best is trial 16 with value: 107044000.0.\n",
            "[I 2024-10-14 00:01:03,889] Trial 17 finished with value: 107107000.0 and parameters: {'num_leaves': 62, 'learning_rate': 0.07647693998401717, 'min_data_in_leaf': 995, 'feature_fraction': 0.7463774774539241, 'bagging_fraction': 0.6427985550544523, 'max_depth': 3, 'lambda_l1': 0.05041181614879697, 'lambda_l2': 7.7481790569181275, 'min_gain_to_split': 0.3748557592985712, 'bagging_freq': 3}. Best is trial 17 with value: 107107000.0.\n",
            "[I 2024-10-14 00:01:33,101] Trial 18 finished with value: 105742000.0 and parameters: {'num_leaves': 62, 'learning_rate': 0.08717114592597604, 'min_data_in_leaf': 985, 'feature_fraction': 0.745522345609437, 'bagging_fraction': 0.7545252391496523, 'max_depth': 3, 'lambda_l1': 0.0899602425267911, 'lambda_l2': 7.466470539949682, 'min_gain_to_split': 0.3461176350307542, 'bagging_freq': 3}. Best is trial 17 with value: 107107000.0.\n",
            "[I 2024-10-14 00:02:12,009] Trial 19 finished with value: 105896000.0 and parameters: {'num_leaves': 98, 'learning_rate': 0.024632201384273654, 'min_data_in_leaf': 750, 'feature_fraction': 0.7339646388043444, 'bagging_fraction': 0.7529899096039371, 'max_depth': 7, 'lambda_l1': 0.1451295413231331, 'lambda_l2': 7.157895681456255, 'min_gain_to_split': 0.32717966548787997, 'bagging_freq': 3}. Best is trial 17 with value: 107107000.0.\n",
            "[I 2024-10-14 00:02:50,282] Trial 20 finished with value: 106904000.0 and parameters: {'num_leaves': 24, 'learning_rate': 0.09599290575312112, 'min_data_in_leaf': 550, 'feature_fraction': 0.8467056416790872, 'bagging_fraction': 0.5520536646973749, 'max_depth': 11, 'lambda_l1': 6.4916916694025195, 'lambda_l2': 7.678678278250745, 'min_gain_to_split': 0.00783212010560519, 'bagging_freq': 2}. Best is trial 17 with value: 107107000.0.\n",
            "[I 2024-10-14 00:03:06,728] Trial 21 finished with value: 103138000.0 and parameters: {'num_leaves': 67, 'learning_rate': 0.2062949746244696, 'min_data_in_leaf': 809, 'feature_fraction': 0.6688226331693424, 'bagging_fraction': 0.10632665940455427, 'max_depth': 3, 'lambda_l1': 3.402240567017368, 'lambda_l2': 6.5794359650468195, 'min_gain_to_split': 0.4701671114002678, 'bagging_freq': 2}. Best is trial 17 with value: 107107000.0.\n",
            "[I 2024-10-14 00:03:46,839] Trial 22 finished with value: 107709000.0 and parameters: {'num_leaves': 72, 'learning_rate': 0.046822747348167805, 'min_data_in_leaf': 281, 'feature_fraction': 0.8344276500015363, 'bagging_fraction': 0.7262484311202851, 'max_depth': 10, 'lambda_l1': 1.461295335905536, 'lambda_l2': 8.508966440034474, 'min_gain_to_split': 0.305563990938553, 'bagging_freq': 7}. Best is trial 22 with value: 107709000.0.\n",
            "[I 2024-10-14 00:04:33,523] Trial 23 finished with value: 109494000.0 and parameters: {'num_leaves': 50, 'learning_rate': 0.0431841352413784, 'min_data_in_leaf': 261, 'feature_fraction': 0.43439806949545945, 'bagging_fraction': 0.7914619950601735, 'max_depth': 12, 'lambda_l1': 1.3691014739026777, 'lambda_l2': 8.83490480740532, 'min_gain_to_split': 0.23665048171967396, 'bagging_freq': 7}. Best is trial 23 with value: 109494000.0.\n",
            "[I 2024-10-14 00:05:25,923] Trial 24 finished with value: 104790000.0 and parameters: {'num_leaves': 50, 'learning_rate': 0.008350535236696807, 'min_data_in_leaf': 242, 'feature_fraction': 0.4461988710717221, 'bagging_fraction': 0.8273826273989034, 'max_depth': 11, 'lambda_l1': 1.4508539248776346, 'lambda_l2': 8.530762948909638, 'min_gain_to_split': 0.22855228805757596, 'bagging_freq': 7}. Best is trial 23 with value: 109494000.0.\n",
            "[I 2024-10-14 00:06:15,946] Trial 25 finished with value: 111048000.0 and parameters: {'num_leaves': 30, 'learning_rate': 0.04715677163261298, 'min_data_in_leaf': 234, 'feature_fraction': 0.40969294705183484, 'bagging_fraction': 0.9949699084219417, 'max_depth': 13, 'lambda_l1': 1.449552102701017, 'lambda_l2': 4.173766075750887, 'min_gain_to_split': 0.015072593004555213, 'bagging_freq': 7}. Best is trial 25 with value: 111048000.0.\n",
            "[I 2024-10-14 00:07:09,674] Trial 26 finished with value: 111475000.0 and parameters: {'num_leaves': 28, 'learning_rate': 0.04216904447265221, 'min_data_in_leaf': 259, 'feature_fraction': 0.43566402339343, 'bagging_fraction': 0.9910812436992594, 'max_depth': 13, 'lambda_l1': 1.5653084630371863, 'lambda_l2': 4.056106030260081, 'min_gain_to_split': 0.03957992843725194, 'bagging_freq': 7}. Best is trial 26 with value: 111475000.0.\n",
            "[I 2024-10-14 00:07:58,259] Trial 27 finished with value: 107968000.0 and parameters: {'num_leaves': 27, 'learning_rate': 0.03852360854455941, 'min_data_in_leaf': 208, 'feature_fraction': 0.4081077818602732, 'bagging_fraction': 0.9947853982601103, 'max_depth': 13, 'lambda_l1': 3.9402556173816903, 'lambda_l2': 3.8081496755043243, 'min_gain_to_split': 0.023614760985721354, 'bagging_freq': 6}. Best is trial 26 with value: 111475000.0.\n",
            "[I 2024-10-14 00:08:50,585] Trial 28 finished with value: 111412000.0 and parameters: {'num_leaves': 32, 'learning_rate': 0.12069136401959446, 'min_data_in_leaf': 383, 'feature_fraction': 0.24066137230478804, 'bagging_fraction': 0.9756861612599151, 'max_depth': 17, 'lambda_l1': 1.3662507236383594, 'lambda_l2': 4.249191536739617, 'min_gain_to_split': 0.10530969219810078, 'bagging_freq': 7}. Best is trial 26 with value: 111475000.0.\n",
            "[I 2024-10-14 00:09:34,713] Trial 29 finished with value: 106337000.0 and parameters: {'num_leaves': 30, 'learning_rate': 0.10598471718894334, 'min_data_in_leaf': 394, 'feature_fraction': 0.14927633591547496, 'bagging_fraction': 0.9858776390236462, 'max_depth': 17, 'lambda_l1': 2.5430134663046133, 'lambda_l2': 3.9583546500232725, 'min_gain_to_split': 0.0821374522353445, 'bagging_freq': 5}. Best is trial 26 with value: 111475000.0.\n",
            "[I 2024-10-14 00:10:12,586] Trial 30 finished with value: 111069000.0 and parameters: {'num_leaves': 17, 'learning_rate': 0.12478901399873771, 'min_data_in_leaf': 380, 'feature_fraction': 0.21807672952992208, 'bagging_fraction': 0.8966217451344037, 'max_depth': 18, 'lambda_l1': 4.378600269404437, 'lambda_l2': 2.8049124290210554, 'min_gain_to_split': 0.08045715712461543, 'bagging_freq': 7}. Best is trial 26 with value: 111475000.0.\n",
            "[I 2024-10-14 00:10:52,297] Trial 31 finished with value: 108199000.0 and parameters: {'num_leaves': 18, 'learning_rate': 0.1226278508183389, 'min_data_in_leaf': 528, 'feature_fraction': 0.22787356305271628, 'bagging_fraction': 0.8839473066125543, 'max_depth': 18, 'lambda_l1': 3.146717096349083, 'lambda_l2': 2.6876353514607527, 'min_gain_to_split': 0.15847693043159417, 'bagging_freq': 6}. Best is trial 26 with value: 111475000.0.\n",
            "[I 2024-10-14 00:11:29,754] Trial 32 finished with value: 110334000.0 and parameters: {'num_leaves': 9, 'learning_rate': 0.13272075058730398, 'min_data_in_leaf': 373, 'feature_fraction': 0.2162006930988637, 'bagging_fraction': 0.8990408337729117, 'max_depth': 17, 'lambda_l1': 4.57921791593719, 'lambda_l2': 2.8534865343678986, 'min_gain_to_split': 0.1196665133407302, 'bagging_freq': 5}. Best is trial 26 with value: 111475000.0.\n",
            "[I 2024-10-14 00:12:19,303] Trial 33 finished with value: 105784000.0 and parameters: {'num_leaves': 38, 'learning_rate': 0.20520363757074495, 'min_data_in_leaf': 453, 'feature_fraction': 0.3239844704830841, 'bagging_fraction': 0.8420932675870618, 'max_depth': 16, 'lambda_l1': 4.244700757139026, 'lambda_l2': 4.755249859911755, 'min_gain_to_split': 0.07540198756974568, 'bagging_freq': 7}. Best is trial 26 with value: 111475000.0.\n",
            "[I 2024-10-14 00:13:02,138] Trial 34 finished with value: 108136000.0 and parameters: {'num_leaves': 21, 'learning_rate': 0.1704121379048939, 'min_data_in_leaf': 608, 'feature_fraction': 0.2459838269043927, 'bagging_fraction': 0.9079414202449935, 'max_depth': 14, 'lambda_l1': 1.0458987226721148, 'lambda_l2': 1.8280903451407715, 'min_gain_to_split': 0.8501000234318252, 'bagging_freq': 6}. Best is trial 26 with value: 111475000.0.\n",
            "[I 2024-10-14 00:14:03,866] Trial 35 finished with value: 107632000.0 and parameters: {'num_leaves': 43, 'learning_rate': 0.20020857740068027, 'min_data_in_leaf': 327, 'feature_fraction': 0.5294418184555386, 'bagging_fraction': 0.9364037862003273, 'max_depth': 20, 'lambda_l1': 0.7809026240560342, 'lambda_l2': 5.924228370559342, 'min_gain_to_split': 0.18397912751021817, 'bagging_freq': 5}. Best is trial 26 with value: 111475000.0.\n",
            "[I 2024-10-14 00:14:50,555] Trial 36 finished with value: 109991000.0 and parameters: {'num_leaves': 31, 'learning_rate': 0.06560861363301032, 'min_data_in_leaf': 157, 'feature_fraction': 0.38534238238584484, 'bagging_fraction': 0.9669692359584592, 'max_depth': 14, 'lambda_l1': 2.0504064963471222, 'lambda_l2': 4.719702712015036, 'min_gain_to_split': 0.0030099162838389502, 'bagging_freq': 7}. Best is trial 26 with value: 111475000.0.\n",
            "[I 2024-10-14 00:15:45,948] Trial 37 finished with value: 108353000.0 and parameters: {'num_leaves': 33, 'learning_rate': 0.1740701917403663, 'min_data_in_leaf': 187, 'feature_fraction': 0.5139916093653814, 'bagging_fraction': 0.948983160303683, 'max_depth': 18, 'lambda_l1': 2.8843778982829886, 'lambda_l2': 3.490588623463819, 'min_gain_to_split': 0.06160778055579353, 'bagging_freq': 7}. Best is trial 26 with value: 111475000.0.\n",
            "[I 2024-10-14 00:16:29,349] Trial 38 finished with value: 109375000.0 and parameters: {'num_leaves': 14, 'learning_rate': 0.1078841542889997, 'min_data_in_leaf': 419, 'feature_fraction': 0.19224708253796446, 'bagging_fraction': 0.9985937684903772, 'max_depth': 15, 'lambda_l1': 0.7407386157211372, 'lambda_l2': 1.9296452178442736, 'min_gain_to_split': 0.241905652191992, 'bagging_freq': 6}. Best is trial 26 with value: 111475000.0.\n",
            "[I 2024-10-14 00:17:12,683] Trial 39 finished with value: 108458000.0 and parameters: {'num_leaves': 25, 'learning_rate': 0.15999606597739793, 'min_data_in_leaf': 314, 'feature_fraction': 0.27608121635267757, 'bagging_fraction': 0.8817350036248776, 'max_depth': 13, 'lambda_l1': 1.921182747310235, 'lambda_l2': 4.46940106789112, 'min_gain_to_split': 0.13146573642162135, 'bagging_freq': 7}. Best is trial 26 with value: 111475000.0.\n",
            "[I 2024-10-14 00:17:45,714] Trial 40 finished with value: 107807000.0 and parameters: {'num_leaves': 19, 'learning_rate': 0.22533269507643558, 'min_data_in_leaf': 16, 'feature_fraction': 0.10253740300851599, 'bagging_fraction': 0.8354034648241624, 'max_depth': 10, 'lambda_l1': 1.9230920408384602, 'lambda_l2': 3.148014187229018, 'min_gain_to_split': 0.07446802042963395, 'bagging_freq': 7}. Best is trial 26 with value: 111475000.0.\n",
            "[I 2024-10-14 00:18:27,446] Trial 41 finished with value: 104139000.0 and parameters: {'num_leaves': 11, 'learning_rate': 0.028553192250211447, 'min_data_in_leaf': 141, 'feature_fraction': 0.3007330289321156, 'bagging_fraction': 0.9235997804815103, 'max_depth': 20, 'lambda_l1': 5.730340423511152, 'lambda_l2': 2.2766599700381898, 'min_gain_to_split': 0.5500337441264238, 'bagging_freq': 6}. Best is trial 26 with value: 111475000.0.\n",
            "[I 2024-10-14 00:19:12,704] Trial 42 finished with value: 107863000.0 and parameters: {'num_leaves': 44, 'learning_rate': 0.1306814569916232, 'min_data_in_leaf': 325, 'feature_fraction': 0.35396550983014785, 'bagging_fraction': 0.8061590035849554, 'max_depth': 16, 'lambda_l1': 2.554545318333692, 'lambda_l2': 0.27943758270671415, 'min_gain_to_split': 0.41123108476237685, 'bagging_freq': 7}. Best is trial 26 with value: 111475000.0.\n",
            "[I 2024-10-14 00:19:40,901] Trial 43 finished with value: 102984000.0 and parameters: {'num_leaves': 35, 'learning_rate': 0.07328604964830954, 'min_data_in_leaf': 600, 'feature_fraction': 0.15802330131078107, 'bagging_fraction': 0.45874123026640723, 'max_depth': 18, 'lambda_l1': 4.481823894114932, 'lambda_l2': 4.238700519687715, 'min_gain_to_split': 0.1895508091707055, 'bagging_freq': 6}. Best is trial 26 with value: 111475000.0.\n",
            "[I 2024-10-14 00:20:28,842] Trial 44 finished with value: 109963000.0 and parameters: {'num_leaves': 55, 'learning_rate': 0.10056602382215137, 'min_data_in_leaf': 439, 'feature_fraction': 0.48029710059155145, 'bagging_fraction': 0.697789623016295, 'max_depth': 13, 'lambda_l1': 0.6061352360160007, 'lambda_l2': 5.463686420425906, 'min_gain_to_split': 0.28149396269851584, 'bagging_freq': 4}. Best is trial 26 with value: 111475000.0.\n",
            "[I 2024-10-14 00:21:22,290] Trial 45 finished with value: 105966000.0 and parameters: {'num_leaves': 28, 'learning_rate': 0.14711772879323817, 'min_data_in_leaf': 230, 'feature_fraction': 0.37103563573552734, 'bagging_fraction': 0.9459217998382075, 'max_depth': 15, 'lambda_l1': 3.595958244549288, 'lambda_l2': 1.090956790496071, 'min_gain_to_split': 0.03421238918567547, 'bagging_freq': 6}. Best is trial 26 with value: 111475000.0.\n",
            "[I 2024-10-14 00:21:59,692] Trial 46 finished with value: 109928000.0 and parameters: {'num_leaves': 14, 'learning_rate': 0.13073014013533638, 'min_data_in_leaf': 342, 'feature_fraction': 0.2255460505280919, 'bagging_fraction': 0.8713143364930187, 'max_depth': 17, 'lambda_l1': 4.814931936635809, 'lambda_l2': 3.431728418876664, 'min_gain_to_split': 0.112287648890804, 'bagging_freq': 5}. Best is trial 26 with value: 111475000.0.\n",
            "[I 2024-10-14 00:22:39,591] Trial 47 finished with value: 108885000.0 and parameters: {'num_leaves': 8, 'learning_rate': 0.11865008966617299, 'min_data_in_leaf': 380, 'feature_fraction': 0.2734476319443303, 'bagging_fraction': 0.9110493491365667, 'max_depth': 19, 'lambda_l1': 6.10587699179236, 'lambda_l2': 2.5380985987835523, 'min_gain_to_split': 0.13717381447327914, 'bagging_freq': 5}. Best is trial 26 with value: 111475000.0.\n",
            "[I 2024-10-14 00:23:23,704] Trial 48 finished with value: 110817000.0 and parameters: {'num_leaves': 22, 'learning_rate': 0.18282070866082867, 'min_data_in_leaf': 292, 'feature_fraction': 0.19330814878734592, 'bagging_fraction': 0.8672830492824274, 'max_depth': 17, 'lambda_l1': 2.986093807671813, 'lambda_l2': 3.4375135008599655, 'min_gain_to_split': 0.11198321415391156, 'bagging_freq': 7}. Best is trial 26 with value: 111475000.0.\n",
            "[I 2024-10-14 00:24:01,951] Trial 49 finished with value: 104251000.0 and parameters: {'num_leaves': 21, 'learning_rate': 0.25676160779288465, 'min_data_in_leaf': 292, 'feature_fraction': 0.16796593977963864, 'bagging_fraction': 0.8610592697803666, 'max_depth': 19, 'lambda_l1': 2.9643002944273267, 'lambda_l2': 5.202574135591792, 'min_gain_to_split': 0.04596825145439143, 'bagging_freq': 7}. Best is trial 26 with value: 111475000.0.\n",
            "[I 2024-10-14 00:24:46,601] Trial 50 finished with value: 106526000.0 and parameters: {'num_leaves': 41, 'learning_rate': 0.17770142651862703, 'min_data_in_leaf': 471, 'feature_fraction': 0.34040318899760325, 'bagging_fraction': 0.7846018029489593, 'max_depth': 15, 'lambda_l1': 2.2908416032942367, 'lambda_l2': 3.7550077707344562, 'min_gain_to_split': 0.1690409203604403, 'bagging_freq': 7}. Best is trial 26 with value: 111475000.0.\n",
            "[I 2024-10-14 00:25:31,723] Trial 51 finished with value: 106841000.0 and parameters: {'num_leaves': 37, 'learning_rate': 0.15682840045747984, 'min_data_in_leaf': 108, 'feature_fraction': 0.6067366785204176, 'bagging_fraction': 0.9591504415824671, 'max_depth': 16, 'lambda_l1': 1.6870762607741483, 'lambda_l2': 4.310548957428927, 'min_gain_to_split': 0.10476321890424133, 'bagging_freq': 6}. Best is trial 26 with value: 111475000.0.\n",
            "[I 2024-10-14 00:26:19,017] Trial 52 finished with value: 111293000.0 and parameters: {'num_leaves': 25, 'learning_rate': 0.0556910844434846, 'min_data_in_leaf': 195, 'feature_fraction': 0.278440699039452, 'bagging_fraction': 0.994911214890621, 'max_depth': 9, 'lambda_l1': 1.1665958616759835, 'lambda_l2': 1.2975881680335126, 'min_gain_to_split': 0.2007404282333452, 'bagging_freq': 7}. Best is trial 26 with value: 111475000.0.\n",
            "[I 2024-10-14 00:27:03,549] Trial 53 finished with value: 107772000.0 and parameters: {'num_leaves': 17, 'learning_rate': 0.05424673406912678, 'min_data_in_leaf': 166, 'feature_fraction': 0.2962012323572615, 'bagging_fraction': 0.9959605269641792, 'max_depth': 9, 'lambda_l1': 1.0956480070529038, 'lambda_l2': 1.035633572978926, 'min_gain_to_split': 0.0020141449066641923, 'bagging_freq': 7}. Best is trial 26 with value: 111475000.0.\n",
            "[I 2024-10-14 00:27:54,320] Trial 54 finished with value: 110439000.0 and parameters: {'num_leaves': 26, 'learning_rate': 0.09019937187290394, 'min_data_in_leaf': 64, 'feature_fraction': 0.47288921477525775, 'bagging_fraction': 0.9392711188858482, 'max_depth': 7, 'lambda_l1': 0.4303432843627528, 'lambda_l2': 0.38380483466316484, 'min_gain_to_split': 0.19809073196113958, 'bagging_freq': 6}. Best is trial 26 with value: 111475000.0.\n",
            "[I 2024-10-14 00:28:46,046] Trial 55 finished with value: 106470000.0 and parameters: {'num_leaves': 32, 'learning_rate': 0.0323480564618922, 'min_data_in_leaf': 202, 'feature_fraction': 0.40720521181795755, 'bagging_fraction': 0.9618875461924826, 'max_depth': 8, 'lambda_l1': 7.397082728801575, 'lambda_l2': 1.3471014714089626, 'min_gain_to_split': 0.05324439156327511, 'bagging_freq': 4}. Best is trial 26 with value: 111475000.0.\n",
            "[I 2024-10-14 00:29:25,427] Trial 56 finished with value: 108899000.0 and parameters: {'num_leaves': 23, 'learning_rate': 0.18855416104467854, 'min_data_in_leaf': 281, 'feature_fraction': 0.25296984265676314, 'bagging_fraction': 0.9150976362267955, 'max_depth': 10, 'lambda_l1': 9.931582517895794, 'lambda_l2': 3.0617292689755784, 'min_gain_to_split': 0.14850679982214993, 'bagging_freq': 7}. Best is trial 26 with value: 111475000.0.\n",
            "[I 2024-10-14 00:29:45,743] Trial 57 finished with value: 88158000.0 and parameters: {'num_leaves': 29, 'learning_rate': 0.006818397586971253, 'min_data_in_leaf': 249, 'feature_fraction': 0.1372131968699307, 'bagging_fraction': 0.24454378727356635, 'max_depth': 12, 'lambda_l1': 1.1541777909868975, 'lambda_l2': 2.237282882264334, 'min_gain_to_split': 0.27266114744485953, 'bagging_freq': 7}. Best is trial 26 with value: 111475000.0.\n",
            "[I 2024-10-14 00:30:25,522] Trial 58 finished with value: 109263000.0 and parameters: {'num_leaves': 13, 'learning_rate': 0.07777381246316459, 'min_data_in_leaf': 423, 'feature_fraction': 0.3325959462372029, 'bagging_fraction': 0.8613743899137183, 'max_depth': 14, 'lambda_l1': 2.630018696839562, 'lambda_l2': 3.3895072666250363, 'min_gain_to_split': 0.08325492586894166, 'bagging_freq': 7}. Best is trial 26 with value: 111475000.0.\n",
            "[I 2024-10-14 00:31:07,185] Trial 59 finished with value: 105385000.0 and parameters: {'num_leaves': 22, 'learning_rate': 0.056360414858498534, 'min_data_in_leaf': 355, 'feature_fraction': 0.19080893662265255, 'bagging_fraction': 0.9732933543379292, 'max_depth': 17, 'lambda_l1': 3.9906744486435417, 'lambda_l2': 5.706293321883697, 'min_gain_to_split': 0.03959825818435843, 'bagging_freq': 7}. Best is trial 26 with value: 111475000.0.\n",
            "[I 2024-10-14 00:31:44,803] Trial 60 finished with value: 106148000.0 and parameters: {'num_leaves': 46, 'learning_rate': 0.22583577200287758, 'min_data_in_leaf': 220, 'feature_fraction': 0.9963764635974535, 'bagging_fraction': 0.9984072997164709, 'max_depth': 6, 'lambda_l1': 3.2394486493348924, 'lambda_l2': 6.408697529320299, 'min_gain_to_split': 0.21286830313149363, 'bagging_freq': 7}. Best is trial 26 with value: 111475000.0.\n",
            "[I 2024-10-14 00:32:24,805] Trial 61 finished with value: 107772000.0 and parameters: {'num_leaves': 34, 'learning_rate': 0.04631816870272611, 'min_data_in_leaf': 122, 'feature_fraction': 0.19985517966500102, 'bagging_fraction': 0.8131982078718822, 'max_depth': 19, 'lambda_l1': 1.5524778345222712, 'lambda_l2': 5.012854049585698, 'min_gain_to_split': 0.10786355476702887, 'bagging_freq': 6}. Best is trial 26 with value: 111475000.0.\n",
            "[I 2024-10-14 00:32:53,611] Trial 62 finished with value: 102228000.0 and parameters: {'num_leaves': 17, 'learning_rate': 0.020926115000755707, 'min_data_in_leaf': 508, 'feature_fraction': 0.29137406496304125, 'bagging_fraction': 0.49243661912519954, 'max_depth': 11, 'lambda_l1': 5.172602204431865, 'lambda_l2': 4.107130802117528, 'min_gain_to_split': 0.7993678131458983, 'bagging_freq': 7}. Best is trial 26 with value: 111475000.0.\n",
            "[I 2024-10-14 00:33:35,820] Trial 63 finished with value: 109914000.0 and parameters: {'num_leaves': 27, 'learning_rate': 0.0674250855877246, 'min_data_in_leaf': 285, 'feature_fraction': 0.26171797033195676, 'bagging_fraction': 0.7719297260152884, 'max_depth': 18, 'lambda_l1': 0.32494580703881437, 'lambda_l2': 1.5428721674348678, 'min_gain_to_split': 0.9829446077750901, 'bagging_freq': 6}. Best is trial 26 with value: 111475000.0.\n",
            "[I 2024-10-14 00:34:18,578] Trial 64 finished with value: 109144000.0 and parameters: {'num_leaves': 40, 'learning_rate': 0.08259738983411585, 'min_data_in_leaf': 187, 'feature_fraction': 0.3772757825532783, 'bagging_fraction': 0.7129669605925143, 'max_depth': 13, 'lambda_l1': 2.1608500405072775, 'lambda_l2': 3.7526737673618245, 'min_gain_to_split': 0.2597343414931934, 'bagging_freq': 7}. Best is trial 26 with value: 111475000.0.\n",
            "[I 2024-10-14 00:34:53,367] Trial 65 finished with value: 106792000.0 and parameters: {'num_leaves': 19, 'learning_rate': 0.1874244161579124, 'min_data_in_leaf': 2, 'feature_fraction': 0.12593397394673606, 'bagging_fraction': 0.8913141775831913, 'max_depth': 9, 'lambda_l1': 0.9537656473828641, 'lambda_l2': 4.639043992872422, 'min_gain_to_split': 0.3553666888960225, 'bagging_freq': 7}. Best is trial 26 with value: 111475000.0.\n",
            "[I 2024-10-14 00:35:45,066] Trial 66 finished with value: 108822000.0 and parameters: {'num_leaves': 27, 'learning_rate': 0.09207740674898252, 'min_data_in_leaf': 88, 'feature_fraction': 0.5671919597615349, 'bagging_fraction': 0.9272732137468462, 'max_depth': 6, 'lambda_l1': 0.38612505554386434, 'lambda_l2': 0.019397968519529407, 'min_gain_to_split': 0.18941225890500807, 'bagging_freq': 6}. Best is trial 26 with value: 111475000.0.\n",
            "[I 2024-10-14 00:36:33,011] Trial 67 finished with value: 109900000.0 and parameters: {'num_leaves': 24, 'learning_rate': 0.03931372130797077, 'min_data_in_leaf': 42, 'feature_fraction': 0.49293036450050776, 'bagging_fraction': 0.9440734362022575, 'max_depth': 8, 'lambda_l1': 0.008358961010718202, 'lambda_l2': 2.357679768640782, 'min_gain_to_split': 0.21375779695919206, 'bagging_freq': 7}. Best is trial 26 with value: 111475000.0.\n",
            "[I 2024-10-14 00:37:17,661] Trial 68 finished with value: 109228000.0 and parameters: {'num_leaves': 25, 'learning_rate': 0.11387138122202921, 'min_data_in_leaf': 70, 'feature_fraction': 0.45853486239920566, 'bagging_fraction': 0.8483198132944293, 'max_depth': 6, 'lambda_l1': 0.5337371597589439, 'lambda_l2': 0.5925856167917758, 'min_gain_to_split': 0.13774203371058807, 'bagging_freq': 7}. Best is trial 26 with value: 111475000.0.\n",
            "[I 2024-10-14 00:38:09,091] Trial 69 finished with value: 108227000.0 and parameters: {'num_leaves': 36, 'learning_rate': 0.13866648490483857, 'min_data_in_leaf': 396, 'feature_fraction': 0.41923448181453904, 'bagging_fraction': 0.9660533854396951, 'max_depth': 5, 'lambda_l1': 1.7192917662589524, 'lambda_l2': 0.529440120950207, 'min_gain_to_split': 0.08979718816078866, 'bagging_freq': 6}. Best is trial 26 with value: 111475000.0.\n",
            "[I 2024-10-14 00:38:47,084] Trial 70 finished with value: 110201000.0 and parameters: {'num_leaves': 31, 'learning_rate': 0.08831842506214595, 'min_data_in_leaf': 240, 'feature_fraction': 0.6445018482492456, 'bagging_fraction': 0.927499020165849, 'max_depth': 7, 'lambda_l1': 1.0972373860212363, 'lambda_l2': 2.983401889773289, 'min_gain_to_split': 0.1661153118308576, 'bagging_freq': 7}. Best is trial 26 with value: 111475000.0.\n",
            "[I 2024-10-14 00:39:33,452] Trial 71 finished with value: 109550000.0 and parameters: {'num_leaves': 11, 'learning_rate': 0.1005620898197741, 'min_data_in_leaf': 305, 'feature_fraction': 0.5366637704059497, 'bagging_fraction': 0.9037989133366754, 'max_depth': 7, 'lambda_l1': 1.3194463199956816, 'lambda_l2': 1.9296414600751375, 'min_gain_to_split': 0.03330213152770999, 'bagging_freq': 6}. Best is trial 26 with value: 111475000.0.\n",
            "[I 2024-10-14 00:40:22,077] Trial 72 finished with value: 109263000.0 and parameters: {'num_leaves': 20, 'learning_rate': 0.05481581497155574, 'min_data_in_leaf': 269, 'feature_fraction': 0.4644190554802694, 'bagging_fraction': 0.970267094203695, 'max_depth': 9, 'lambda_l1': 2.311471519261773, 'lambda_l2': 1.452600554150579, 'min_gain_to_split': 0.5242447742063987, 'bagging_freq': 7}. Best is trial 26 with value: 111475000.0.\n",
            "[I 2024-10-14 00:40:54,977] Trial 73 finished with value: 106890000.0 and parameters: {'num_leaves': 17, 'learning_rate': 0.11082581720996279, 'min_data_in_leaf': 362, 'feature_fraction': 0.17550006873726332, 'bagging_fraction': 0.5985970756686279, 'max_depth': 12, 'lambda_l1': 0.7670480788935735, 'lambda_l2': 3.271832570625555, 'min_gain_to_split': 0.06436976765322706, 'bagging_freq': 7}. Best is trial 26 with value: 111475000.0.\n",
            "[I 2024-10-14 00:41:33,812] Trial 74 finished with value: 107436000.0 and parameters: {'num_leaves': 85, 'learning_rate': 0.0633168955621414, 'min_data_in_leaf': 143, 'feature_fraction': 0.24061903773116045, 'bagging_fraction': 0.8838923403254764, 'max_depth': 4, 'lambda_l1': 1.761404287326359, 'lambda_l2': 0.7354204649486338, 'min_gain_to_split': 0.4094223729711497, 'bagging_freq': 6}. Best is trial 26 with value: 111475000.0.\n",
            "[I 2024-10-14 00:42:14,087] Trial 75 finished with value: 111657000.0 and parameters: {'num_leaves': 25, 'learning_rate': 0.12575013751229797, 'min_data_in_leaf': 38, 'feature_fraction': 0.2121193761968057, 'bagging_fraction': 0.9346494904520126, 'max_depth': 16, 'lambda_l1': 3.7795886638623197, 'lambda_l2': 4.943621457878221, 'min_gain_to_split': 0.007324198324190519, 'bagging_freq': 7}. Best is trial 75 with value: 111657000.0.\n",
            "[I 2024-10-14 00:42:56,236] Trial 76 finished with value: 110999000.0 and parameters: {'num_leaves': 25, 'learning_rate': 0.12400437512080167, 'min_data_in_leaf': 40, 'feature_fraction': 0.21327209534268457, 'bagging_fraction': 0.9378813007520655, 'max_depth': 16, 'lambda_l1': 4.7150326309910335, 'lambda_l2': 4.826080783495636, 'min_gain_to_split': 0.007536209587409462, 'bagging_freq': 7}. Best is trial 75 with value: 111657000.0.\n",
            "[I 2024-10-14 00:43:40,900] Trial 77 finished with value: 111797000.0 and parameters: {'num_leaves': 29, 'learning_rate': 0.12248906406184948, 'min_data_in_leaf': 48, 'feature_fraction': 0.2061535150494795, 'bagging_fraction': 0.9994323982470239, 'max_depth': 16, 'lambda_l1': 4.021322348998872, 'lambda_l2': 5.040472759712412, 'min_gain_to_split': 0.005859893689987861, 'bagging_freq': 7}. Best is trial 77 with value: 111797000.0.\n",
            "[I 2024-10-14 00:44:24,918] Trial 78 finished with value: 111797000.0 and parameters: {'num_leaves': 29, 'learning_rate': 0.12222128683159535, 'min_data_in_leaf': 39, 'feature_fraction': 0.22269396737166344, 'bagging_fraction': 0.9983242491799426, 'max_depth': 16, 'lambda_l1': 4.070994913813669, 'lambda_l2': 5.0156183451638015, 'min_gain_to_split': 0.006619523635304658, 'bagging_freq': 7}. Best is trial 77 with value: 111797000.0.\n",
            "[I 2024-10-14 00:45:07,715] Trial 79 finished with value: 106603000.0 and parameters: {'num_leaves': 29, 'learning_rate': 0.14669466088305447, 'min_data_in_leaf': 99, 'feature_fraction': 0.31195912981221574, 'bagging_fraction': 0.9816703582347724, 'max_depth': 14, 'lambda_l1': 3.8955228452176933, 'lambda_l2': 5.172188604017606, 'min_gain_to_split': 0.02848024928214356, 'bagging_freq': 1}. Best is trial 77 with value: 111797000.0.\n",
            "[I 2024-10-14 00:45:48,849] Trial 80 finished with value: 104013000.0 and parameters: {'num_leaves': 34, 'learning_rate': 0.13804857363801748, 'min_data_in_leaf': 26, 'feature_fraction': 0.10897849328776811, 'bagging_fraction': 0.9839330119427768, 'max_depth': 15, 'lambda_l1': 5.477453880750282, 'lambda_l2': 5.663664029845466, 'min_gain_to_split': 0.061140066895323884, 'bagging_freq': 7}. Best is trial 77 with value: 111797000.0.\n",
            "[I 2024-10-14 00:46:33,679] Trial 81 finished with value: 107667000.0 and parameters: {'num_leaves': 32, 'learning_rate': 0.16328681268809403, 'min_data_in_leaf': 177, 'feature_fraction': 0.26578273156252374, 'bagging_fraction': 0.9569404833962175, 'max_depth': 17, 'lambda_l1': 4.262977102254922, 'lambda_l2': 4.495236585180074, 'min_gain_to_split': 0.0009142035662049186, 'bagging_freq': 7}. Best is trial 77 with value: 111797000.0.\n",
            "[I 2024-10-14 00:47:18,035] Trial 82 finished with value: 112903000.0 and parameters: {'num_leaves': 29, 'learning_rate': 0.12673588673604994, 'min_data_in_leaf': 131, 'feature_fraction': 0.2267765241069904, 'bagging_fraction': 0.9994183364057206, 'max_depth': 15, 'lambda_l1': 4.199517903240775, 'lambda_l2': 6.2004061465625355, 'min_gain_to_split': 0.0848761385262409, 'bagging_freq': 7}. Best is trial 82 with value: 112903000.0.\n",
            "[I 2024-10-14 00:48:02,561] Trial 83 finished with value: 106561000.0 and parameters: {'num_leaves': 54, 'learning_rate': 0.15449715140122344, 'min_data_in_leaf': 44, 'feature_fraction': 0.15172081481318767, 'bagging_fraction': 0.902427920026075, 'max_depth': 15, 'lambda_l1': 3.657755550018979, 'lambda_l2': 6.646862185444618, 'min_gain_to_split': 0.08835532080944228, 'bagging_freq': 7}. Best is trial 82 with value: 112903000.0.\n",
            "[I 2024-10-14 00:48:20,204] Trial 84 finished with value: 100982000.0 and parameters: {'num_leaves': 39, 'learning_rate': 0.12327041404285244, 'min_data_in_leaf': 128, 'feature_fraction': 0.23496438074451936, 'bagging_fraction': 0.11272042392021059, 'max_depth': 16, 'lambda_l1': 4.9720058357496475, 'lambda_l2': 5.958829131289134, 'min_gain_to_split': 0.05091587711101127, 'bagging_freq': 7}. Best is trial 82 with value: 112903000.0.\n",
            "[I 2024-10-14 00:49:03,449] Trial 85 finished with value: 106043000.0 and parameters: {'num_leaves': 42, 'learning_rate': 0.10309508721055308, 'min_data_in_leaf': 83, 'feature_fraction': 0.17384400988123716, 'bagging_fraction': 0.9989038521125928, 'max_depth': 18, 'lambda_l1': 4.179697915704637, 'lambda_l2': 6.451345171938935, 'min_gain_to_split': 0.027906337825005553, 'bagging_freq': 6}. Best is trial 82 with value: 112903000.0.\n",
            "[I 2024-10-14 00:49:45,458] Trial 86 finished with value: 114226000.0 and parameters: {'num_leaves': 30, 'learning_rate': 0.13392063393728798, 'min_data_in_leaf': 108, 'feature_fraction': 0.2149465549881287, 'bagging_fraction': 0.9589609264696756, 'max_depth': 14, 'lambda_l1': 3.607985781892989, 'lambda_l2': 4.872535973230757, 'min_gain_to_split': 0.07790820907531035, 'bagging_freq': 7}. Best is trial 86 with value: 114226000.0.\n",
            "[I 2024-10-14 00:50:28,281] Trial 87 finished with value: 111769000.0 and parameters: {'num_leaves': 29, 'learning_rate': 0.12918283702716934, 'min_data_in_leaf': 105, 'feature_fraction': 0.21033385661014795, 'bagging_fraction': 0.9661057950144998, 'max_depth': 15, 'lambda_l1': 3.405318471030252, 'lambda_l2': 5.441850306982116, 'min_gain_to_split': 0.12886124075415367, 'bagging_freq': 7}. Best is trial 86 with value: 114226000.0.\n",
            "[I 2024-10-14 00:51:16,364] Trial 88 finished with value: 108906000.0 and parameters: {'num_leaves': 29, 'learning_rate': 0.13444855481209053, 'min_data_in_leaf': 111, 'feature_fraction': 0.2849923395686888, 'bagging_fraction': 0.9697394973048297, 'max_depth': 14, 'lambda_l1': 3.6005307259644415, 'lambda_l2': 6.966739693962545, 'min_gain_to_split': 0.09199489260312999, 'bagging_freq': 7}. Best is trial 86 with value: 114226000.0.\n",
            "[I 2024-10-14 00:51:57,258] Trial 89 finished with value: 112035000.0 and parameters: {'num_leaves': 35, 'learning_rate': 0.11872672966105988, 'min_data_in_leaf': 160, 'feature_fraction': 0.2137306237550917, 'bagging_fraction': 0.92478084459362, 'max_depth': 16, 'lambda_l1': 3.2183360547147384, 'lambda_l2': 5.484496247919335, 'min_gain_to_split': 0.12231644601898356, 'bagging_freq': 7}. Best is trial 86 with value: 114226000.0.\n",
            "[I 2024-10-14 00:52:39,477] Trial 90 finished with value: 110915000.0 and parameters: {'num_leaves': 38, 'learning_rate': 0.1495725067752737, 'min_data_in_leaf': 158, 'feature_fraction': 0.20910959851201877, 'bagging_fraction': 0.9282828797994588, 'max_depth': 16, 'lambda_l1': 3.3581867064633135, 'lambda_l2': 5.412527229450395, 'min_gain_to_split': 0.1308374929237088, 'bagging_freq': 7}. Best is trial 86 with value: 114226000.0.\n",
            "[I 2024-10-14 00:53:22,762] Trial 91 finished with value: 107058000.0 and parameters: {'num_leaves': 35, 'learning_rate': 0.11433999309810727, 'min_data_in_leaf': 67, 'feature_fraction': 0.1454292859256009, 'bagging_fraction': 0.9501037850681288, 'max_depth': 15, 'lambda_l1': 3.8550196941636647, 'lambda_l2': 6.124861394128164, 'min_gain_to_split': 0.058831280092507966, 'bagging_freq': 7}. Best is trial 86 with value: 114226000.0.\n",
            "[I 2024-10-14 00:54:05,059] Trial 92 finished with value: 110285000.0 and parameters: {'num_leaves': 32, 'learning_rate': 0.1296114451539043, 'min_data_in_leaf': 10, 'feature_fraction': 0.24277426358186247, 'bagging_fraction': 0.9114998012541704, 'max_depth': 14, 'lambda_l1': 2.805247520994869, 'lambda_l2': 5.727978211552362, 'min_gain_to_split': 0.16734733261608292, 'bagging_freq': 7}. Best is trial 86 with value: 114226000.0.\n",
            "[I 2024-10-14 00:54:45,453] Trial 93 finished with value: 110397000.0 and parameters: {'num_leaves': 36, 'learning_rate': 0.09879877418042579, 'min_data_in_leaf': 137, 'feature_fraction': 0.1692136209957916, 'bagging_fraction': 0.9760221649489105, 'max_depth': 15, 'lambda_l1': 4.5276190918089245, 'lambda_l2': 4.996112313855246, 'min_gain_to_split': 0.12158127858661728, 'bagging_freq': 7}. Best is trial 86 with value: 114226000.0.\n",
            "[I 2024-10-14 00:55:32,254] Trial 94 finished with value: 109382000.0 and parameters: {'num_leaves': 95, 'learning_rate': 0.14158550484067825, 'min_data_in_leaf': 83, 'feature_fraction': 0.12667908982107376, 'bagging_fraction': 0.9488835387619229, 'max_depth': 16, 'lambda_l1': 3.1423388331097017, 'lambda_l2': 6.201014042740169, 'min_gain_to_split': 0.02381432443701033, 'bagging_freq': 3}. Best is trial 86 with value: 114226000.0.\n",
            "[I 2024-10-14 00:56:21,279] Trial 95 finished with value: 107450000.0 and parameters: {'num_leaves': 30, 'learning_rate': 0.10797096681393328, 'min_data_in_leaf': 905, 'feature_fraction': 0.18680141873415182, 'bagging_fraction': 0.84149587121047, 'max_depth': 17, 'lambda_l1': 4.171242991592988, 'lambda_l2': 4.926875352506696, 'min_gain_to_split': 0.1499786669521272, 'bagging_freq': 2}. Best is trial 86 with value: 114226000.0.\n",
            "[I 2024-10-14 00:57:05,615] Trial 96 finished with value: 114184000.0 and parameters: {'num_leaves': 27, 'learning_rate': 0.14382787377980108, 'min_data_in_leaf': 198, 'feature_fraction': 0.22760112764681167, 'bagging_fraction': 0.9977347004532958, 'max_depth': 15, 'lambda_l1': 3.523785905846719, 'lambda_l2': 5.269573314188658, 'min_gain_to_split': 0.10699926646267469, 'bagging_freq': 7}. Best is trial 86 with value: 114226000.0.\n",
            "[I 2024-10-14 00:57:47,370] Trial 97 finished with value: 110887000.0 and parameters: {'num_leaves': 27, 'learning_rate': 0.1636691948375749, 'min_data_in_leaf': 38, 'feature_fraction': 0.22147778141602914, 'bagging_fraction': 0.9781722766083225, 'max_depth': 15, 'lambda_l1': 3.6328905565994507, 'lambda_l2': 5.233399762908842, 'min_gain_to_split': 0.07606006051595213, 'bagging_freq': 7}. Best is trial 86 with value: 114226000.0.\n",
            "[I 2024-10-14 00:58:36,614] Trial 98 finished with value: 108773000.0 and parameters: {'num_leaves': 34, 'learning_rate': 0.11829978727415955, 'min_data_in_leaf': 162, 'feature_fraction': 0.25800857579221675, 'bagging_fraction': 0.9998081806658902, 'max_depth': 13, 'lambda_l1': 3.3861827865551, 'lambda_l2': 5.539088973486854, 'min_gain_to_split': 0.10713654166811577, 'bagging_freq': 7}. Best is trial 86 with value: 114226000.0.\n",
            "[I 2024-10-14 00:59:20,121] Trial 99 finished with value: 107695000.0 and parameters: {'num_leaves': 23, 'learning_rate': 0.12577084200009744, 'min_data_in_leaf': 109, 'feature_fraction': 0.31390774050173764, 'bagging_fraction': 0.9187211437358191, 'max_depth': 16, 'lambda_l1': 9.096142732347833, 'lambda_l2': 4.445285690645919, 'min_gain_to_split': 0.027146738329350134, 'bagging_freq': 7}. Best is trial 86 with value: 114226000.0.\n",
            "[I 2024-10-14 01:00:03,067] Trial 100 finished with value: 112070000.0 and parameters: {'num_leaves': 28, 'learning_rate': 0.14962915751613984, 'min_data_in_leaf': 54, 'feature_fraction': 0.23146394876993356, 'bagging_fraction': 0.9571197787879888, 'max_depth': 16, 'lambda_l1': 2.7442052260971623, 'lambda_l2': 4.599501452931296, 'min_gain_to_split': 0.05086503391154265, 'bagging_freq': 7}. Best is trial 86 with value: 114226000.0.\n",
            "[I 2024-10-14 01:00:44,892] Trial 101 finished with value: 110131000.0 and parameters: {'num_leaves': 30, 'learning_rate': 0.1527146724010988, 'min_data_in_leaf': 54, 'feature_fraction': 0.20160625439817073, 'bagging_fraction': 0.9489941004519721, 'max_depth': 14, 'lambda_l1': 2.732896640298973, 'lambda_l2': 4.685708449982838, 'min_gain_to_split': 0.04794255697712475, 'bagging_freq': 7}. Best is trial 86 with value: 114226000.0.\n",
            "[I 2024-10-14 01:01:31,407] Trial 102 finished with value: 108241000.0 and parameters: {'num_leaves': 21, 'learning_rate': 0.14104142842300182, 'min_data_in_leaf': 93, 'feature_fraction': 0.34405353368773023, 'bagging_fraction': 0.8912932011496324, 'max_depth': 16, 'lambda_l1': 3.0341468997036753, 'lambda_l2': 3.887958933099268, 'min_gain_to_split': 0.5981745605091203, 'bagging_freq': 7}. Best is trial 86 with value: 114226000.0.\n",
            "[I 2024-10-14 01:02:11,022] Trial 103 finished with value: 106456000.0 and parameters: {'num_leaves': 28, 'learning_rate': 0.13393168245639658, 'min_data_in_leaf': 28, 'feature_fraction': 0.8981805048150037, 'bagging_fraction': 0.960481398706938, 'max_depth': 15, 'lambda_l1': 4.007446732861969, 'lambda_l2': 5.049881011801342, 'min_gain_to_split': 0.06954247837398138, 'bagging_freq': 6}. Best is trial 86 with value: 114226000.0.\n",
            "[I 2024-10-14 01:02:53,029] Trial 104 finished with value: 110257000.0 and parameters: {'num_leaves': 23, 'learning_rate': 0.12891657342282978, 'min_data_in_leaf': 218, 'feature_fraction': 0.2306379003208755, 'bagging_fraction': 0.9299603352131258, 'max_depth': 14, 'lambda_l1': 3.739486955834802, 'lambda_l2': 5.857071076552238, 'min_gain_to_split': 0.002963187721029985, 'bagging_freq': 7}. Best is trial 86 with value: 114226000.0.\n",
            "[I 2024-10-14 01:03:34,785] Trial 105 finished with value: 106183000.0 and parameters: {'num_leaves': 33, 'learning_rate': 0.17155178057016687, 'min_data_in_leaf': 2, 'feature_fraction': 0.713820974319267, 'bagging_fraction': 0.8695921591889689, 'max_depth': 13, 'lambda_l1': 3.402331701666996, 'lambda_l2': 5.294254613113579, 'min_gain_to_split': 0.12588143931269716, 'bagging_freq': 7}. Best is trial 86 with value: 114226000.0.\n",
            "[I 2024-10-14 01:04:17,635] Trial 106 finished with value: 111055000.0 and parameters: {'num_leaves': 26, 'learning_rate': 0.1194131804748083, 'min_data_in_leaf': 147, 'feature_fraction': 0.17924726896027582, 'bagging_fraction': 0.9827785443637812, 'max_depth': 17, 'lambda_l1': 2.3998641545086494, 'lambda_l2': 4.1247679686982055, 'min_gain_to_split': 0.10468848408504858, 'bagging_freq': 7}. Best is trial 86 with value: 114226000.0.\n",
            "[I 2024-10-14 01:05:02,308] Trial 107 finished with value: 106407000.0 and parameters: {'num_leaves': 31, 'learning_rate': 0.14608926979738174, 'min_data_in_leaf': 125, 'feature_fraction': 0.2540058210014482, 'bagging_fraction': 0.9640961609504564, 'max_depth': 16, 'lambda_l1': 4.76216751359822, 'lambda_l2': 4.425276868639032, 'min_gain_to_split': 0.05151978479793072, 'bagging_freq': 7}. Best is trial 86 with value: 114226000.0.\n",
            "[I 2024-10-14 01:05:44,402] Trial 108 finished with value: 111279000.0 and parameters: {'num_leaves': 28, 'learning_rate': 0.11181476850796043, 'min_data_in_leaf': 71, 'feature_fraction': 0.20865856023725424, 'bagging_fraction': 0.9358678904384962, 'max_depth': 17, 'lambda_l1': 4.368170556140408, 'lambda_l2': 3.645945681693548, 'min_gain_to_split': 0.08850524958949481, 'bagging_freq': 7}. Best is trial 86 with value: 114226000.0.\n",
            "[I 2024-10-14 01:06:36,831] Trial 109 finished with value: 108017000.0 and parameters: {'num_leaves': 57, 'learning_rate': 0.13663149527086565, 'min_data_in_leaf': 182, 'feature_fraction': 0.28066101205440486, 'bagging_fraction': 0.980746357094984, 'max_depth': 15, 'lambda_l1': 3.4409667115485956, 'lambda_l2': 5.501391156178434, 'min_gain_to_split': 0.15184736835849727, 'bagging_freq': 7}. Best is trial 86 with value: 114226000.0.\n",
            "[I 2024-10-14 01:07:20,568] Trial 110 finished with value: 111468000.0 and parameters: {'num_leaves': 37, 'learning_rate': 0.09416169395176804, 'min_data_in_leaf': 56, 'feature_fraction': 0.22942968198872768, 'bagging_fraction': 0.9147958980358188, 'max_depth': 16, 'lambda_l1': 4.078180392352751, 'lambda_l2': 4.625295667570318, 'min_gain_to_split': 0.02112664465558199, 'bagging_freq': 6}. Best is trial 86 with value: 114226000.0.\n",
            "[I 2024-10-14 01:07:49,150] Trial 111 finished with value: 108108000.0 and parameters: {'num_leaves': 36, 'learning_rate': 0.1582535212655166, 'min_data_in_leaf': 59, 'feature_fraction': 0.1524758069011975, 'bagging_fraction': 0.3999298470152879, 'max_depth': 16, 'lambda_l1': 4.08950333784769, 'lambda_l2': 4.69022291022331, 'min_gain_to_split': 0.019410531147101964, 'bagging_freq': 6}. Best is trial 86 with value: 114226000.0.\n",
            "[I 2024-10-14 01:08:35,379] Trial 112 finished with value: 109319000.0 and parameters: {'num_leaves': 69, 'learning_rate': 0.09412063849883034, 'min_data_in_leaf': 104, 'feature_fraction': 0.2316526664712213, 'bagging_fraction': 0.9146620411487694, 'max_depth': 15, 'lambda_l1': 3.7917539961348607, 'lambda_l2': 4.8346842908190455, 'min_gain_to_split': 0.04045372307184935, 'bagging_freq': 7}. Best is trial 86 with value: 114226000.0.\n",
            "[I 2024-10-14 01:09:22,115] Trial 113 finished with value: 100807000.0 and parameters: {'num_leaves': 24, 'learning_rate': 0.29418529854733605, 'min_data_in_leaf': 18, 'feature_fraction': 0.29960023282723686, 'bagging_fraction': 0.9546806759483789, 'max_depth': 16, 'lambda_l1': 3.2217333804223705, 'lambda_l2': 5.076733368730056, 'min_gain_to_split': 0.0730217751550702, 'bagging_freq': 6}. Best is trial 86 with value: 114226000.0.\n",
            "[I 2024-10-14 01:09:58,861] Trial 114 finished with value: 106995000.0 and parameters: {'num_leaves': 47, 'learning_rate': 0.12682991624607004, 'min_data_in_leaf': 672, 'feature_fraction': 0.12961020225940387, 'bagging_fraction': 0.8201852941048958, 'max_depth': 14, 'lambda_l1': 4.947132532085201, 'lambda_l2': 4.027969660380133, 'min_gain_to_split': 0.010390996154411823, 'bagging_freq': 7}. Best is trial 86 with value: 114226000.0.\n",
            "[I 2024-10-14 01:10:33,782] Trial 115 finished with value: 108542000.0 and parameters: {'num_leaves': 45, 'learning_rate': 0.10632628258907734, 'min_data_in_leaf': 52, 'feature_fraction': 0.35931797184871755, 'bagging_fraction': 0.5348565652290362, 'max_depth': 15, 'lambda_l1': 4.63927640775346, 'lambda_l2': 6.216755000143247, 'min_gain_to_split': 0.040146845678940474, 'bagging_freq': 6}. Best is trial 86 with value: 114226000.0.\n",
            "[I 2024-10-14 01:11:16,424] Trial 116 finished with value: 110481000.0 and parameters: {'num_leaves': 38, 'learning_rate': 0.1188672341941129, 'min_data_in_leaf': 83, 'feature_fraction': 0.1967295391494756, 'bagging_fraction': 0.9759379045658674, 'max_depth': 18, 'lambda_l1': 4.403680553291235, 'lambda_l2': 4.313537027456162, 'min_gain_to_split': 0.09974858393505456, 'bagging_freq': 7}. Best is trial 86 with value: 114226000.0.\n",
            "[I 2024-10-14 01:12:01,549] Trial 117 finished with value: 108892000.0 and parameters: {'num_leaves': 33, 'learning_rate': 0.14295267627656782, 'min_data_in_leaf': 126, 'feature_fraction': 0.22057071472777534, 'bagging_fraction': 0.9407945999041109, 'max_depth': 17, 'lambda_l1': 3.495828163272445, 'lambda_l2': 4.548908256733619, 'min_gain_to_split': 0.06903933937893393, 'bagging_freq': 7}. Best is trial 86 with value: 114226000.0.\n",
            "[I 2024-10-14 01:12:43,662] Trial 118 finished with value: 99890000.0 and parameters: {'num_leaves': 26, 'learning_rate': 0.014960706766012466, 'min_data_in_leaf': 198, 'feature_fraction': 0.24942478326743728, 'bagging_fraction': 0.9891447306883038, 'max_depth': 17, 'lambda_l1': 2.9317165354101204, 'lambda_l2': 5.340149094622336, 'min_gain_to_split': 0.18046977568274347, 'bagging_freq': 7}. Best is trial 86 with value: 114226000.0.\n",
            "[I 2024-10-14 01:13:27,599] Trial 119 finished with value: 108948000.0 and parameters: {'num_leaves': 31, 'learning_rate': 0.15160438780969127, 'min_data_in_leaf': 169, 'feature_fraction': 0.2620841857093503, 'bagging_fraction': 0.9246808196636687, 'max_depth': 16, 'lambda_l1': 2.023170997287029, 'lambda_l2': 5.646541368544057, 'min_gain_to_split': 0.120406237603329, 'bagging_freq': 7}. Best is trial 86 with value: 114226000.0.\n",
            "[I 2024-10-14 01:14:09,279] Trial 120 finished with value: 108598000.0 and parameters: {'num_leaves': 51, 'learning_rate': 0.08182181286895907, 'min_data_in_leaf': 26, 'feature_fraction': 0.16837095055367543, 'bagging_fraction': 0.8964252331137995, 'max_depth': 16, 'lambda_l1': 3.954595403112269, 'lambda_l2': 4.274154446247337, 'min_gain_to_split': 0.019486787148182978, 'bagging_freq': 7}. Best is trial 86 with value: 114226000.0.\n",
            "[I 2024-10-14 01:14:45,470] Trial 121 finished with value: 106750000.0 and parameters: {'num_leaves': 29, 'learning_rate': 0.13351157625565815, 'min_data_in_leaf': 93, 'feature_fraction': 0.19119732137573936, 'bagging_fraction': 0.9618560030028938, 'max_depth': 13, 'lambda_l1': 5.184875057180467, 'lambda_l2': 4.851521495096969, 'min_gain_to_split': 0.1404961483192191, 'bagging_freq': 7}. Best is trial 86 with value: 114226000.0.\n",
            "[I 2024-10-14 01:15:34,109] Trial 122 finished with value: 110453000.0 and parameters: {'num_leaves': 40, 'learning_rate': 0.1147385108443874, 'min_data_in_leaf': 151, 'feature_fraction': 0.27285864226061957, 'bagging_fraction': 0.9956123346561063, 'max_depth': 15, 'lambda_l1': 3.1351931848542263, 'lambda_l2': 9.349609026410098, 'min_gain_to_split': 0.05515548062830439, 'bagging_freq': 7}. Best is trial 86 with value: 114226000.0.\n",
            "[I 2024-10-14 01:16:14,783] Trial 123 finished with value: 108234000.0 and parameters: {'num_leaves': 28, 'learning_rate': 0.1235934131325515, 'min_data_in_leaf': 66, 'feature_fraction': 0.2166213125906644, 'bagging_fraction': 0.876711144893931, 'max_depth': 15, 'lambda_l1': 3.7633584420254387, 'lambda_l2': 5.934022501944597, 'min_gain_to_split': 0.7149504268998021, 'bagging_freq': 5}. Best is trial 86 with value: 114226000.0.\n",
            "[I 2024-10-14 01:16:46,688] Trial 124 finished with value: 108024000.0 and parameters: {'num_leaves': 20, 'learning_rate': 0.16373664666035082, 'min_data_in_leaf': 258, 'feature_fraction': 0.2461289431781333, 'bagging_fraction': 0.6660880870659264, 'max_depth': 12, 'lambda_l1': 4.117472740215448, 'lambda_l2': 5.170192980960186, 'min_gain_to_split': 0.0925094632831756, 'bagging_freq': 7}. Best is trial 86 with value: 114226000.0.\n",
            "[I 2024-10-14 01:17:35,242] Trial 125 finished with value: 111356000.0 and parameters: {'num_leaves': 35, 'learning_rate': 0.07181051583228004, 'min_data_in_leaf': 113, 'feature_fraction': 0.32305708484764034, 'bagging_fraction': 0.9430966766854889, 'max_depth': 14, 'lambda_l1': 2.4913613618641675, 'lambda_l2': 5.41636763550405, 'min_gain_to_split': 0.023332821871404733, 'bagging_freq': 7}. Best is trial 86 with value: 114226000.0.\n",
            "[I 2024-10-14 01:18:22,890] Trial 126 finished with value: 111125000.0 and parameters: {'num_leaves': 35, 'learning_rate': 0.06859988178955373, 'min_data_in_leaf': 119, 'feature_fraction': 0.3310738860393035, 'bagging_fraction': 0.9602832212911223, 'max_depth': 14, 'lambda_l1': 2.7574562926977886, 'lambda_l2': 5.430140109324367, 'min_gain_to_split': 0.0010712743895966263, 'bagging_freq': 7}. Best is trial 86 with value: 114226000.0.\n",
            "[I 2024-10-14 01:19:08,970] Trial 127 finished with value: 112966000.0 and parameters: {'num_leaves': 32, 'learning_rate': 0.10767901076444883, 'min_data_in_leaf': 209, 'feature_fraction': 0.23374863078334726, 'bagging_fraction': 0.940691401498469, 'max_depth': 14, 'lambda_l1': 2.5305656072657343, 'lambda_l2': 4.636026581274888, 'min_gain_to_split': 0.03916260001642036, 'bagging_freq': 4}. Best is trial 86 with value: 114226000.0.\n",
            "[I 2024-10-14 01:19:57,255] Trial 128 finished with value: 113974000.0 and parameters: {'num_leaves': 32, 'learning_rate': 0.11116520900470908, 'min_data_in_leaf': 212, 'feature_fraction': 0.2314642017983159, 'bagging_fraction': 0.9987241432742828, 'max_depth': 16, 'lambda_l1': 3.20297523232721, 'lambda_l2': 4.611443135690804, 'min_gain_to_split': 0.06850746440011171, 'bagging_freq': 4}. Best is trial 86 with value: 114226000.0.\n",
            "[I 2024-10-14 01:20:37,096] Trial 129 finished with value: 107478000.0 and parameters: {'num_leaves': 26, 'learning_rate': 0.10326653685814337, 'min_data_in_leaf': 213, 'feature_fraction': 0.15932625813490797, 'bagging_fraction': 0.999970550720013, 'max_depth': 16, 'lambda_l1': 3.2689812251628916, 'lambda_l2': 4.868866064447674, 'min_gain_to_split': 0.04515037485234052, 'bagging_freq': 4}. Best is trial 86 with value: 114226000.0.\n",
            "[I 2024-10-14 01:21:20,444] Trial 130 finished with value: 109417000.0 and parameters: {'num_leaves': 32, 'learning_rate': 0.11057866250693345, 'min_data_in_leaf': 184, 'feature_fraction': 0.20369533273948834, 'bagging_fraction': 0.9172643130880406, 'max_depth': 15, 'lambda_l1': 2.6445032645258495, 'lambda_l2': 4.736643874691286, 'min_gain_to_split': 0.06600701028525001, 'bagging_freq': 4}. Best is trial 86 with value: 114226000.0.\n",
            "[I 2024-10-14 01:22:05,478] Trial 131 finished with value: 112301000.0 and parameters: {'num_leaves': 24, 'learning_rate': 0.11828263542399095, 'min_data_in_leaf': 141, 'feature_fraction': 0.23774601545913662, 'bagging_fraction': 0.9770772451486828, 'max_depth': 16, 'lambda_l1': 3.6226344064161466, 'lambda_l2': 4.519874277326553, 'min_gain_to_split': 0.08054060000327666, 'bagging_freq': 4}. Best is trial 86 with value: 114226000.0.\n",
            "[I 2024-10-14 01:22:57,306] Trial 132 finished with value: 108871000.0 and parameters: {'num_leaves': 23, 'learning_rate': 0.13850474299695925, 'min_data_in_leaf': 245, 'feature_fraction': 0.29594565370749804, 'bagging_fraction': 0.9776864495136438, 'max_depth': 14, 'lambda_l1': 2.989402658899956, 'lambda_l2': 5.024878194452817, 'min_gain_to_split': 0.07751861903061862, 'bagging_freq': 4}. Best is trial 86 with value: 114226000.0.\n",
            "[I 2024-10-14 01:23:43,268] Trial 133 finished with value: 107429000.0 and parameters: {'num_leaves': 25, 'learning_rate': 0.12989275679750967, 'min_data_in_leaf': 143, 'feature_fraction': 0.2700954755177529, 'bagging_fraction': 0.9686945871337902, 'max_depth': 13, 'lambda_l1': 3.5390123454103253, 'lambda_l2': 4.041991125029302, 'min_gain_to_split': 0.10701821649314824, 'bagging_freq': 4}. Best is trial 86 with value: 114226000.0.\n",
            "[I 2024-10-14 01:24:10,396] Trial 134 finished with value: 106372000.0 and parameters: {'num_leaves': 29, 'learning_rate': 0.12095961110485523, 'min_data_in_leaf': 215, 'feature_fraction': 0.24139997831813434, 'bagging_fraction': 0.2914957432813521, 'max_depth': 15, 'lambda_l1': 3.1458061595370816, 'lambda_l2': 4.36560650243838, 'min_gain_to_split': 0.04382519302971638, 'bagging_freq': 4}. Best is trial 86 with value: 114226000.0.\n",
            "[I 2024-10-14 01:24:53,450] Trial 135 finished with value: 109893000.0 and parameters: {'num_leaves': 22, 'learning_rate': 0.14614579945697265, 'min_data_in_leaf': 171, 'feature_fraction': 0.19382065528796413, 'bagging_fraction': 0.9486163134214961, 'max_depth': 17, 'lambda_l1': 2.255636311286756, 'lambda_l2': 8.03295779918863, 'min_gain_to_split': 0.08911938032505881, 'bagging_freq': 4}. Best is trial 86 with value: 114226000.0.\n",
            "[I 2024-10-14 01:25:38,742] Trial 136 finished with value: 111993000.0 and parameters: {'num_leaves': 30, 'learning_rate': 0.11467476474482644, 'min_data_in_leaf': 49, 'feature_fraction': 0.22013095172008507, 'bagging_fraction': 0.9825610568805501, 'max_depth': 16, 'lambda_l1': 3.8779853124174632, 'lambda_l2': 4.570503950722823, 'min_gain_to_split': 0.027592656372376838, 'bagging_freq': 4}. Best is trial 86 with value: 114226000.0.\n",
            "[I 2024-10-14 01:26:21,755] Trial 137 finished with value: 109760000.0 and parameters: {'num_leaves': 30, 'learning_rate': 0.11554068801729878, 'min_data_in_leaf': 93, 'feature_fraction': 0.18158984561815691, 'bagging_fraction': 0.9992510434346135, 'max_depth': 16, 'lambda_l1': 3.7186893054069494, 'lambda_l2': 5.218096896873698, 'min_gain_to_split': 0.06399172530286874, 'bagging_freq': 4}. Best is trial 86 with value: 114226000.0.\n",
            "[I 2024-10-14 01:27:04,054] Trial 138 finished with value: 111629000.0 and parameters: {'num_leaves': 27, 'learning_rate': 0.1067214859158493, 'min_data_in_leaf': 35, 'feature_fraction': 0.2159561053998811, 'bagging_fraction': 0.9714564304170583, 'max_depth': 15, 'lambda_l1': 3.468195547813963, 'lambda_l2': 4.597573266205357, 'min_gain_to_split': 0.03790272891283944, 'bagging_freq': 4}. Best is trial 86 with value: 114226000.0.\n",
            "[I 2024-10-14 01:27:46,758] Trial 139 finished with value: 113134000.0 and parameters: {'num_leaves': 27, 'learning_rate': 0.1062619173445685, 'min_data_in_leaf': 45, 'feature_fraction': 0.2223079528056943, 'bagging_fraction': 0.9781358599495688, 'max_depth': 15, 'lambda_l1': 3.5095085813187037, 'lambda_l2': 4.5060274587583, 'min_gain_to_split': 0.1215490932607814, 'bagging_freq': 4}. Best is trial 86 with value: 114226000.0.\n",
            "[I 2024-10-14 01:28:34,644] Trial 140 finished with value: 113309000.0 and parameters: {'num_leaves': 33, 'learning_rate': 0.12602815234384634, 'min_data_in_leaf': 4, 'feature_fraction': 0.23021709632163762, 'bagging_fraction': 0.9392924557379503, 'max_depth': 16, 'lambda_l1': 3.9043559826818326, 'lambda_l2': 4.9692801566380105, 'min_gain_to_split': 0.12471490319319713, 'bagging_freq': 4}. Best is trial 86 with value: 114226000.0.\n",
            "[I 2024-10-14 01:29:22,323] Trial 141 finished with value: 110019000.0 and parameters: {'num_leaves': 33, 'learning_rate': 0.09761621226961499, 'min_data_in_leaf': 20, 'feature_fraction': 0.25767001481343094, 'bagging_fraction': 0.9544001464888253, 'max_depth': 17, 'lambda_l1': 4.393556309191144, 'lambda_l2': 5.786843529799887, 'min_gain_to_split': 0.1334426458745707, 'bagging_freq': 4}. Best is trial 86 with value: 114226000.0.\n",
            "[I 2024-10-14 01:30:09,224] Trial 142 finished with value: 110621000.0 and parameters: {'num_leaves': 31, 'learning_rate': 0.11461945190615735, 'min_data_in_leaf': 79, 'feature_fraction': 0.23246483002157, 'bagging_fraction': 0.982792344254381, 'max_depth': 16, 'lambda_l1': 3.9344428996337957, 'lambda_l2': 4.493663615666027, 'min_gain_to_split': 0.166896204656518, 'bagging_freq': 3}. Best is trial 86 with value: 114226000.0.\n",
            "[I 2024-10-14 01:30:54,594] Trial 143 finished with value: 106995000.0 and parameters: {'num_leaves': 30, 'learning_rate': 0.13109799562806895, 'min_data_in_leaf': 8, 'feature_fraction': 0.17897874895166793, 'bagging_fraction': 0.9350619661120576, 'max_depth': 15, 'lambda_l1': 2.8637625290352933, 'lambda_l2': 5.176846280725208, 'min_gain_to_split': 0.11818385889784812, 'bagging_freq': 4}. Best is trial 86 with value: 114226000.0.\n",
            "[I 2024-10-14 01:31:41,843] Trial 144 finished with value: 110229000.0 and parameters: {'num_leaves': 34, 'learning_rate': 0.10255485505668147, 'min_data_in_leaf': 133, 'feature_fraction': 0.282230510506302, 'bagging_fraction': 0.9821567419696453, 'max_depth': 16, 'lambda_l1': 3.2391499586992865, 'lambda_l2': 6.849343948732066, 'min_gain_to_split': 0.47582063534624774, 'bagging_freq': 4}. Best is trial 86 with value: 114226000.0.\n",
            "[I 2024-10-14 01:32:26,418] Trial 145 finished with value: 110236000.0 and parameters: {'num_leaves': 27, 'learning_rate': 0.12042826769240285, 'min_data_in_leaf': 47, 'feature_fraction': 0.24219229403377032, 'bagging_fraction': 0.8999182838317477, 'max_depth': 15, 'lambda_l1': 4.238503242547127, 'lambda_l2': 4.193481502306435, 'min_gain_to_split': 0.2389150326081368, 'bagging_freq': 3}. Best is trial 86 with value: 114226000.0.\n",
            "[I 2024-10-14 01:33:06,363] Trial 146 finished with value: 113337000.0 and parameters: {'num_leaves': 24, 'learning_rate': 0.12416803599447894, 'min_data_in_leaf': 68, 'feature_fraction': 0.20729471863800833, 'bagging_fraction': 0.9336315226140278, 'max_depth': 16, 'lambda_l1': 3.678173654767768, 'lambda_l2': 4.928253706224585, 'min_gain_to_split': 0.14769482319717825, 'bagging_freq': 4}. Best is trial 86 with value: 114226000.0.\n",
            "[I 2024-10-14 01:33:55,275] Trial 147 finished with value: 108437000.0 and parameters: {'num_leaves': 29, 'learning_rate': 0.10962425867051034, 'min_data_in_leaf': 72, 'feature_fraction': 0.20554332523164845, 'bagging_fraction': 0.9601858047203984, 'max_depth': 17, 'lambda_l1': 3.595004708034557, 'lambda_l2': 4.832176016514523, 'min_gain_to_split': 0.12467463750958087, 'bagging_freq': 4}. Best is trial 86 with value: 114226000.0.\n",
            "[I 2024-10-14 01:34:35,206] Trial 148 finished with value: 109648000.0 and parameters: {'num_leaves': 24, 'learning_rate': 0.1264599134321879, 'min_data_in_leaf': 107, 'feature_fraction': 0.14194319995795038, 'bagging_fraction': 0.9991448433988358, 'max_depth': 16, 'lambda_l1': 3.4035228089799725, 'lambda_l2': 5.604921465382207, 'min_gain_to_split': 0.14099118106197728, 'bagging_freq': 4}. Best is trial 86 with value: 114226000.0.\n",
            "[I 2024-10-14 01:35:16,323] Trial 149 finished with value: 109543000.0 and parameters: {'num_leaves': 32, 'learning_rate': 0.1353273997511273, 'min_data_in_leaf': 1, 'feature_fraction': 0.2294976335457995, 'bagging_fraction': 0.941574568809646, 'max_depth': 16, 'lambda_l1': 3.079539820478602, 'lambda_l2': 5.021515346176997, 'min_gain_to_split': 0.09626809891640231, 'bagging_freq': 5}. Best is trial 86 with value: 114226000.0.\n",
            "[I 2024-10-14 01:35:57,659] Trial 150 finished with value: 105378000.0 and parameters: {'num_leaves': 21, 'learning_rate': 0.11994998368472018, 'min_data_in_leaf': 62, 'feature_fraction': 0.16527884089735947, 'bagging_fraction': 0.971863086634511, 'max_depth': 15, 'lambda_l1': 3.8804487812022526, 'lambda_l2': 4.637335429060222, 'min_gain_to_split': 0.7527294934044962, 'bagging_freq': 4}. Best is trial 86 with value: 114226000.0.\n",
            "[I 2024-10-14 01:36:35,089] Trial 151 finished with value: 107436000.0 and parameters: {'num_leaves': 19, 'learning_rate': 0.11287544821591176, 'min_data_in_leaf': 32, 'feature_fraction': 0.18583549487855594, 'bagging_fraction': 0.9244482494979583, 'max_depth': 16, 'lambda_l1': 3.6123785018864227, 'lambda_l2': 4.416696363588449, 'min_gain_to_split': 0.15961032457291213, 'bagging_freq': 4}. Best is trial 86 with value: 114226000.0.\n",
            "[I 2024-10-14 01:37:19,771] Trial 152 finished with value: 108871000.0 and parameters: {'num_leaves': 27, 'learning_rate': 0.13882400152312094, 'min_data_in_leaf': 93, 'feature_fraction': 0.22099350085770375, 'bagging_fraction': 0.9563159432784815, 'max_depth': 17, 'lambda_l1': 2.570448774831263, 'lambda_l2': 3.8568061734394177, 'min_gain_to_split': 0.198013311682408, 'bagging_freq': 4}. Best is trial 86 with value: 114226000.0.\n",
            "[I 2024-10-14 01:38:05,734] Trial 153 finished with value: 107310000.0 and parameters: {'num_leaves': 24, 'learning_rate': 0.12797559414303597, 'min_data_in_leaf': 144, 'feature_fraction': 0.26196975215376117, 'bagging_fraction': 0.98273369343272, 'max_depth': 15, 'lambda_l1': 4.581930344032891, 'lambda_l2': 5.328416317956369, 'min_gain_to_split': 0.08638518781256896, 'bagging_freq': 4}. Best is trial 86 with value: 114226000.0.\n",
            "[I 2024-10-14 01:38:48,932] Trial 154 finished with value: 110936000.0 and parameters: {'num_leaves': 31, 'learning_rate': 0.10753151380946882, 'min_data_in_leaf': 50, 'feature_fraction': 0.2020460379923499, 'bagging_fraction': 0.9101579070220805, 'max_depth': 17, 'lambda_l1': 3.288075667338278, 'lambda_l2': 4.829588856158022, 'min_gain_to_split': 0.11134055450617605, 'bagging_freq': 4}. Best is trial 86 with value: 114226000.0.\n",
            "[I 2024-10-14 01:39:32,570] Trial 155 finished with value: 110138000.0 and parameters: {'num_leaves': 37, 'learning_rate': 0.0984967613255481, 'min_data_in_leaf': 119, 'feature_fraction': 0.24485741703180147, 'bagging_fraction': 0.9327853768081608, 'max_depth': 15, 'lambda_l1': 3.8156859265632477, 'lambda_l2': 5.100466572095989, 'min_gain_to_split': 0.18154164553638993, 'bagging_freq': 4}. Best is trial 86 with value: 114226000.0.\n",
            "[I 2024-10-14 01:40:16,443] Trial 156 finished with value: 112868000.0 and parameters: {'num_leaves': 25, 'learning_rate': 0.12533038658669085, 'min_data_in_leaf': 32, 'feature_fraction': 0.2100235790954572, 'bagging_fraction': 0.9450694128596256, 'max_depth': 16, 'lambda_l1': 4.015713548293758, 'lambda_l2': 4.946296325780177, 'min_gain_to_split': 0.06713086530812606, 'bagging_freq': 3}. Best is trial 86 with value: 114226000.0.\n",
            "[I 2024-10-14 01:41:03,992] Trial 157 finished with value: 110089000.0 and parameters: {'num_leaves': 28, 'learning_rate': 0.12393900765589354, 'min_data_in_leaf': 820, 'feature_fraction': 0.2157065958258239, 'bagging_fraction': 0.9645487437182075, 'max_depth': 16, 'lambda_l1': 4.042297201544612, 'lambda_l2': 4.690456005844803, 'min_gain_to_split': 0.07082197016382495, 'bagging_freq': 3}. Best is trial 86 with value: 114226000.0.\n",
            "[I 2024-10-14 01:41:50,589] Trial 158 finished with value: 108402000.0 and parameters: {'num_leaves': 26, 'learning_rate': 0.1168946615507756, 'min_data_in_leaf': 22, 'feature_fraction': 0.19328667853981543, 'bagging_fraction': 0.9473578782656835, 'max_depth': 16, 'lambda_l1': 3.560929891644503, 'lambda_l2': 4.9646850864191645, 'min_gain_to_split': 0.05560220010239006, 'bagging_freq': 2}. Best is trial 86 with value: 114226000.0.\n",
            "[I 2024-10-14 01:42:36,535] Trial 159 finished with value: 107093000.0 and parameters: {'num_leaves': 33, 'learning_rate': 0.14320835651776373, 'min_data_in_leaf': 74, 'feature_fraction': 0.25532151519507795, 'bagging_fraction': 0.9837299070616906, 'max_depth': 14, 'lambda_l1': 4.291823258682773, 'lambda_l2': 5.558747855298922, 'min_gain_to_split': 0.14309159258713172, 'bagging_freq': 5}. Best is trial 86 with value: 114226000.0.\n",
            "[I 2024-10-14 01:43:18,983] Trial 160 finished with value: 109333000.0 and parameters: {'num_leaves': 15, 'learning_rate': 0.1346864494195824, 'min_data_in_leaf': 51, 'feature_fraction': 0.23250309525166132, 'bagging_fraction': 0.9994931420296735, 'max_depth': 16, 'lambda_l1': 3.766493360221932, 'lambda_l2': 4.317566386702825, 'min_gain_to_split': 0.08263124916753133, 'bagging_freq': 3}. Best is trial 86 with value: 114226000.0.\n",
            "[I 2024-10-14 01:44:02,674] Trial 161 finished with value: 111783000.0 and parameters: {'num_leaves': 29, 'learning_rate': 0.08807666734975717, 'min_data_in_leaf': 161, 'feature_fraction': 0.7871863271437092, 'bagging_fraction': 0.9675071131239761, 'max_depth': 15, 'lambda_l1': 2.955965953085666, 'lambda_l2': 4.511869835956824, 'min_gain_to_split': 0.10283605245303984, 'bagging_freq': 4}. Best is trial 86 with value: 114226000.0.\n",
            "[I 2024-10-14 01:44:44,302] Trial 162 finished with value: 109669000.0 and parameters: {'num_leaves': 22, 'learning_rate': 0.08680439952106919, 'min_data_in_leaf': 184, 'feature_fraction': 0.7762170711662831, 'bagging_fraction': 0.8994261902609406, 'max_depth': 15, 'lambda_l1': 2.915860489686498, 'lambda_l2': 4.54178671042789, 'min_gain_to_split': 0.031624413493416784, 'bagging_freq': 3}. Best is trial 86 with value: 114226000.0.\n",
            "[I 2024-10-14 01:45:27,049] Trial 163 finished with value: 109102000.0 and parameters: {'num_leaves': 30, 'learning_rate': 0.093258429910299, 'min_data_in_leaf': 230, 'feature_fraction': 0.6445402179857014, 'bagging_fraction': 0.941772065074876, 'max_depth': 16, 'lambda_l1': 4.189579693640331, 'lambda_l2': 4.227856309512488, 'min_gain_to_split': 0.10019299302243515, 'bagging_freq': 5}. Best is trial 86 with value: 114226000.0.\n",
            "[I 2024-10-14 01:46:00,807] Trial 164 finished with value: 107660000.0 and parameters: {'num_leaves': 25, 'learning_rate': 0.10511602899423095, 'min_data_in_leaf': 35, 'feature_fraction': 0.9096618599556362, 'bagging_fraction': 0.9803445234501255, 'max_depth': 17, 'lambda_l1': 3.9622255562467843, 'lambda_l2': 4.027958385393505, 'min_gain_to_split': 0.05723647912227245, 'bagging_freq': 1}. Best is trial 86 with value: 114226000.0.\n",
            "[I 2024-10-14 01:46:45,808] Trial 165 finished with value: 107604000.0 and parameters: {'num_leaves': 28, 'learning_rate': 0.07953473392513188, 'min_data_in_leaf': 164, 'feature_fraction': 0.2870851823234991, 'bagging_fraction': 0.9274140697413595, 'max_depth': 14, 'lambda_l1': 2.762875502597355, 'lambda_l2': 4.803422910987046, 'min_gain_to_split': 0.9068956236420501, 'bagging_freq': 4}. Best is trial 86 with value: 114226000.0.\n",
            "[I 2024-10-14 01:47:29,896] Trial 166 finished with value: 111153000.0 and parameters: {'num_leaves': 31, 'learning_rate': 0.13068034489541372, 'min_data_in_leaf': 101, 'feature_fraction': 0.20533168911791833, 'bagging_fraction': 0.9618545811860768, 'max_depth': 15, 'lambda_l1': 3.2591055491190577, 'lambda_l2': 5.238619438583642, 'min_gain_to_split': 0.12088054680158614, 'bagging_freq': 4}. Best is trial 86 with value: 114226000.0.\n",
            "[I 2024-10-14 01:48:17,609] Trial 167 finished with value: 111664000.0 and parameters: {'num_leaves': 29, 'learning_rate': 0.12165256091252964, 'min_data_in_leaf': 202, 'feature_fraction': 0.219999982878098, 'bagging_fraction': 0.9685273029729357, 'max_depth': 15, 'lambda_l1': 3.447900709934372, 'lambda_l2': 4.533943023899669, 'min_gain_to_split': 0.07704495345240214, 'bagging_freq': 4}. Best is trial 86 with value: 114226000.0.\n",
            "[I 2024-10-14 01:48:39,259] Trial 168 finished with value: 102312000.0 and parameters: {'num_leaves': 26, 'learning_rate': 0.11321786516554745, 'min_data_in_leaf': 134, 'feature_fraction': 0.16105259025094376, 'bagging_fraction': 0.14786373118318002, 'max_depth': 16, 'lambda_l1': 3.0521677838778243, 'lambda_l2': 4.937719904265145, 'min_gain_to_split': 0.15281584609038107, 'bagging_freq': 4}. Best is trial 86 with value: 114226000.0.\n",
            "[I 2024-10-14 01:49:23,013] Trial 169 finished with value: 109690000.0 and parameters: {'num_leaves': 34, 'learning_rate': 0.14975010591604548, 'min_data_in_leaf': 80, 'feature_fraction': 0.18242659912528647, 'bagging_fraction': 0.9501489717515522, 'max_depth': 16, 'lambda_l1': 3.6954094352927767, 'lambda_l2': 5.371381650333634, 'min_gain_to_split': 0.09481046696115678, 'bagging_freq': 4}. Best is trial 86 with value: 114226000.0.\n",
            "[I 2024-10-14 01:50:14,252] Trial 170 finished with value: 111699000.0 and parameters: {'num_leaves': 23, 'learning_rate': 0.12727568401024003, 'min_data_in_leaf': 156, 'feature_fraction': 0.242946036161293, 'bagging_fraction': 0.9808538691252456, 'max_depth': 15, 'lambda_l1': 3.3638284494786297, 'lambda_l2': 3.6041056769993, 'min_gain_to_split': 0.04112292231819799, 'bagging_freq': 2}. Best is trial 86 with value: 114226000.0.\n",
            "[I 2024-10-14 01:51:03,905] Trial 171 finished with value: 108507000.0 and parameters: {'num_leaves': 63, 'learning_rate': 0.14171791239646062, 'min_data_in_leaf': 20, 'feature_fraction': 0.7858261526824148, 'bagging_fraction': 0.9846989377250961, 'max_depth': 16, 'lambda_l1': 4.470327043795476, 'lambda_l2': 5.119956311232274, 'min_gain_to_split': 0.10683606081142823, 'bagging_freq': 3}. Best is trial 86 with value: 114226000.0.\n",
            "[I 2024-10-14 01:51:51,423] Trial 172 finished with value: 112805000.0 and parameters: {'num_leaves': 28, 'learning_rate': 0.11764253744067651, 'min_data_in_leaf': 58, 'feature_fraction': 0.2261899116752323, 'bagging_fraction': 0.9993315274122547, 'max_depth': 15, 'lambda_l1': 2.392648557394801, 'lambda_l2': 4.738438797170431, 'min_gain_to_split': 0.06341676173625915, 'bagging_freq': 4}. Best is trial 86 with value: 114226000.0.\n",
            "[I 2024-10-14 01:52:37,384] Trial 173 finished with value: 110110000.0 and parameters: {'num_leaves': 27, 'learning_rate': 0.11568428291709315, 'min_data_in_leaf': 55, 'feature_fraction': 0.2763048054486927, 'bagging_fraction': 0.9971410262278827, 'max_depth': 14, 'lambda_l1': 2.384695448353453, 'lambda_l2': 4.393609928314755, 'min_gain_to_split': 0.02179078617122484, 'bagging_freq': 4}. Best is trial 86 with value: 114226000.0.\n",
            "[I 2024-10-14 01:53:22,741] Trial 174 finished with value: 109732000.0 and parameters: {'num_leaves': 32, 'learning_rate': 0.1212007359685868, 'min_data_in_leaf': 5, 'feature_fraction': 0.25774495328349656, 'bagging_fraction': 0.9509384201809777, 'max_depth': 17, 'lambda_l1': 2.1134170523433005, 'lambda_l2': 4.708721154562671, 'min_gain_to_split': 0.06503753128971299, 'bagging_freq': 4}. Best is trial 86 with value: 114226000.0.\n",
            "[I 2024-10-14 01:54:03,393] Trial 175 finished with value: 105672000.0 and parameters: {'num_leaves': 25, 'learning_rate': 0.2705626181404323, 'min_data_in_leaf': 73, 'feature_fraction': 0.2360814937004735, 'bagging_fraction': 0.9992003117948025, 'max_depth': 16, 'lambda_l1': 2.5591798697715635, 'lambda_l2': 4.191347004288788, 'min_gain_to_split': 0.6573343449153788, 'bagging_freq': 5}. Best is trial 86 with value: 114226000.0.\n",
            "[I 2024-10-14 01:54:48,729] Trial 176 finished with value: 108584000.0 and parameters: {'num_leaves': 29, 'learning_rate': 0.1327549114298182, 'min_data_in_leaf': 111, 'feature_fraction': 0.7110508406210954, 'bagging_fraction': 0.9707604789381084, 'max_depth': 15, 'lambda_l1': 2.885589176173499, 'lambda_l2': 5.006399459029609, 'min_gain_to_split': 0.12334433846144269, 'bagging_freq': 4}. Best is trial 86 with value: 114226000.0.\n",
            "[I 2024-10-14 01:55:32,304] Trial 177 finished with value: 111636000.0 and parameters: {'num_leaves': 30, 'learning_rate': 0.11131512888672777, 'min_data_in_leaf': 93, 'feature_fraction': 0.2075615683937893, 'bagging_fraction': 0.9241250106400032, 'max_depth': 15, 'lambda_l1': 3.592635972772276, 'lambda_l2': 4.706591797473378, 'min_gain_to_split': 0.0807684356212994, 'bagging_freq': 4}. Best is trial 86 with value: 114226000.0.\n",
            "[I 2024-10-14 01:56:19,557] Trial 178 finished with value: 110663000.0 and parameters: {'num_leaves': 78, 'learning_rate': 0.10144016531799616, 'min_data_in_leaf': 41, 'feature_fraction': 0.2216471829472024, 'bagging_fraction': 0.964822395417145, 'max_depth': 16, 'lambda_l1': 3.9472385273907356, 'lambda_l2': 4.536002215200759, 'min_gain_to_split': 0.04532119118426147, 'bagging_freq': 4}. Best is trial 86 with value: 114226000.0.\n",
            "[I 2024-10-14 01:57:00,454] Trial 179 finished with value: 108892000.0 and parameters: {'num_leaves': 28, 'learning_rate': 0.1261993046204775, 'min_data_in_leaf': 62, 'feature_fraction': 0.18903008870188556, 'bagging_fraction': 0.9411718868411514, 'max_depth': 15, 'lambda_l1': 2.706585699648431, 'lambda_l2': 4.857421791670718, 'min_gain_to_split': 0.012658647825875918, 'bagging_freq': 4}. Best is trial 86 with value: 114226000.0.\n",
            "[I 2024-10-14 01:57:45,770] Trial 180 finished with value: 106764000.0 and parameters: {'num_leaves': 33, 'learning_rate': 0.11850831776213204, 'min_data_in_leaf': 118, 'feature_fraction': 0.17346645076163517, 'bagging_fraction': 0.981504604618469, 'max_depth': 14, 'lambda_l1': 3.130238757825761, 'lambda_l2': 5.224939134450633, 'min_gain_to_split': 0.06374095600066426, 'bagging_freq': 4}. Best is trial 86 with value: 114226000.0.\n",
            "[I 2024-10-14 01:58:28,949] Trial 181 finished with value: 110145000.0 and parameters: {'num_leaves': 35, 'learning_rate': 0.10782825569485986, 'min_data_in_leaf': 194, 'feature_fraction': 0.22544368979459437, 'bagging_fraction': 0.9628911081128412, 'max_depth': 16, 'lambda_l1': 8.489390011150567, 'lambda_l2': 5.79356791873634, 'min_gain_to_split': 0.10825181366630562, 'bagging_freq': 4}. Best is trial 86 with value: 114226000.0.\n",
            "[I 2024-10-14 01:59:09,194] Trial 182 finished with value: 110425000.0 and parameters: {'num_leaves': 24, 'learning_rate': 0.1371479937364964, 'min_data_in_leaf': 28, 'feature_fraction': 0.20108262406502578, 'bagging_fraction': 0.9144737514024788, 'max_depth': 15, 'lambda_l1': 3.449085856905478, 'lambda_l2': 5.46858251067902, 'min_gain_to_split': 0.1347811214704518, 'bagging_freq': 4}. Best is trial 86 with value: 114226000.0.\n",
            "[I 2024-10-14 01:59:54,508] Trial 183 finished with value: 109361000.0 and parameters: {'num_leaves': 27, 'learning_rate': 0.12290051780602919, 'min_data_in_leaf': 163, 'feature_fraction': 0.25003744770191977, 'bagging_fraction': 0.8850216887683489, 'max_depth': 17, 'lambda_l1': 4.067690294752314, 'lambda_l2': 5.044939972028158, 'min_gain_to_split': 0.0024671003371807623, 'bagging_freq': 3}. Best is trial 86 with value: 114226000.0.\n",
            "[I 2024-10-14 02:00:40,534] Trial 184 finished with value: 107499000.0 and parameters: {'num_leaves': 31, 'learning_rate': 0.1317811845880036, 'min_data_in_leaf': 93, 'feature_fraction': 0.2640168867382885, 'bagging_fraction': 0.9844295727731918, 'max_depth': 16, 'lambda_l1': 3.040906159801712, 'lambda_l2': 4.467144133863637, 'min_gain_to_split': 0.03039413291304935, 'bagging_freq': 4}. Best is trial 86 with value: 114226000.0.\n",
            "[I 2024-10-14 02:01:22,359] Trial 185 finished with value: 110005000.0 and parameters: {'num_leaves': 22, 'learning_rate': 0.11601492854053891, 'min_data_in_leaf': 142, 'feature_fraction': 0.2110093356911951, 'bagging_fraction': 0.9496312446735727, 'max_depth': 14, 'lambda_l1': 3.721850581026191, 'lambda_l2': 6.012682915216085, 'min_gain_to_split': 0.08619545838134085, 'bagging_freq': 5}. Best is trial 86 with value: 114226000.0.\n",
            "[I 2024-10-14 02:02:05,962] Trial 186 finished with value: 112140000.0 and parameters: {'num_leaves': 20, 'learning_rate': 0.1277187993454199, 'min_data_in_leaf': 160, 'feature_fraction': 0.23946068367793627, 'bagging_fraction': 0.9768643361806071, 'max_depth': 15, 'lambda_l1': 3.336641933725367, 'lambda_l2': 3.6690243479976994, 'min_gain_to_split': 0.03504932124627282, 'bagging_freq': 2}. Best is trial 86 with value: 114226000.0.\n",
            "[I 2024-10-14 02:02:55,299] Trial 187 finished with value: 108332000.0 and parameters: {'num_leaves': 21, 'learning_rate': 0.12666361893956601, 'min_data_in_leaf': 181, 'feature_fraction': 0.5981873911022337, 'bagging_fraction': 0.9700671087462461, 'max_depth': 15, 'lambda_l1': 3.330572879894866, 'lambda_l2': 4.7508939614463985, 'min_gain_to_split': 0.049533209312330226, 'bagging_freq': 2}. Best is trial 86 with value: 114226000.0.\n",
            "[I 2024-10-14 02:03:46,390] Trial 188 finished with value: 110635000.0 and parameters: {'num_leaves': 19, 'learning_rate': 0.13697050634353578, 'min_data_in_leaf': 133, 'feature_fraction': 0.23239712573718999, 'bagging_fraction': 0.9968795401426143, 'max_depth': 15, 'lambda_l1': 3.8142205429239935, 'lambda_l2': 6.356799729836065, 'min_gain_to_split': 0.06747210888551326, 'bagging_freq': 2}. Best is trial 86 with value: 114226000.0.\n",
            "[I 2024-10-14 02:04:27,935] Trial 189 finished with value: 110817000.0 and parameters: {'num_leaves': 25, 'learning_rate': 0.10967391032528805, 'min_data_in_leaf': 78, 'feature_fraction': 0.19387456683755222, 'bagging_fraction': 0.9348198825631935, 'max_depth': 16, 'lambda_l1': 3.1995170801650166, 'lambda_l2': 7.425825436158489, 'min_gain_to_split': 0.028891866920026793, 'bagging_freq': 1}. Best is trial 86 with value: 114226000.0.\n",
            "[I 2024-10-14 02:05:09,128] Trial 190 finished with value: 109753000.0 and parameters: {'num_leaves': 17, 'learning_rate': 0.12006356712716135, 'min_data_in_leaf': 47, 'feature_fraction': 0.22552708219542658, 'bagging_fraction': 0.9556479566985221, 'max_depth': 15, 'lambda_l1': 3.6023986063860027, 'lambda_l2': 3.876710493561784, 'min_gain_to_split': 0.30371456565585, 'bagging_freq': 4}. Best is trial 86 with value: 114226000.0.\n",
            "[I 2024-10-14 02:05:57,998] Trial 191 finished with value: 111447000.0 and parameters: {'num_leaves': 29, 'learning_rate': 0.15216181580231208, 'min_data_in_leaf': 565, 'feature_fraction': 0.244014951073923, 'bagging_fraction': 0.9790873529801174, 'max_depth': 16, 'lambda_l1': 4.178954180652549, 'lambda_l2': 5.286749680951349, 'min_gain_to_split': 0.09955851138405755, 'bagging_freq': 3}. Best is trial 86 with value: 114226000.0.\n",
            "[I 2024-10-14 02:06:49,863] Trial 192 finished with value: 107800000.0 and parameters: {'num_leaves': 27, 'learning_rate': 0.14638012362443484, 'min_data_in_leaf': 3, 'feature_fraction': 0.2702285592499064, 'bagging_fraction': 0.9973823090678855, 'max_depth': 16, 'lambda_l1': 2.361990230912653, 'lambda_l2': 4.916433108288379, 'min_gain_to_split': 0.04531828520014912, 'bagging_freq': 2}. Best is trial 86 with value: 114226000.0.\n"
          ]
        }
      ],
      "source": [
        "study.optimize(objective, n_trials = 178) # subir subir"
      ]
    },
    {
      "cell_type": "code",
      "execution_count": 97,
      "metadata": {
        "id": "9ktIOtq2c79m",
        "colab": {
          "base_uri": "https://localhost:8080/",
          "height": 542
        },
        "outputId": "866eee36-e2b5-44cf-8a95-ea8a94fdaf2d"
      },
      "outputs": [
        {
          "output_type": "display_data",
          "data": {
            "text/html": [
              "<html>\n",
              "<head><meta charset=\"utf-8\" /></head>\n",
              "<body>\n",
              "    <div>            <script src=\"https://cdnjs.cloudflare.com/ajax/libs/mathjax/2.7.5/MathJax.js?config=TeX-AMS-MML_SVG\"></script><script type=\"text/javascript\">if (window.MathJax && window.MathJax.Hub && window.MathJax.Hub.Config) {window.MathJax.Hub.Config({SVG: {font: \"STIX-Web\"}});}</script>                <script type=\"text/javascript\">window.PlotlyConfig = {MathJaxConfig: 'local'};</script>\n",
              "        <script charset=\"utf-8\" src=\"https://cdn.plot.ly/plotly-2.35.2.min.js\"></script>                <div id=\"fbffe96c-1f52-4765-8af9-0b4726e8a45f\" class=\"plotly-graph-div\" style=\"height:525px; width:100%;\"></div>            <script type=\"text/javascript\">                                    window.PLOTLYENV=window.PLOTLYENV || {};                                    if (document.getElementById(\"fbffe96c-1f52-4765-8af9-0b4726e8a45f\")) {                    Plotly.newPlot(                        \"fbffe96c-1f52-4765-8af9-0b4726e8a45f\",                        [{\"cliponaxis\":false,\"hovertemplate\":[\"bagging_freq (IntDistribution): 0.0018507217994671071\\u003cextra\\u003e\\u003c\\u002fextra\\u003e\",\"max_depth (IntDistribution): 0.005277378858431845\\u003cextra\\u003e\\u003c\\u002fextra\\u003e\",\"num_leaves (IntDistribution): 0.006625362954723553\\u003cextra\\u003e\\u003c\\u002fextra\\u003e\",\"min_data_in_leaf (IntDistribution): 0.009227336652180713\\u003cextra\\u003e\\u003c\\u002fextra\\u003e\",\"lambda_l2 (FloatDistribution): 0.016669751715207955\\u003cextra\\u003e\\u003c\\u002fextra\\u003e\",\"min_gain_to_split (FloatDistribution): 0.03870460481777881\\u003cextra\\u003e\\u003c\\u002fextra\\u003e\",\"feature_fraction (FloatDistribution): 0.06375727934837279\\u003cextra\\u003e\\u003c\\u002fextra\\u003e\",\"lambda_l1 (FloatDistribution): 0.06495152175786527\\u003cextra\\u003e\\u003c\\u002fextra\\u003e\",\"learning_rate (FloatDistribution): 0.2850843786253314\\u003cextra\\u003e\\u003c\\u002fextra\\u003e\",\"bagging_fraction (FloatDistribution): 0.5078516634706403\\u003cextra\\u003e\\u003c\\u002fextra\\u003e\"],\"name\":\"Objective Value\",\"orientation\":\"h\",\"text\":[\"\\u003c0.01\",\"\\u003c0.01\",\"\\u003c0.01\",\"\\u003c0.01\",\"0.02\",\"0.04\",\"0.06\",\"0.06\",\"0.29\",\"0.51\"],\"textposition\":\"outside\",\"x\":[0.0018507217994671071,0.005277378858431845,0.006625362954723553,0.009227336652180713,0.016669751715207955,0.03870460481777881,0.06375727934837279,0.06495152175786527,0.2850843786253314,0.5078516634706403],\"y\":[\"bagging_freq\",\"max_depth\",\"num_leaves\",\"min_data_in_leaf\",\"lambda_l2\",\"min_gain_to_split\",\"feature_fraction\",\"lambda_l1\",\"learning_rate\",\"bagging_fraction\"],\"type\":\"bar\"}],                        {\"title\":{\"text\":\"Hyperparameter Importances\"},\"xaxis\":{\"title\":{\"text\":\"Hyperparameter Importance\"}},\"yaxis\":{\"title\":{\"text\":\"Hyperparameter\"}},\"template\":{\"data\":{\"histogram2dcontour\":[{\"type\":\"histogram2dcontour\",\"colorbar\":{\"outlinewidth\":0,\"ticks\":\"\"},\"colorscale\":[[0.0,\"#0d0887\"],[0.1111111111111111,\"#46039f\"],[0.2222222222222222,\"#7201a8\"],[0.3333333333333333,\"#9c179e\"],[0.4444444444444444,\"#bd3786\"],[0.5555555555555556,\"#d8576b\"],[0.6666666666666666,\"#ed7953\"],[0.7777777777777778,\"#fb9f3a\"],[0.8888888888888888,\"#fdca26\"],[1.0,\"#f0f921\"]]}],\"choropleth\":[{\"type\":\"choropleth\",\"colorbar\":{\"outlinewidth\":0,\"ticks\":\"\"}}],\"histogram2d\":[{\"type\":\"histogram2d\",\"colorbar\":{\"outlinewidth\":0,\"ticks\":\"\"},\"colorscale\":[[0.0,\"#0d0887\"],[0.1111111111111111,\"#46039f\"],[0.2222222222222222,\"#7201a8\"],[0.3333333333333333,\"#9c179e\"],[0.4444444444444444,\"#bd3786\"],[0.5555555555555556,\"#d8576b\"],[0.6666666666666666,\"#ed7953\"],[0.7777777777777778,\"#fb9f3a\"],[0.8888888888888888,\"#fdca26\"],[1.0,\"#f0f921\"]]}],\"heatmap\":[{\"type\":\"heatmap\",\"colorbar\":{\"outlinewidth\":0,\"ticks\":\"\"},\"colorscale\":[[0.0,\"#0d0887\"],[0.1111111111111111,\"#46039f\"],[0.2222222222222222,\"#7201a8\"],[0.3333333333333333,\"#9c179e\"],[0.4444444444444444,\"#bd3786\"],[0.5555555555555556,\"#d8576b\"],[0.6666666666666666,\"#ed7953\"],[0.7777777777777778,\"#fb9f3a\"],[0.8888888888888888,\"#fdca26\"],[1.0,\"#f0f921\"]]}],\"heatmapgl\":[{\"type\":\"heatmapgl\",\"colorbar\":{\"outlinewidth\":0,\"ticks\":\"\"},\"colorscale\":[[0.0,\"#0d0887\"],[0.1111111111111111,\"#46039f\"],[0.2222222222222222,\"#7201a8\"],[0.3333333333333333,\"#9c179e\"],[0.4444444444444444,\"#bd3786\"],[0.5555555555555556,\"#d8576b\"],[0.6666666666666666,\"#ed7953\"],[0.7777777777777778,\"#fb9f3a\"],[0.8888888888888888,\"#fdca26\"],[1.0,\"#f0f921\"]]}],\"contourcarpet\":[{\"type\":\"contourcarpet\",\"colorbar\":{\"outlinewidth\":0,\"ticks\":\"\"}}],\"contour\":[{\"type\":\"contour\",\"colorbar\":{\"outlinewidth\":0,\"ticks\":\"\"},\"colorscale\":[[0.0,\"#0d0887\"],[0.1111111111111111,\"#46039f\"],[0.2222222222222222,\"#7201a8\"],[0.3333333333333333,\"#9c179e\"],[0.4444444444444444,\"#bd3786\"],[0.5555555555555556,\"#d8576b\"],[0.6666666666666666,\"#ed7953\"],[0.7777777777777778,\"#fb9f3a\"],[0.8888888888888888,\"#fdca26\"],[1.0,\"#f0f921\"]]}],\"surface\":[{\"type\":\"surface\",\"colorbar\":{\"outlinewidth\":0,\"ticks\":\"\"},\"colorscale\":[[0.0,\"#0d0887\"],[0.1111111111111111,\"#46039f\"],[0.2222222222222222,\"#7201a8\"],[0.3333333333333333,\"#9c179e\"],[0.4444444444444444,\"#bd3786\"],[0.5555555555555556,\"#d8576b\"],[0.6666666666666666,\"#ed7953\"],[0.7777777777777778,\"#fb9f3a\"],[0.8888888888888888,\"#fdca26\"],[1.0,\"#f0f921\"]]}],\"mesh3d\":[{\"type\":\"mesh3d\",\"colorbar\":{\"outlinewidth\":0,\"ticks\":\"\"}}],\"scatter\":[{\"fillpattern\":{\"fillmode\":\"overlay\",\"size\":10,\"solidity\":0.2},\"type\":\"scatter\"}],\"parcoords\":[{\"type\":\"parcoords\",\"line\":{\"colorbar\":{\"outlinewidth\":0,\"ticks\":\"\"}}}],\"scatterpolargl\":[{\"type\":\"scatterpolargl\",\"marker\":{\"colorbar\":{\"outlinewidth\":0,\"ticks\":\"\"}}}],\"bar\":[{\"error_x\":{\"color\":\"#2a3f5f\"},\"error_y\":{\"color\":\"#2a3f5f\"},\"marker\":{\"line\":{\"color\":\"#E5ECF6\",\"width\":0.5},\"pattern\":{\"fillmode\":\"overlay\",\"size\":10,\"solidity\":0.2}},\"type\":\"bar\"}],\"scattergeo\":[{\"type\":\"scattergeo\",\"marker\":{\"colorbar\":{\"outlinewidth\":0,\"ticks\":\"\"}}}],\"scatterpolar\":[{\"type\":\"scatterpolar\",\"marker\":{\"colorbar\":{\"outlinewidth\":0,\"ticks\":\"\"}}}],\"histogram\":[{\"marker\":{\"pattern\":{\"fillmode\":\"overlay\",\"size\":10,\"solidity\":0.2}},\"type\":\"histogram\"}],\"scattergl\":[{\"type\":\"scattergl\",\"marker\":{\"colorbar\":{\"outlinewidth\":0,\"ticks\":\"\"}}}],\"scatter3d\":[{\"type\":\"scatter3d\",\"line\":{\"colorbar\":{\"outlinewidth\":0,\"ticks\":\"\"}},\"marker\":{\"colorbar\":{\"outlinewidth\":0,\"ticks\":\"\"}}}],\"scattermapbox\":[{\"type\":\"scattermapbox\",\"marker\":{\"colorbar\":{\"outlinewidth\":0,\"ticks\":\"\"}}}],\"scatterternary\":[{\"type\":\"scatterternary\",\"marker\":{\"colorbar\":{\"outlinewidth\":0,\"ticks\":\"\"}}}],\"scattercarpet\":[{\"type\":\"scattercarpet\",\"marker\":{\"colorbar\":{\"outlinewidth\":0,\"ticks\":\"\"}}}],\"carpet\":[{\"aaxis\":{\"endlinecolor\":\"#2a3f5f\",\"gridcolor\":\"white\",\"linecolor\":\"white\",\"minorgridcolor\":\"white\",\"startlinecolor\":\"#2a3f5f\"},\"baxis\":{\"endlinecolor\":\"#2a3f5f\",\"gridcolor\":\"white\",\"linecolor\":\"white\",\"minorgridcolor\":\"white\",\"startlinecolor\":\"#2a3f5f\"},\"type\":\"carpet\"}],\"table\":[{\"cells\":{\"fill\":{\"color\":\"#EBF0F8\"},\"line\":{\"color\":\"white\"}},\"header\":{\"fill\":{\"color\":\"#C8D4E3\"},\"line\":{\"color\":\"white\"}},\"type\":\"table\"}],\"barpolar\":[{\"marker\":{\"line\":{\"color\":\"#E5ECF6\",\"width\":0.5},\"pattern\":{\"fillmode\":\"overlay\",\"size\":10,\"solidity\":0.2}},\"type\":\"barpolar\"}],\"pie\":[{\"automargin\":true,\"type\":\"pie\"}]},\"layout\":{\"autotypenumbers\":\"strict\",\"colorway\":[\"#636efa\",\"#EF553B\",\"#00cc96\",\"#ab63fa\",\"#FFA15A\",\"#19d3f3\",\"#FF6692\",\"#B6E880\",\"#FF97FF\",\"#FECB52\"],\"font\":{\"color\":\"#2a3f5f\"},\"hovermode\":\"closest\",\"hoverlabel\":{\"align\":\"left\"},\"paper_bgcolor\":\"white\",\"plot_bgcolor\":\"#E5ECF6\",\"polar\":{\"bgcolor\":\"#E5ECF6\",\"angularaxis\":{\"gridcolor\":\"white\",\"linecolor\":\"white\",\"ticks\":\"\"},\"radialaxis\":{\"gridcolor\":\"white\",\"linecolor\":\"white\",\"ticks\":\"\"}},\"ternary\":{\"bgcolor\":\"#E5ECF6\",\"aaxis\":{\"gridcolor\":\"white\",\"linecolor\":\"white\",\"ticks\":\"\"},\"baxis\":{\"gridcolor\":\"white\",\"linecolor\":\"white\",\"ticks\":\"\"},\"caxis\":{\"gridcolor\":\"white\",\"linecolor\":\"white\",\"ticks\":\"\"}},\"coloraxis\":{\"colorbar\":{\"outlinewidth\":0,\"ticks\":\"\"}},\"colorscale\":{\"sequential\":[[0.0,\"#0d0887\"],[0.1111111111111111,\"#46039f\"],[0.2222222222222222,\"#7201a8\"],[0.3333333333333333,\"#9c179e\"],[0.4444444444444444,\"#bd3786\"],[0.5555555555555556,\"#d8576b\"],[0.6666666666666666,\"#ed7953\"],[0.7777777777777778,\"#fb9f3a\"],[0.8888888888888888,\"#fdca26\"],[1.0,\"#f0f921\"]],\"sequentialminus\":[[0.0,\"#0d0887\"],[0.1111111111111111,\"#46039f\"],[0.2222222222222222,\"#7201a8\"],[0.3333333333333333,\"#9c179e\"],[0.4444444444444444,\"#bd3786\"],[0.5555555555555556,\"#d8576b\"],[0.6666666666666666,\"#ed7953\"],[0.7777777777777778,\"#fb9f3a\"],[0.8888888888888888,\"#fdca26\"],[1.0,\"#f0f921\"]],\"diverging\":[[0,\"#8e0152\"],[0.1,\"#c51b7d\"],[0.2,\"#de77ae\"],[0.3,\"#f1b6da\"],[0.4,\"#fde0ef\"],[0.5,\"#f7f7f7\"],[0.6,\"#e6f5d0\"],[0.7,\"#b8e186\"],[0.8,\"#7fbc41\"],[0.9,\"#4d9221\"],[1,\"#276419\"]]},\"xaxis\":{\"gridcolor\":\"white\",\"linecolor\":\"white\",\"ticks\":\"\",\"title\":{\"standoff\":15},\"zerolinecolor\":\"white\",\"automargin\":true,\"zerolinewidth\":2},\"yaxis\":{\"gridcolor\":\"white\",\"linecolor\":\"white\",\"ticks\":\"\",\"title\":{\"standoff\":15},\"zerolinecolor\":\"white\",\"automargin\":true,\"zerolinewidth\":2},\"scene\":{\"xaxis\":{\"backgroundcolor\":\"#E5ECF6\",\"gridcolor\":\"white\",\"linecolor\":\"white\",\"showbackground\":true,\"ticks\":\"\",\"zerolinecolor\":\"white\",\"gridwidth\":2},\"yaxis\":{\"backgroundcolor\":\"#E5ECF6\",\"gridcolor\":\"white\",\"linecolor\":\"white\",\"showbackground\":true,\"ticks\":\"\",\"zerolinecolor\":\"white\",\"gridwidth\":2},\"zaxis\":{\"backgroundcolor\":\"#E5ECF6\",\"gridcolor\":\"white\",\"linecolor\":\"white\",\"showbackground\":true,\"ticks\":\"\",\"zerolinecolor\":\"white\",\"gridwidth\":2}},\"shapedefaults\":{\"line\":{\"color\":\"#2a3f5f\"}},\"annotationdefaults\":{\"arrowcolor\":\"#2a3f5f\",\"arrowhead\":0,\"arrowwidth\":1},\"geo\":{\"bgcolor\":\"white\",\"landcolor\":\"#E5ECF6\",\"subunitcolor\":\"white\",\"showland\":true,\"showlakes\":true,\"lakecolor\":\"white\"},\"title\":{\"x\":0.05},\"mapbox\":{\"style\":\"light\"}}}},                        {\"responsive\": true}                    ).then(function(){\n",
              "                            \n",
              "var gd = document.getElementById('fbffe96c-1f52-4765-8af9-0b4726e8a45f');\n",
              "var x = new MutationObserver(function (mutations, observer) {{\n",
              "        var display = window.getComputedStyle(gd).display;\n",
              "        if (!display || display === 'none') {{\n",
              "            console.log([gd, 'removed!']);\n",
              "            Plotly.purge(gd);\n",
              "            observer.disconnect();\n",
              "        }}\n",
              "}});\n",
              "\n",
              "// Listen for the removal of the full notebook cells\n",
              "var notebookContainer = gd.closest('#notebook-container');\n",
              "if (notebookContainer) {{\n",
              "    x.observe(notebookContainer, {childList: true});\n",
              "}}\n",
              "\n",
              "// Listen for the clearing of the current output cell\n",
              "var outputEl = gd.closest('.output');\n",
              "if (outputEl) {{\n",
              "    x.observe(outputEl, {childList: true});\n",
              "}}\n",
              "\n",
              "                        })                };                            </script>        </div>\n",
              "</body>\n",
              "</html>"
            ]
          },
          "metadata": {}
        }
      ],
      "source": [
        "plot_param_importances(study)"
      ]
    },
    {
      "cell_type": "markdown",
      "source": [
        "[I 2024-10-13 03:49:49,418] Trial 293 finished with value: 114828000.0 and parameters: {'num_leaves': 16, 'learning_rate': 0.0904129007526445, 'min_data_in_leaf': 292, 'feature_fraction': 0.28180962949951294, 'bagging_fraction': 0.9809595314504485, 'max_depth': 19, 'lambda_l1': 1.6196058700397447, 'lambda_l2': 8.275196353225926, 'min_gain_to_split': 0.3894426147286418, 'bagging_freq': 4}. Best is trial 293 with value: 114828000.0.\n"
      ],
      "metadata": {
        "id": "ilgYPNLxlbyl"
      }
    },
    {
      "cell_type": "markdown",
      "metadata": {
        "id": "IiQ0ZNDWdM8x"
      },
      "source": [
        "Y finalmente tomamos el mejor modelo y lo entrenamos con la totalidad de los\n",
        "datos"
      ]
    },
    {
      "cell_type": "code",
      "source": [
        "mes_train = 202104\n",
        "mes_test = 202106"
      ],
      "metadata": {
        "id": "xjkLzIvJtNvc"
      },
      "execution_count": 98,
      "outputs": []
    },
    {
      "cell_type": "code",
      "source": [
        "train_data = data[data['foto_mes'] == mes_train]\n",
        "test_data = data[data['foto_mes'] == mes_test]\n",
        "\n",
        "X_train = train_data.drop(['clase_ternaria', 'clase_peso', 'clase_binaria1','clase_binaria2'], axis=1)\n",
        "y_train_binaria1 = train_data['clase_binaria1']\n",
        "y_train_binaria2 = train_data['clase_binaria2']\n",
        "w_train = train_data['clase_peso']\n",
        "\n",
        "X_test = test_data.drop(['clase_ternaria', 'clase_peso', 'clase_binaria1','clase_binaria2'], axis=1)\n",
        "y_test_binaria1 = test_data['clase_binaria1']\n",
        "y_test_class = test_data['clase_ternaria']\n",
        "w_test = test_data['clase_peso']"
      ],
      "metadata": {
        "id": "kEEDv4P2tSSB"
      },
      "execution_count": 99,
      "outputs": []
    },
    {
      "cell_type": "code",
      "source": [
        "imp_mean = SimpleImputer(missing_values=np.nan, strategy='median')\n",
        "Xif = imp_mean.fit_transform(X_test)"
      ],
      "metadata": {
        "id": "UmulMx75tWCX"
      },
      "execution_count": 100,
      "outputs": []
    },
    {
      "cell_type": "code",
      "execution_count": 101,
      "metadata": {
        "id": "-VSlBEvldjOs",
        "colab": {
          "base_uri": "https://localhost:8080/"
        },
        "outputId": "6090d195-de59-4adf-e16f-eeaa80836179"
      },
      "outputs": [
        {
          "output_type": "stream",
          "name": "stdout",
          "text": [
            "Mejor cantidad de árboles para el mejor modelo: 65\n"
          ]
        }
      ],
      "source": [
        "best_iter = study.best_trial.user_attrs[\"best_iter\"]\n",
        "print(f\"Mejor cantidad de árboles para el mejor modelo: {best_iter}\")\n",
        "\n",
        "params = {\n",
        "    'objective': 'binary',\n",
        "    'boosting_type': 'gbdt',\n",
        "    'first_metric_only': True,\n",
        "    'boost_from_average': True,\n",
        "    'feature_pre_filter': False,\n",
        "    'max_bin': 31,\n",
        "    'num_leaves': study.best_trial.params['num_leaves'],\n",
        "    'learning_rate': study.best_trial.params['learning_rate'],\n",
        "    'min_data_in_leaf': study.best_trial.params['min_data_in_leaf'],\n",
        "    'feature_fraction': study.best_trial.params['feature_fraction'],\n",
        "    'bagging_fraction': study.best_trial.params['bagging_fraction'],\n",
        "    'max_depth': study.best_trial.params['max_depth'],  # Nuevo parámetro\n",
        "    'lambda_l1': study.best_trial.params['lambda_l1'],  # Nuevo parámetro\n",
        "    'lambda_l2': study.best_trial.params['lambda_l2'],  # Nuevo parámetro\n",
        "    'min_gain_to_split': study.best_trial.params['min_gain_to_split'],  # Nuevo parámetro\n",
        "    'bagging_freq': study.best_trial.params['bagging_freq'],  # Nuevo parámetro\n",
        "    'seed': semilla,\n",
        "    'verbose': 0\n",
        "}\n",
        "\n",
        "train_data = lgb.Dataset(X_train,\n",
        "                          label=y_train_binaria2,\n",
        "                          weight=w_train)\n",
        "\n",
        "model = lgb.train(params,\n",
        "                  train_data,\n",
        "                  num_boost_round=best_iter)\n"
      ]
    },
    {
      "cell_type": "code",
      "execution_count": null,
      "metadata": {
        "id": "oFTugdp3dm6B",
        "colab": {
          "base_uri": "https://localhost:8080/",
          "height": 423
        },
        "outputId": "467ce1ca-991b-412d-852d-6e0f6774047a"
      },
      "outputs": [
        {
          "output_type": "execute_result",
          "data": {
            "text/plain": [
              "                       feature  importance\n",
              "22              mcuentas_saldo          60\n",
              "5                 cliente_edad          52\n",
              "8         mrentabilidad_annual          46\n",
              "52                    mpayroll          44\n",
              "33       mprestamos_personales          42\n",
              "..                         ...         ...\n",
              "118      Master_mconsumospesos           1\n",
              "83    mtransferencias_emitidas           1\n",
              "80   ctransferencias_recibidas           1\n",
              "38                 cplazo_fijo           1\n",
              "148         Visa_mpagosdolares           1\n",
              "\n",
              "[78 rows x 2 columns]"
            ],
            "text/html": [
              "\n",
              "  <div id=\"df-418f1e10-2aea-40f8-b2ab-be523faf272f\" class=\"colab-df-container\">\n",
              "    <div>\n",
              "<style scoped>\n",
              "    .dataframe tbody tr th:only-of-type {\n",
              "        vertical-align: middle;\n",
              "    }\n",
              "\n",
              "    .dataframe tbody tr th {\n",
              "        vertical-align: top;\n",
              "    }\n",
              "\n",
              "    .dataframe thead th {\n",
              "        text-align: right;\n",
              "    }\n",
              "</style>\n",
              "<table border=\"1\" class=\"dataframe\">\n",
              "  <thead>\n",
              "    <tr style=\"text-align: right;\">\n",
              "      <th></th>\n",
              "      <th>feature</th>\n",
              "      <th>importance</th>\n",
              "    </tr>\n",
              "  </thead>\n",
              "  <tbody>\n",
              "    <tr>\n",
              "      <th>22</th>\n",
              "      <td>mcuentas_saldo</td>\n",
              "      <td>60</td>\n",
              "    </tr>\n",
              "    <tr>\n",
              "      <th>5</th>\n",
              "      <td>cliente_edad</td>\n",
              "      <td>52</td>\n",
              "    </tr>\n",
              "    <tr>\n",
              "      <th>8</th>\n",
              "      <td>mrentabilidad_annual</td>\n",
              "      <td>46</td>\n",
              "    </tr>\n",
              "    <tr>\n",
              "      <th>52</th>\n",
              "      <td>mpayroll</td>\n",
              "      <td>44</td>\n",
              "    </tr>\n",
              "    <tr>\n",
              "      <th>33</th>\n",
              "      <td>mprestamos_personales</td>\n",
              "      <td>42</td>\n",
              "    </tr>\n",
              "    <tr>\n",
              "      <th>...</th>\n",
              "      <td>...</td>\n",
              "      <td>...</td>\n",
              "    </tr>\n",
              "    <tr>\n",
              "      <th>118</th>\n",
              "      <td>Master_mconsumospesos</td>\n",
              "      <td>1</td>\n",
              "    </tr>\n",
              "    <tr>\n",
              "      <th>83</th>\n",
              "      <td>mtransferencias_emitidas</td>\n",
              "      <td>1</td>\n",
              "    </tr>\n",
              "    <tr>\n",
              "      <th>80</th>\n",
              "      <td>ctransferencias_recibidas</td>\n",
              "      <td>1</td>\n",
              "    </tr>\n",
              "    <tr>\n",
              "      <th>38</th>\n",
              "      <td>cplazo_fijo</td>\n",
              "      <td>1</td>\n",
              "    </tr>\n",
              "    <tr>\n",
              "      <th>148</th>\n",
              "      <td>Visa_mpagosdolares</td>\n",
              "      <td>1</td>\n",
              "    </tr>\n",
              "  </tbody>\n",
              "</table>\n",
              "<p>78 rows × 2 columns</p>\n",
              "</div>\n",
              "    <div class=\"colab-df-buttons\">\n",
              "\n",
              "  <div class=\"colab-df-container\">\n",
              "    <button class=\"colab-df-convert\" onclick=\"convertToInteractive('df-418f1e10-2aea-40f8-b2ab-be523faf272f')\"\n",
              "            title=\"Convert this dataframe to an interactive table.\"\n",
              "            style=\"display:none;\">\n",
              "\n",
              "  <svg xmlns=\"http://www.w3.org/2000/svg\" height=\"24px\" viewBox=\"0 -960 960 960\">\n",
              "    <path d=\"M120-120v-720h720v720H120Zm60-500h600v-160H180v160Zm220 220h160v-160H400v160Zm0 220h160v-160H400v160ZM180-400h160v-160H180v160Zm440 0h160v-160H620v160ZM180-180h160v-160H180v160Zm440 0h160v-160H620v160Z\"/>\n",
              "  </svg>\n",
              "    </button>\n",
              "\n",
              "  <style>\n",
              "    .colab-df-container {\n",
              "      display:flex;\n",
              "      gap: 12px;\n",
              "    }\n",
              "\n",
              "    .colab-df-convert {\n",
              "      background-color: #E8F0FE;\n",
              "      border: none;\n",
              "      border-radius: 50%;\n",
              "      cursor: pointer;\n",
              "      display: none;\n",
              "      fill: #1967D2;\n",
              "      height: 32px;\n",
              "      padding: 0 0 0 0;\n",
              "      width: 32px;\n",
              "    }\n",
              "\n",
              "    .colab-df-convert:hover {\n",
              "      background-color: #E2EBFA;\n",
              "      box-shadow: 0px 1px 2px rgba(60, 64, 67, 0.3), 0px 1px 3px 1px rgba(60, 64, 67, 0.15);\n",
              "      fill: #174EA6;\n",
              "    }\n",
              "\n",
              "    .colab-df-buttons div {\n",
              "      margin-bottom: 4px;\n",
              "    }\n",
              "\n",
              "    [theme=dark] .colab-df-convert {\n",
              "      background-color: #3B4455;\n",
              "      fill: #D2E3FC;\n",
              "    }\n",
              "\n",
              "    [theme=dark] .colab-df-convert:hover {\n",
              "      background-color: #434B5C;\n",
              "      box-shadow: 0px 1px 3px 1px rgba(0, 0, 0, 0.15);\n",
              "      filter: drop-shadow(0px 1px 2px rgba(0, 0, 0, 0.3));\n",
              "      fill: #FFFFFF;\n",
              "    }\n",
              "  </style>\n",
              "\n",
              "    <script>\n",
              "      const buttonEl =\n",
              "        document.querySelector('#df-418f1e10-2aea-40f8-b2ab-be523faf272f button.colab-df-convert');\n",
              "      buttonEl.style.display =\n",
              "        google.colab.kernel.accessAllowed ? 'block' : 'none';\n",
              "\n",
              "      async function convertToInteractive(key) {\n",
              "        const element = document.querySelector('#df-418f1e10-2aea-40f8-b2ab-be523faf272f');\n",
              "        const dataTable =\n",
              "          await google.colab.kernel.invokeFunction('convertToInteractive',\n",
              "                                                    [key], {});\n",
              "        if (!dataTable) return;\n",
              "\n",
              "        const docLinkHtml = 'Like what you see? Visit the ' +\n",
              "          '<a target=\"_blank\" href=https://colab.research.google.com/notebooks/data_table.ipynb>data table notebook</a>'\n",
              "          + ' to learn more about interactive tables.';\n",
              "        element.innerHTML = '';\n",
              "        dataTable['output_type'] = 'display_data';\n",
              "        await google.colab.output.renderOutput(dataTable, element);\n",
              "        const docLink = document.createElement('div');\n",
              "        docLink.innerHTML = docLinkHtml;\n",
              "        element.appendChild(docLink);\n",
              "      }\n",
              "    </script>\n",
              "  </div>\n",
              "\n",
              "\n",
              "<div id=\"df-dfba51c5-bf3e-4bfb-a002-7e83c20d90e6\">\n",
              "  <button class=\"colab-df-quickchart\" onclick=\"quickchart('df-dfba51c5-bf3e-4bfb-a002-7e83c20d90e6')\"\n",
              "            title=\"Suggest charts\"\n",
              "            style=\"display:none;\">\n",
              "\n",
              "<svg xmlns=\"http://www.w3.org/2000/svg\" height=\"24px\"viewBox=\"0 0 24 24\"\n",
              "     width=\"24px\">\n",
              "    <g>\n",
              "        <path d=\"M19 3H5c-1.1 0-2 .9-2 2v14c0 1.1.9 2 2 2h14c1.1 0 2-.9 2-2V5c0-1.1-.9-2-2-2zM9 17H7v-7h2v7zm4 0h-2V7h2v10zm4 0h-2v-4h2v4z\"/>\n",
              "    </g>\n",
              "</svg>\n",
              "  </button>\n",
              "\n",
              "<style>\n",
              "  .colab-df-quickchart {\n",
              "      --bg-color: #E8F0FE;\n",
              "      --fill-color: #1967D2;\n",
              "      --hover-bg-color: #E2EBFA;\n",
              "      --hover-fill-color: #174EA6;\n",
              "      --disabled-fill-color: #AAA;\n",
              "      --disabled-bg-color: #DDD;\n",
              "  }\n",
              "\n",
              "  [theme=dark] .colab-df-quickchart {\n",
              "      --bg-color: #3B4455;\n",
              "      --fill-color: #D2E3FC;\n",
              "      --hover-bg-color: #434B5C;\n",
              "      --hover-fill-color: #FFFFFF;\n",
              "      --disabled-bg-color: #3B4455;\n",
              "      --disabled-fill-color: #666;\n",
              "  }\n",
              "\n",
              "  .colab-df-quickchart {\n",
              "    background-color: var(--bg-color);\n",
              "    border: none;\n",
              "    border-radius: 50%;\n",
              "    cursor: pointer;\n",
              "    display: none;\n",
              "    fill: var(--fill-color);\n",
              "    height: 32px;\n",
              "    padding: 0;\n",
              "    width: 32px;\n",
              "  }\n",
              "\n",
              "  .colab-df-quickchart:hover {\n",
              "    background-color: var(--hover-bg-color);\n",
              "    box-shadow: 0 1px 2px rgba(60, 64, 67, 0.3), 0 1px 3px 1px rgba(60, 64, 67, 0.15);\n",
              "    fill: var(--button-hover-fill-color);\n",
              "  }\n",
              "\n",
              "  .colab-df-quickchart-complete:disabled,\n",
              "  .colab-df-quickchart-complete:disabled:hover {\n",
              "    background-color: var(--disabled-bg-color);\n",
              "    fill: var(--disabled-fill-color);\n",
              "    box-shadow: none;\n",
              "  }\n",
              "\n",
              "  .colab-df-spinner {\n",
              "    border: 2px solid var(--fill-color);\n",
              "    border-color: transparent;\n",
              "    border-bottom-color: var(--fill-color);\n",
              "    animation:\n",
              "      spin 1s steps(1) infinite;\n",
              "  }\n",
              "\n",
              "  @keyframes spin {\n",
              "    0% {\n",
              "      border-color: transparent;\n",
              "      border-bottom-color: var(--fill-color);\n",
              "      border-left-color: var(--fill-color);\n",
              "    }\n",
              "    20% {\n",
              "      border-color: transparent;\n",
              "      border-left-color: var(--fill-color);\n",
              "      border-top-color: var(--fill-color);\n",
              "    }\n",
              "    30% {\n",
              "      border-color: transparent;\n",
              "      border-left-color: var(--fill-color);\n",
              "      border-top-color: var(--fill-color);\n",
              "      border-right-color: var(--fill-color);\n",
              "    }\n",
              "    40% {\n",
              "      border-color: transparent;\n",
              "      border-right-color: var(--fill-color);\n",
              "      border-top-color: var(--fill-color);\n",
              "    }\n",
              "    60% {\n",
              "      border-color: transparent;\n",
              "      border-right-color: var(--fill-color);\n",
              "    }\n",
              "    80% {\n",
              "      border-color: transparent;\n",
              "      border-right-color: var(--fill-color);\n",
              "      border-bottom-color: var(--fill-color);\n",
              "    }\n",
              "    90% {\n",
              "      border-color: transparent;\n",
              "      border-bottom-color: var(--fill-color);\n",
              "    }\n",
              "  }\n",
              "</style>\n",
              "\n",
              "  <script>\n",
              "    async function quickchart(key) {\n",
              "      const quickchartButtonEl =\n",
              "        document.querySelector('#' + key + ' button');\n",
              "      quickchartButtonEl.disabled = true;  // To prevent multiple clicks.\n",
              "      quickchartButtonEl.classList.add('colab-df-spinner');\n",
              "      try {\n",
              "        const charts = await google.colab.kernel.invokeFunction(\n",
              "            'suggestCharts', [key], {});\n",
              "      } catch (error) {\n",
              "        console.error('Error during call to suggestCharts:', error);\n",
              "      }\n",
              "      quickchartButtonEl.classList.remove('colab-df-spinner');\n",
              "      quickchartButtonEl.classList.add('colab-df-quickchart-complete');\n",
              "    }\n",
              "    (() => {\n",
              "      let quickchartButtonEl =\n",
              "        document.querySelector('#df-dfba51c5-bf3e-4bfb-a002-7e83c20d90e6 button');\n",
              "      quickchartButtonEl.style.display =\n",
              "        google.colab.kernel.accessAllowed ? 'block' : 'none';\n",
              "    })();\n",
              "  </script>\n",
              "</div>\n",
              "\n",
              "    </div>\n",
              "  </div>\n"
            ],
            "application/vnd.google.colaboratory.intrinsic+json": {
              "type": "dataframe",
              "summary": "{\n  \"name\": \"importance_df[importance_df['importance'] > 0]\",\n  \"rows\": 78,\n  \"fields\": [\n    {\n      \"column\": \"feature\",\n      \"properties\": {\n        \"dtype\": \"string\",\n        \"num_unique_values\": 78,\n        \"samples\": [\n          \"mcomisiones\",\n          \"mcuentas_saldo\",\n          \"ccajas_transacciones\"\n        ],\n        \"semantic_type\": \"\",\n        \"description\": \"\"\n      }\n    },\n    {\n      \"column\": \"importance\",\n      \"properties\": {\n        \"dtype\": \"int32\",\n        \"num_unique_values\": 34,\n        \"samples\": [\n          21,\n          16,\n          7\n        ],\n        \"semantic_type\": \"\",\n        \"description\": \"\"\n      }\n    }\n  ]\n}"
            }
          },
          "metadata": {},
          "execution_count": 71
        }
      ],
      "source": [
        "importances = model.feature_importance()\n",
        "feature_names = X_train.columns.tolist()\n",
        "importance_df = pd.DataFrame({'feature': feature_names, 'importance': importances})\n",
        "importance_df = importance_df.sort_values('importance', ascending=False)\n",
        "importance_df[importance_df['importance'] > 0]\n"
      ]
    },
    {
      "cell_type": "code",
      "execution_count": 102,
      "metadata": {
        "id": "oh42cNCGd9fs"
      },
      "outputs": [],
      "source": [
        "y_pred_lgm = model.predict(X_test)"
      ]
    },
    {
      "cell_type": "code",
      "execution_count": 103,
      "metadata": {
        "id": "saX21blQeHTN",
        "colab": {
          "base_uri": "https://localhost:8080/"
        },
        "outputId": "998370fd-2d90-4b1c-f11f-13a52a8b1c22"
      },
      "outputs": [
        {
          "output_type": "stream",
          "name": "stdout",
          "text": [
            "Ganancia LGBM: -105028000.0\n"
          ]
        }
      ],
      "source": [
        "def ganancia_prob(y_pred, y_true, prop = 1):\n",
        "  ganancia = np.where(y_true == 1, ganancia_acierto, 0) - np.where(y_true == 0, costo_estimulo, 0)\n",
        "  return ganancia[y_pred >= 0.025].sum() / prop\n",
        "\n",
        "#print(\"Ganancia RF:\", ganancia_prob(y_pred_rf, y_test_binaria1))\n",
        "print(\"Ganancia LGBM:\", ganancia_prob(y_pred_lgm, y_test_binaria1))\n"
      ]
    },
    {
      "cell_type": "markdown",
      "metadata": {
        "id": "rLaNokOzd827"
      },
      "source": [
        "Prediccion de abril"
      ]
    },
    {
      "cell_type": "code",
      "source": [
        "X_test.shape"
      ],
      "metadata": {
        "colab": {
          "base_uri": "https://localhost:8080/"
        },
        "id": "p0D59Y77sMik",
        "outputId": "ade50bfe-8af8-44aa-a6ed-34222fc9706f"
      },
      "execution_count": 104,
      "outputs": [
        {
          "output_type": "execute_result",
          "data": {
            "text/plain": [
              "(164876, 154)"
            ]
          },
          "metadata": {},
          "execution_count": 104
        }
      ]
    },
    {
      "cell_type": "code",
      "execution_count": 114,
      "metadata": {
        "id": "RLXI7DXYdIWn",
        "colab": {
          "base_uri": "https://localhost:8080/",
          "height": 52
        },
        "outputId": "f6b86f58-2b0c-477a-bdab-5d5ad63217f5"
      },
      "outputs": [
        {
          "output_type": "stream",
          "name": "stdout",
          "text": [
            "Archivo predicciones_kaggle_714.csv guardado.\n"
          ]
        },
        {
          "output_type": "display_data",
          "data": {
            "text/plain": [
              "<IPython.core.display.Javascript object>"
            ],
            "application/javascript": [
              "\n",
              "    async function download(id, filename, size) {\n",
              "      if (!google.colab.kernel.accessAllowed) {\n",
              "        return;\n",
              "      }\n",
              "      const div = document.createElement('div');\n",
              "      const label = document.createElement('label');\n",
              "      label.textContent = `Downloading \"${filename}\": `;\n",
              "      div.appendChild(label);\n",
              "      const progress = document.createElement('progress');\n",
              "      progress.max = size;\n",
              "      div.appendChild(progress);\n",
              "      document.body.appendChild(div);\n",
              "\n",
              "      const buffers = [];\n",
              "      let downloaded = 0;\n",
              "\n",
              "      const channel = await google.colab.kernel.comms.open(id);\n",
              "      // Send a message to notify the kernel that we're ready.\n",
              "      channel.send({})\n",
              "\n",
              "      for await (const message of channel.messages) {\n",
              "        // Send a message to notify the kernel that we're ready.\n",
              "        channel.send({})\n",
              "        if (message.buffers) {\n",
              "          for (const buffer of message.buffers) {\n",
              "            buffers.push(buffer);\n",
              "            downloaded += buffer.byteLength;\n",
              "            progress.value = downloaded;\n",
              "          }\n",
              "        }\n",
              "      }\n",
              "      const blob = new Blob(buffers, {type: 'application/binary'});\n",
              "      const a = document.createElement('a');\n",
              "      a.href = window.URL.createObjectURL(blob);\n",
              "      a.download = filename;\n",
              "      div.appendChild(a);\n",
              "      a.click();\n",
              "      div.remove();\n",
              "    }\n",
              "  "
            ]
          },
          "metadata": {}
        },
        {
          "output_type": "display_data",
          "data": {
            "text/plain": [
              "<IPython.core.display.Javascript object>"
            ],
            "application/javascript": [
              "download(\"download_77699196-d457-428c-9163-d0df45e03dbb\", \"predicciones_kaggle_714.csv\", 2020463)"
            ]
          },
          "metadata": {}
        }
      ],
      "source": [
        "# Agregar las probabilidades al DataFrame de prueba\n",
        "test_data['pred_prob'] = y_pred_lgm  # Aquí debes usar las probabilidades predichas\n",
        "\n",
        "# Ordenar las predicciones por la probabilidad de forma descendente\n",
        "test_data = test_data.sort_values(by='pred_prob', ascending=False)\n",
        "\n",
        "# Marcar los primeros X como positivos ()\n",
        "X = 8700\n",
        "test_data['Predicted'] = 0  # Inicializar todos como 0 (negativo)\n",
        "test_data.iloc[:X, test_data.columns.get_loc('Predicted')] = 1  # Marcar los primeros X como 1 (positivo)\n",
        "\n",
        "# Crear el archivo de salida para Kaggle\n",
        "output = test_data[['numero_de_cliente', 'Predicted']]\n",
        "\n",
        "# Guardar el archivo en formato CSV para Kaggle, usando la variable semilla en el nombre\n",
        "nombre_archivo = f'predicciones_kaggle_{semilla}.csv'\n",
        "output.to_csv(nombre_archivo, index=False)\n",
        "print(f\"Archivo {nombre_archivo} guardado.\")\n",
        "\n",
        "# Descargar el archivo a tu computadora\n",
        "from google.colab import files\n",
        "files.download(nombre_archivo)"
      ]
    }
  ],
  "metadata": {
    "colab": {
      "provenance": []
    },
    "kernelspec": {
      "display_name": "Python 3",
      "name": "python3"
    },
    "language_info": {
      "name": "python"
    }
  },
  "nbformat": 4,
  "nbformat_minor": 0
}