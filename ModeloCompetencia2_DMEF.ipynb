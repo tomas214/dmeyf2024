{
  "cells": [
    {
      "cell_type": "code",
      "execution_count": 1,
      "metadata": {
        "colab": {
          "base_uri": "https://localhost:8080/"
        },
        "id": "vFPiTB5zanE1",
        "outputId": "8c86dd22-0a69-4e5b-85f1-2347f6e7ca25"
      },
      "outputs": [
        {
          "output_type": "stream",
          "name": "stdout",
          "text": [
            "Collecting optuna==3.6.1\n",
            "  Downloading optuna-3.6.1-py3-none-any.whl.metadata (17 kB)\n",
            "Collecting alembic>=1.5.0 (from optuna==3.6.1)\n",
            "  Downloading alembic-1.14.0-py3-none-any.whl.metadata (7.4 kB)\n",
            "Collecting colorlog (from optuna==3.6.1)\n",
            "  Downloading colorlog-6.9.0-py3-none-any.whl.metadata (10 kB)\n",
            "Requirement already satisfied: numpy in /usr/local/lib/python3.10/dist-packages (from optuna==3.6.1) (1.26.4)\n",
            "Requirement already satisfied: packaging>=20.0 in /usr/local/lib/python3.10/dist-packages (from optuna==3.6.1) (24.2)\n",
            "Requirement already satisfied: sqlalchemy>=1.3.0 in /usr/local/lib/python3.10/dist-packages (from optuna==3.6.1) (2.0.36)\n",
            "Requirement already satisfied: tqdm in /usr/local/lib/python3.10/dist-packages (from optuna==3.6.1) (4.66.6)\n",
            "Requirement already satisfied: PyYAML in /usr/local/lib/python3.10/dist-packages (from optuna==3.6.1) (6.0.2)\n",
            "Collecting Mako (from alembic>=1.5.0->optuna==3.6.1)\n",
            "  Downloading Mako-1.3.6-py3-none-any.whl.metadata (2.9 kB)\n",
            "Requirement already satisfied: typing-extensions>=4 in /usr/local/lib/python3.10/dist-packages (from alembic>=1.5.0->optuna==3.6.1) (4.12.2)\n",
            "Requirement already satisfied: greenlet!=0.4.17 in /usr/local/lib/python3.10/dist-packages (from sqlalchemy>=1.3.0->optuna==3.6.1) (3.1.1)\n",
            "Requirement already satisfied: MarkupSafe>=0.9.2 in /usr/local/lib/python3.10/dist-packages (from Mako->alembic>=1.5.0->optuna==3.6.1) (3.0.2)\n",
            "Downloading optuna-3.6.1-py3-none-any.whl (380 kB)\n",
            "\u001b[2K   \u001b[90m━━━━━━━━━━━━━━━━━━━━━━━━━━━━━━━━━━━━━━━━\u001b[0m \u001b[32m380.1/380.1 kB\u001b[0m \u001b[31m7.5 MB/s\u001b[0m eta \u001b[36m0:00:00\u001b[0m\n",
            "\u001b[?25hDownloading alembic-1.14.0-py3-none-any.whl (233 kB)\n",
            "\u001b[2K   \u001b[90m━━━━━━━━━━━━━━━━━━━━━━━━━━━━━━━━━━━━━━━━\u001b[0m \u001b[32m233.5/233.5 kB\u001b[0m \u001b[31m16.9 MB/s\u001b[0m eta \u001b[36m0:00:00\u001b[0m\n",
            "\u001b[?25hDownloading colorlog-6.9.0-py3-none-any.whl (11 kB)\n",
            "Downloading Mako-1.3.6-py3-none-any.whl (78 kB)\n",
            "\u001b[2K   \u001b[90m━━━━━━━━━━━━━━━━━━━━━━━━━━━━━━━━━━━━━━━━\u001b[0m \u001b[32m78.6/78.6 kB\u001b[0m \u001b[31m6.0 MB/s\u001b[0m eta \u001b[36m0:00:00\u001b[0m\n",
            "\u001b[?25hInstalling collected packages: Mako, colorlog, alembic, optuna\n",
            "Successfully installed Mako-1.3.6 alembic-1.14.0 colorlog-6.9.0 optuna-3.6.1\n"
          ]
        }
      ],
      "source": [
        "%pip install optuna==3.6.1"
      ]
    },
    {
      "cell_type": "code",
      "source": [
        "pip install --upgrade lightgbm"
      ],
      "metadata": {
        "colab": {
          "base_uri": "https://localhost:8080/"
        },
        "id": "0ddbf5ZfVXF7",
        "outputId": "d2a3fb00-7b40-4604-d5ad-ea1ffd59ab87"
      },
      "execution_count": 2,
      "outputs": [
        {
          "output_type": "stream",
          "name": "stdout",
          "text": [
            "Requirement already satisfied: lightgbm in /usr/local/lib/python3.10/dist-packages (4.5.0)\n",
            "Requirement already satisfied: numpy>=1.17.0 in /usr/local/lib/python3.10/dist-packages (from lightgbm) (1.26.4)\n",
            "Requirement already satisfied: scipy in /usr/local/lib/python3.10/dist-packages (from lightgbm) (1.13.1)\n"
          ]
        }
      ]
    },
    {
      "cell_type": "code",
      "execution_count": 3,
      "metadata": {
        "id": "khKrPN_Catac",
        "colab": {
          "base_uri": "https://localhost:8080/"
        },
        "outputId": "c5f04196-75d5-4fb6-ae56-d5af03ba8ffc"
      },
      "outputs": [
        {
          "output_type": "stream",
          "name": "stderr",
          "text": [
            "/usr/local/lib/python3.10/dist-packages/dask/dataframe/__init__.py:42: FutureWarning: \n",
            "Dask dataframe query planning is disabled because dask-expr is not installed.\n",
            "\n",
            "You can install it with `pip install dask[dataframe]` or `conda install dask`.\n",
            "This will raise in a future version.\n",
            "\n",
            "  warnings.warn(msg, FutureWarning)\n"
          ]
        }
      ],
      "source": [
        "import pandas as pd\n",
        "import numpy as np\n",
        "import seaborn as sns\n",
        "import matplotlib.pyplot as plt\n",
        "\n",
        "from sklearn.model_selection import train_test_split\n",
        "from sklearn.model_selection import ShuffleSplit, StratifiedShuffleSplit\n",
        "from sklearn.ensemble import RandomForestClassifier\n",
        "from sklearn.impute import SimpleImputer\n",
        "from sklearn.model_selection import KFold\n",
        "from sklearn.impute import SimpleImputer\n",
        "\n",
        "import lightgbm as lgb\n",
        "\n",
        "\n",
        "import optuna\n",
        "from optuna.visualization import plot_optimization_history, plot_param_importances, plot_slice, plot_contour\n",
        "\n",
        "from time import time\n",
        "\n",
        "import pickle"
      ]
    },
    {
      "cell_type": "code",
      "execution_count": 4,
      "metadata": {
        "colab": {
          "base_uri": "https://localhost:8080/"
        },
        "id": "j97XTq6Xav2s",
        "outputId": "d74a9666-32a4-4ead-c05d-e5a2644fa8b4"
      },
      "outputs": [
        {
          "output_type": "stream",
          "name": "stdout",
          "text": [
            "Mounted at /content/drive\n"
          ]
        }
      ],
      "source": [
        "from google.colab import drive\n",
        "drive.mount(\"/content/drive\")"
      ]
    },
    {
      "cell_type": "code",
      "execution_count": 5,
      "metadata": {
        "id": "jpHbdRGVax8P",
        "colab": {
          "base_uri": "https://localhost:8080/"
        },
        "outputId": "de5c3332-204c-4de1-aefa-ee18fe167cbe"
      },
      "outputs": [
        {
          "output_type": "stream",
          "name": "stderr",
          "text": [
            "<ipython-input-5-944a61a0f8c1>:4: DtypeWarning: Columns (155) have mixed types. Specify dtype option on import or set low_memory=False.\n",
            "  data = pd.read_csv(dataset_path + dataset_file)\n"
          ]
        }
      ],
      "source": [
        "dataset_path = '/content/drive/MyDrive/MaestDataMining/Especializacion/2C/DMEF/Datasets/'\n",
        "dataset_file = 'competencia_02_Ternaria_PaOpt.csv'\n",
        "\n",
        "data = pd.read_csv(dataset_path + dataset_file)"
      ]
    },
    {
      "cell_type": "code",
      "source": [
        "# Eliminar la columna 'X'\n",
        "data = data.drop(columns=['X'], errors='ignore')\n"
      ],
      "metadata": {
        "id": "xsnnvuCb2qYV"
      },
      "execution_count": 6,
      "outputs": []
    },
    {
      "cell_type": "code",
      "source": [
        "data['foto_mes'] = data['foto_mes'].astype(str)  # Asegura que 'foto_mes' sea tipo string\n",
        "\n",
        "# Filtrar y contar para cada mes por separado\n",
        "meses_filtrados = [\"202108\", \"202107\", \"202106\", \"202105\"]\n",
        "\n",
        "for mes in meses_filtrados:\n",
        "    # Filtrar los datos para el mes específico\n",
        "    data_mes = data[data['foto_mes'] == mes]\n",
        "\n",
        "    # Comprobar si hay datos para el mes\n",
        "    if not data_mes.empty:\n",
        "        # Contar la cantidad de casos por categoría en 'clase_ternaria'\n",
        "        conteo_clases = data_mes['clase_ternaria'].value_counts()\n",
        "\n",
        "        # Mostrar el resultado para el mes\n",
        "        print(f\"Conteo de clases para {mes}:\")\n",
        "        print(conteo_clases)\n",
        "    else:\n",
        "        print(f\"No hay datos para el mes {mes}\")\n",
        "    print(\"\\n\")\n",
        "\n",
        "\n",
        "    # Junio es el último mes con datos para entrenar\n",
        "    # Queremos predecir agosto"
      ],
      "metadata": {
        "colab": {
          "base_uri": "https://localhost:8080/"
        },
        "id": "2pQWq63Onfkz",
        "outputId": "826db474-d6c1-49bc-b9a2-95e1b4b667fa"
      },
      "execution_count": 7,
      "outputs": [
        {
          "output_type": "stream",
          "name": "stdout",
          "text": [
            "Conteo de clases para 202108:\n",
            "Series([], Name: count, dtype: int64)\n",
            "\n",
            "\n",
            "Conteo de clases para 202107:\n",
            "clase_ternaria\n",
            "BAJA+1    1075\n",
            "Name: count, dtype: int64\n",
            "\n",
            "\n",
            "Conteo de clases para 202106:\n",
            "clase_ternaria\n",
            "CONTINUA    162889\n",
            "BAJA+2        1074\n",
            "BAJA+1         913\n",
            "Name: count, dtype: int64\n",
            "\n",
            "\n",
            "Conteo de clases para 202105:\n",
            "clase_ternaria\n",
            "CONTINUA    162520\n",
            "BAJA+1        1192\n",
            "BAJA+2         911\n",
            "Name: count, dtype: int64\n",
            "\n",
            "\n"
          ]
        }
      ]
    },
    {
      "cell_type": "code",
      "source": [
        "#Se está rompiendo más adelante, voy a borrar más meses. Dejo desde agsto 2020 (ahora dejo julio pero solo para calcular el lag y dlag de agosto 2020)\n",
        "\n",
        "# Filtrar los datos para mantener solo los meses a partir de agosto 2020\n",
        "data = data[(data['foto_mes'] >= \"202007\")]"
      ],
      "metadata": {
        "id": "YyhZhgDcLOAT"
      },
      "execution_count": 8,
      "outputs": []
    },
    {
      "cell_type": "code",
      "source": [
        "#Quito columnas con 1er cuartil y mediana 0, porque se rompe la ram si meto todo\n",
        "omit_columns = [\n",
        "    \"cliente_vip\", \"internet\", \"mcuenta_corriente_adicional\", \"mcaja_ahorro_adicional\",\n",
        "    \"ctarjeta_master_transacciones\", \"mtarjeta_master_consumo\", \"cprestamos_personales\", \"mprestamos_personales\",\n",
        "    \"cprestamos_prendarios\", \"mprestamos_prendarios\", \"cprestamos_hipotecarios\", \"mprestamos_hipotecarios\",\n",
        "    \"cplazo_fijo\", \"mplazo_fijo_dolares\", \"mplazo_fijo_pesos\", \"cinversion1\", \"minversion1_pesos\", \"minversion1_dolares\",\n",
        "    \"cinversion2\", \"minversion2\", \"cseguro_vida\", \"cseguro_auto\", \"cseguro_vivienda\", \"cseguro_accidentes_personales\",\n",
        "    \"ccaja_seguridad\", \"mpayroll2\", \"cpayroll2_trx\", \"ccuenta_debitos_automaticos\", \"mcuenta_debitos_automaticos\",\n",
        "    \"ctarjeta_master_debitos_automaticos\", \"mttarjeta_master_debitos_automaticos\", \"cpagodeservicios\", \"mpagodeservicios\",\n",
        "    \"cpagomiscuentas\", \"mpagomiscuentas\", \"ccajeros_propios_descuentos\", \"mcajeros_propios_descuentos\",\n",
        "    \"ctarjeta_visa_descuentos\", \"mtarjeta_visa_descuentos\", \"ctarjeta_master_descuentos\", \"mtarjeta_master_descuentos\",\n",
        "    \"ccomisiones_mantenimiento\", \"mcomisiones_mantenimiento\", \"cforex\", \"cforex_buy\", \"mforex_buy\", \"cforex_sell\",\n",
        "    \"mforex_sell\", \"cextraccion_autoservicio\", \"mextraccion_autoservicio\", \"ccheques_depositados\",\n",
        "    \"mcheques_depositados\", \"ccheques_emitidos\", \"mcheques_emitidos\", \"ccheques_depositados_rechazados\",\n",
        "    \"mcheques_depositados_rechazados\", \"ccheques_emitidos_rechazados\", \"mcheques_emitidos_rechazados\", \"tcallcenter\",\n",
        "    \"ccallcenter_transacciones\", \"ccajas_transacciones\", \"ccajas_consultas\", \"ccajas_depositos\", \"ccajas_extracciones\",\n",
        "    \"ccajas_otras\", \"catm_trx\", \"matm\", \"catm_trx_other\", \"matm_other\", \"tmobile_app\", \"Master_delinquency\",\n",
        "    \"Master_status\", \"Master_msaldototal\", \"Master_msaldopesos\", \"Master_msaldodolares\", \"Master_mconsumosdolares\",\n",
        "    \"Master_madelantopesos\", \"Master_madelantodolares\", \"Master_mpagado\", \"Master_mpagosdolares\",\n",
        "    \"Master_cadelantosefectivo\", \"Master_mpagominimo\", \"Visa_delinquency\", \"Visa_status\", \"Visa_Finiciomora\",\n",
        "    \"Visa_msaldodolares\", \"Visa_mconsumosdolares\", \"Visa_madelantopesos\", \"Visa_madelantodolares\", \"Visa_mpagado\",\n",
        "    \"Visa_mpagosdolares\", \"Visa_cadelantosefectivo\"\n",
        "]\n",
        "\n",
        "# Eliminar columnas\n",
        "data = data.drop(columns=omit_columns)"
      ],
      "metadata": {
        "id": "3P1-HwqL-6kj"
      },
      "execution_count": 9,
      "outputs": []
    },
    {
      "cell_type": "code",
      "source": [
        "# Obtener y mostrar los nombres de las columnas del DataFrame\n",
        "column_names = data.columns.tolist()\n",
        "\n",
        "# Imprimir los nombres de las columnas\n",
        "print(\"Nombres de las columnas del DataFrame:\")\n",
        "print(column_names)"
      ],
      "metadata": {
        "colab": {
          "base_uri": "https://localhost:8080/"
        },
        "id": "FjH2k24KALxT",
        "outputId": "c8bf32d8-98fa-430a-f46e-0fb1f1ce9322"
      },
      "execution_count": 10,
      "outputs": [
        {
          "output_type": "stream",
          "name": "stdout",
          "text": [
            "Nombres de las columnas del DataFrame:\n",
            "['numero_de_cliente', 'foto_mes', 'active_quarter', 'cliente_edad', 'cliente_antiguedad', 'mrentabilidad', 'mrentabilidad_annual', 'mcomisiones', 'mactivos_margen', 'mpasivos_margen', 'cproductos', 'tcuentas', 'ccuenta_corriente', 'mcuenta_corriente', 'ccaja_ahorro', 'mcaja_ahorro', 'mcaja_ahorro_dolares', 'cdescubierto_preacordado', 'mcuentas_saldo', 'ctarjeta_debito', 'ctarjeta_debito_transacciones', 'mautoservicio', 'ctarjeta_visa', 'ctarjeta_visa_transacciones', 'mtarjeta_visa_consumo', 'ctarjeta_master', 'cpayroll_trx', 'mpayroll', 'ctarjeta_visa_debitos_automaticos', 'mttarjeta_visa_debitos_automaticos', 'ccomisiones_otras', 'mcomisiones_otras', 'ctransferencias_recibidas', 'mtransferencias_recibidas', 'ctransferencias_emitidas', 'mtransferencias_emitidas', 'thomebanking', 'chomebanking_transacciones', 'ctrx_quarter', 'cmobile_app_trx', 'Master_mfinanciacion_limite', 'Master_Fvencimiento', 'Master_Finiciomora', 'Master_mconsumospesos', 'Master_mlimitecompra', 'Master_fultimo_cierre', 'Master_mpagospesos', 'Master_fechaalta', 'Master_mconsumototal', 'Master_cconsumos', 'Visa_mfinanciacion_limite', 'Visa_Fvencimiento', 'Visa_msaldototal', 'Visa_msaldopesos', 'Visa_mconsumospesos', 'Visa_mlimitecompra', 'Visa_fultimo_cierre', 'Visa_mpagospesos', 'Visa_fechaalta', 'Visa_mconsumototal', 'Visa_cconsumos', 'Visa_mpagominimo', 'clase_ternaria']\n"
          ]
        }
      ]
    },
    {
      "cell_type": "code",
      "source": [
        "# Sigo sacando columnas, porque si no no puedo correr\n",
        "columns_to_keep = [\n",
        "    'clase_ternaria', 'numero_de_cliente', 'foto_mes',\n",
        "    'mpayroll', 'mcuenta_corriente',\n",
        "    'mrentabilidad', 'mrentabilidad_annual', 'mcomisiones',\n",
        "    'ctrx_quarter', 'mtransferencias_emitidas',\n",
        "    'ctarjeta_visa_transacciones', 'mtarjeta_visa_consumo', 'cproductos'\n",
        "]\n",
        "\n",
        "# Seleccionar únicamente las columnas deseadas. Uso estas, más adelante uso más cuando tenga mejor ram\n",
        "data = data[columns_to_keep]"
      ],
      "metadata": {
        "id": "_tcF4PMYCTfM"
      },
      "execution_count": 11,
      "outputs": []
    },
    {
      "cell_type": "code",
      "source": [
        "# Calcular los percentiles, omitiendo las columnas esas\n",
        "for col in data.columns:\n",
        "    if col not in ['numero_de_cliente', 'foto_mes', 'clase_ternaria']:\n",
        "        data[f'percentile_{col}'] = data[col].rank(pct=True)"
      ],
      "metadata": {
        "id": "hl5xuPNUKcDJ"
      },
      "execution_count": 12,
      "outputs": []
    },
    {
      "cell_type": "code",
      "source": [
        "print(data.shape)\n",
        "data.head()"
      ],
      "metadata": {
        "colab": {
          "base_uri": "https://localhost:8080/",
          "height": 273
        },
        "id": "3H1EdAzNF6oY",
        "outputId": "33445aaf-8cc1-486d-9447-1ec0fe576c85"
      },
      "execution_count": 13,
      "outputs": [
        {
          "output_type": "stream",
          "name": "stdout",
          "text": [
            "(2265732, 23)\n"
          ]
        },
        {
          "output_type": "execute_result",
          "data": {
            "text/plain": [
              "  clase_ternaria  numero_de_cliente foto_mes  mpayroll  mcuenta_corriente  \\\n",
              "0       CONTINUA          249221109   202007  64515.00               0.00   \n",
              "1       CONTINUA          249221468   202007      0.00           -2423.81   \n",
              "2       CONTINUA          249223005   202007  99530.22            -418.29   \n",
              "3       CONTINUA          249228180   202007      0.00             -22.54   \n",
              "4       CONTINUA          249232117   202007      0.00               0.00   \n",
              "\n",
              "   mrentabilidad  mrentabilidad_annual  mcomisiones  ctrx_quarter  \\\n",
              "0        1550.36              15232.06      1623.85           161   \n",
              "1         893.83              20716.22       684.18           135   \n",
              "2        2604.70              26119.89      1194.66           230   \n",
              "3         521.80               3758.76       158.00            16   \n",
              "4        1154.58              31466.63      1654.78            29   \n",
              "\n",
              "   mtransferencias_emitidas  ...  percentile_mpayroll  \\\n",
              "0                  70164.19  ...             0.613643   \n",
              "1                  10557.00  ...             0.235768   \n",
              "2                      0.00  ...             0.743897   \n",
              "3                      0.00  ...             0.235768   \n",
              "4                      0.00  ...             0.235768   \n",
              "\n",
              "   percentile_mcuenta_corriente  percentile_mrentabilidad  \\\n",
              "0                      0.665010                  0.559992   \n",
              "1                      0.157599                  0.438132   \n",
              "2                      0.286208                  0.713268   \n",
              "3                      0.390517                  0.359120   \n",
              "4                      0.665010                  0.487548   \n",
              "\n",
              "   percentile_mrentabilidad_annual  percentile_mcomisiones  \\\n",
              "0                         0.528019                0.702433   \n",
              "1                         0.622306                0.449120   \n",
              "2                         0.695270                0.596098   \n",
              "3                         0.273844                0.165481   \n",
              "4                         0.750499                0.708786   \n",
              "\n",
              "   percentile_ctrx_quarter  percentile_mtransferencias_emitidas  \\\n",
              "0                 0.779994                             0.847988   \n",
              "1                 0.677833                             0.552508   \n",
              "2                 0.922660                             0.203755   \n",
              "3                 0.060093                             0.203755   \n",
              "4                 0.113705                             0.203755   \n",
              "\n",
              "   percentile_ctarjeta_visa_transacciones  percentile_mtarjeta_visa_consumo  \\\n",
              "0                                0.660618                          0.500427   \n",
              "1                                0.821192                          0.773789   \n",
              "2                                0.949999                          0.699981   \n",
              "3                                0.361661                          0.450335   \n",
              "4                                0.491202                          0.738943   \n",
              "\n",
              "   percentile_cproductos  \n",
              "0               0.656463  \n",
              "1               0.656463  \n",
              "2               0.139360  \n",
              "3               0.388718  \n",
              "4               0.388718  \n",
              "\n",
              "[5 rows x 23 columns]"
            ],
            "text/html": [
              "\n",
              "  <div id=\"df-092b72ac-2700-4235-8418-01ec95a07305\" class=\"colab-df-container\">\n",
              "    <div>\n",
              "<style scoped>\n",
              "    .dataframe tbody tr th:only-of-type {\n",
              "        vertical-align: middle;\n",
              "    }\n",
              "\n",
              "    .dataframe tbody tr th {\n",
              "        vertical-align: top;\n",
              "    }\n",
              "\n",
              "    .dataframe thead th {\n",
              "        text-align: right;\n",
              "    }\n",
              "</style>\n",
              "<table border=\"1\" class=\"dataframe\">\n",
              "  <thead>\n",
              "    <tr style=\"text-align: right;\">\n",
              "      <th></th>\n",
              "      <th>clase_ternaria</th>\n",
              "      <th>numero_de_cliente</th>\n",
              "      <th>foto_mes</th>\n",
              "      <th>mpayroll</th>\n",
              "      <th>mcuenta_corriente</th>\n",
              "      <th>mrentabilidad</th>\n",
              "      <th>mrentabilidad_annual</th>\n",
              "      <th>mcomisiones</th>\n",
              "      <th>ctrx_quarter</th>\n",
              "      <th>mtransferencias_emitidas</th>\n",
              "      <th>...</th>\n",
              "      <th>percentile_mpayroll</th>\n",
              "      <th>percentile_mcuenta_corriente</th>\n",
              "      <th>percentile_mrentabilidad</th>\n",
              "      <th>percentile_mrentabilidad_annual</th>\n",
              "      <th>percentile_mcomisiones</th>\n",
              "      <th>percentile_ctrx_quarter</th>\n",
              "      <th>percentile_mtransferencias_emitidas</th>\n",
              "      <th>percentile_ctarjeta_visa_transacciones</th>\n",
              "      <th>percentile_mtarjeta_visa_consumo</th>\n",
              "      <th>percentile_cproductos</th>\n",
              "    </tr>\n",
              "  </thead>\n",
              "  <tbody>\n",
              "    <tr>\n",
              "      <th>0</th>\n",
              "      <td>CONTINUA</td>\n",
              "      <td>249221109</td>\n",
              "      <td>202007</td>\n",
              "      <td>64515.00</td>\n",
              "      <td>0.00</td>\n",
              "      <td>1550.36</td>\n",
              "      <td>15232.06</td>\n",
              "      <td>1623.85</td>\n",
              "      <td>161</td>\n",
              "      <td>70164.19</td>\n",
              "      <td>...</td>\n",
              "      <td>0.613643</td>\n",
              "      <td>0.665010</td>\n",
              "      <td>0.559992</td>\n",
              "      <td>0.528019</td>\n",
              "      <td>0.702433</td>\n",
              "      <td>0.779994</td>\n",
              "      <td>0.847988</td>\n",
              "      <td>0.660618</td>\n",
              "      <td>0.500427</td>\n",
              "      <td>0.656463</td>\n",
              "    </tr>\n",
              "    <tr>\n",
              "      <th>1</th>\n",
              "      <td>CONTINUA</td>\n",
              "      <td>249221468</td>\n",
              "      <td>202007</td>\n",
              "      <td>0.00</td>\n",
              "      <td>-2423.81</td>\n",
              "      <td>893.83</td>\n",
              "      <td>20716.22</td>\n",
              "      <td>684.18</td>\n",
              "      <td>135</td>\n",
              "      <td>10557.00</td>\n",
              "      <td>...</td>\n",
              "      <td>0.235768</td>\n",
              "      <td>0.157599</td>\n",
              "      <td>0.438132</td>\n",
              "      <td>0.622306</td>\n",
              "      <td>0.449120</td>\n",
              "      <td>0.677833</td>\n",
              "      <td>0.552508</td>\n",
              "      <td>0.821192</td>\n",
              "      <td>0.773789</td>\n",
              "      <td>0.656463</td>\n",
              "    </tr>\n",
              "    <tr>\n",
              "      <th>2</th>\n",
              "      <td>CONTINUA</td>\n",
              "      <td>249223005</td>\n",
              "      <td>202007</td>\n",
              "      <td>99530.22</td>\n",
              "      <td>-418.29</td>\n",
              "      <td>2604.70</td>\n",
              "      <td>26119.89</td>\n",
              "      <td>1194.66</td>\n",
              "      <td>230</td>\n",
              "      <td>0.00</td>\n",
              "      <td>...</td>\n",
              "      <td>0.743897</td>\n",
              "      <td>0.286208</td>\n",
              "      <td>0.713268</td>\n",
              "      <td>0.695270</td>\n",
              "      <td>0.596098</td>\n",
              "      <td>0.922660</td>\n",
              "      <td>0.203755</td>\n",
              "      <td>0.949999</td>\n",
              "      <td>0.699981</td>\n",
              "      <td>0.139360</td>\n",
              "    </tr>\n",
              "    <tr>\n",
              "      <th>3</th>\n",
              "      <td>CONTINUA</td>\n",
              "      <td>249228180</td>\n",
              "      <td>202007</td>\n",
              "      <td>0.00</td>\n",
              "      <td>-22.54</td>\n",
              "      <td>521.80</td>\n",
              "      <td>3758.76</td>\n",
              "      <td>158.00</td>\n",
              "      <td>16</td>\n",
              "      <td>0.00</td>\n",
              "      <td>...</td>\n",
              "      <td>0.235768</td>\n",
              "      <td>0.390517</td>\n",
              "      <td>0.359120</td>\n",
              "      <td>0.273844</td>\n",
              "      <td>0.165481</td>\n",
              "      <td>0.060093</td>\n",
              "      <td>0.203755</td>\n",
              "      <td>0.361661</td>\n",
              "      <td>0.450335</td>\n",
              "      <td>0.388718</td>\n",
              "    </tr>\n",
              "    <tr>\n",
              "      <th>4</th>\n",
              "      <td>CONTINUA</td>\n",
              "      <td>249232117</td>\n",
              "      <td>202007</td>\n",
              "      <td>0.00</td>\n",
              "      <td>0.00</td>\n",
              "      <td>1154.58</td>\n",
              "      <td>31466.63</td>\n",
              "      <td>1654.78</td>\n",
              "      <td>29</td>\n",
              "      <td>0.00</td>\n",
              "      <td>...</td>\n",
              "      <td>0.235768</td>\n",
              "      <td>0.665010</td>\n",
              "      <td>0.487548</td>\n",
              "      <td>0.750499</td>\n",
              "      <td>0.708786</td>\n",
              "      <td>0.113705</td>\n",
              "      <td>0.203755</td>\n",
              "      <td>0.491202</td>\n",
              "      <td>0.738943</td>\n",
              "      <td>0.388718</td>\n",
              "    </tr>\n",
              "  </tbody>\n",
              "</table>\n",
              "<p>5 rows × 23 columns</p>\n",
              "</div>\n",
              "    <div class=\"colab-df-buttons\">\n",
              "\n",
              "  <div class=\"colab-df-container\">\n",
              "    <button class=\"colab-df-convert\" onclick=\"convertToInteractive('df-092b72ac-2700-4235-8418-01ec95a07305')\"\n",
              "            title=\"Convert this dataframe to an interactive table.\"\n",
              "            style=\"display:none;\">\n",
              "\n",
              "  <svg xmlns=\"http://www.w3.org/2000/svg\" height=\"24px\" viewBox=\"0 -960 960 960\">\n",
              "    <path d=\"M120-120v-720h720v720H120Zm60-500h600v-160H180v160Zm220 220h160v-160H400v160Zm0 220h160v-160H400v160ZM180-400h160v-160H180v160Zm440 0h160v-160H620v160ZM180-180h160v-160H180v160Zm440 0h160v-160H620v160Z\"/>\n",
              "  </svg>\n",
              "    </button>\n",
              "\n",
              "  <style>\n",
              "    .colab-df-container {\n",
              "      display:flex;\n",
              "      gap: 12px;\n",
              "    }\n",
              "\n",
              "    .colab-df-convert {\n",
              "      background-color: #E8F0FE;\n",
              "      border: none;\n",
              "      border-radius: 50%;\n",
              "      cursor: pointer;\n",
              "      display: none;\n",
              "      fill: #1967D2;\n",
              "      height: 32px;\n",
              "      padding: 0 0 0 0;\n",
              "      width: 32px;\n",
              "    }\n",
              "\n",
              "    .colab-df-convert:hover {\n",
              "      background-color: #E2EBFA;\n",
              "      box-shadow: 0px 1px 2px rgba(60, 64, 67, 0.3), 0px 1px 3px 1px rgba(60, 64, 67, 0.15);\n",
              "      fill: #174EA6;\n",
              "    }\n",
              "\n",
              "    .colab-df-buttons div {\n",
              "      margin-bottom: 4px;\n",
              "    }\n",
              "\n",
              "    [theme=dark] .colab-df-convert {\n",
              "      background-color: #3B4455;\n",
              "      fill: #D2E3FC;\n",
              "    }\n",
              "\n",
              "    [theme=dark] .colab-df-convert:hover {\n",
              "      background-color: #434B5C;\n",
              "      box-shadow: 0px 1px 3px 1px rgba(0, 0, 0, 0.15);\n",
              "      filter: drop-shadow(0px 1px 2px rgba(0, 0, 0, 0.3));\n",
              "      fill: #FFFFFF;\n",
              "    }\n",
              "  </style>\n",
              "\n",
              "    <script>\n",
              "      const buttonEl =\n",
              "        document.querySelector('#df-092b72ac-2700-4235-8418-01ec95a07305 button.colab-df-convert');\n",
              "      buttonEl.style.display =\n",
              "        google.colab.kernel.accessAllowed ? 'block' : 'none';\n",
              "\n",
              "      async function convertToInteractive(key) {\n",
              "        const element = document.querySelector('#df-092b72ac-2700-4235-8418-01ec95a07305');\n",
              "        const dataTable =\n",
              "          await google.colab.kernel.invokeFunction('convertToInteractive',\n",
              "                                                    [key], {});\n",
              "        if (!dataTable) return;\n",
              "\n",
              "        const docLinkHtml = 'Like what you see? Visit the ' +\n",
              "          '<a target=\"_blank\" href=https://colab.research.google.com/notebooks/data_table.ipynb>data table notebook</a>'\n",
              "          + ' to learn more about interactive tables.';\n",
              "        element.innerHTML = '';\n",
              "        dataTable['output_type'] = 'display_data';\n",
              "        await google.colab.output.renderOutput(dataTable, element);\n",
              "        const docLink = document.createElement('div');\n",
              "        docLink.innerHTML = docLinkHtml;\n",
              "        element.appendChild(docLink);\n",
              "      }\n",
              "    </script>\n",
              "  </div>\n",
              "\n",
              "\n",
              "<div id=\"df-fb7dcaef-ed3f-4653-804e-3925c0a241ee\">\n",
              "  <button class=\"colab-df-quickchart\" onclick=\"quickchart('df-fb7dcaef-ed3f-4653-804e-3925c0a241ee')\"\n",
              "            title=\"Suggest charts\"\n",
              "            style=\"display:none;\">\n",
              "\n",
              "<svg xmlns=\"http://www.w3.org/2000/svg\" height=\"24px\"viewBox=\"0 0 24 24\"\n",
              "     width=\"24px\">\n",
              "    <g>\n",
              "        <path d=\"M19 3H5c-1.1 0-2 .9-2 2v14c0 1.1.9 2 2 2h14c1.1 0 2-.9 2-2V5c0-1.1-.9-2-2-2zM9 17H7v-7h2v7zm4 0h-2V7h2v10zm4 0h-2v-4h2v4z\"/>\n",
              "    </g>\n",
              "</svg>\n",
              "  </button>\n",
              "\n",
              "<style>\n",
              "  .colab-df-quickchart {\n",
              "      --bg-color: #E8F0FE;\n",
              "      --fill-color: #1967D2;\n",
              "      --hover-bg-color: #E2EBFA;\n",
              "      --hover-fill-color: #174EA6;\n",
              "      --disabled-fill-color: #AAA;\n",
              "      --disabled-bg-color: #DDD;\n",
              "  }\n",
              "\n",
              "  [theme=dark] .colab-df-quickchart {\n",
              "      --bg-color: #3B4455;\n",
              "      --fill-color: #D2E3FC;\n",
              "      --hover-bg-color: #434B5C;\n",
              "      --hover-fill-color: #FFFFFF;\n",
              "      --disabled-bg-color: #3B4455;\n",
              "      --disabled-fill-color: #666;\n",
              "  }\n",
              "\n",
              "  .colab-df-quickchart {\n",
              "    background-color: var(--bg-color);\n",
              "    border: none;\n",
              "    border-radius: 50%;\n",
              "    cursor: pointer;\n",
              "    display: none;\n",
              "    fill: var(--fill-color);\n",
              "    height: 32px;\n",
              "    padding: 0;\n",
              "    width: 32px;\n",
              "  }\n",
              "\n",
              "  .colab-df-quickchart:hover {\n",
              "    background-color: var(--hover-bg-color);\n",
              "    box-shadow: 0 1px 2px rgba(60, 64, 67, 0.3), 0 1px 3px 1px rgba(60, 64, 67, 0.15);\n",
              "    fill: var(--button-hover-fill-color);\n",
              "  }\n",
              "\n",
              "  .colab-df-quickchart-complete:disabled,\n",
              "  .colab-df-quickchart-complete:disabled:hover {\n",
              "    background-color: var(--disabled-bg-color);\n",
              "    fill: var(--disabled-fill-color);\n",
              "    box-shadow: none;\n",
              "  }\n",
              "\n",
              "  .colab-df-spinner {\n",
              "    border: 2px solid var(--fill-color);\n",
              "    border-color: transparent;\n",
              "    border-bottom-color: var(--fill-color);\n",
              "    animation:\n",
              "      spin 1s steps(1) infinite;\n",
              "  }\n",
              "\n",
              "  @keyframes spin {\n",
              "    0% {\n",
              "      border-color: transparent;\n",
              "      border-bottom-color: var(--fill-color);\n",
              "      border-left-color: var(--fill-color);\n",
              "    }\n",
              "    20% {\n",
              "      border-color: transparent;\n",
              "      border-left-color: var(--fill-color);\n",
              "      border-top-color: var(--fill-color);\n",
              "    }\n",
              "    30% {\n",
              "      border-color: transparent;\n",
              "      border-left-color: var(--fill-color);\n",
              "      border-top-color: var(--fill-color);\n",
              "      border-right-color: var(--fill-color);\n",
              "    }\n",
              "    40% {\n",
              "      border-color: transparent;\n",
              "      border-right-color: var(--fill-color);\n",
              "      border-top-color: var(--fill-color);\n",
              "    }\n",
              "    60% {\n",
              "      border-color: transparent;\n",
              "      border-right-color: var(--fill-color);\n",
              "    }\n",
              "    80% {\n",
              "      border-color: transparent;\n",
              "      border-right-color: var(--fill-color);\n",
              "      border-bottom-color: var(--fill-color);\n",
              "    }\n",
              "    90% {\n",
              "      border-color: transparent;\n",
              "      border-bottom-color: var(--fill-color);\n",
              "    }\n",
              "  }\n",
              "</style>\n",
              "\n",
              "  <script>\n",
              "    async function quickchart(key) {\n",
              "      const quickchartButtonEl =\n",
              "        document.querySelector('#' + key + ' button');\n",
              "      quickchartButtonEl.disabled = true;  // To prevent multiple clicks.\n",
              "      quickchartButtonEl.classList.add('colab-df-spinner');\n",
              "      try {\n",
              "        const charts = await google.colab.kernel.invokeFunction(\n",
              "            'suggestCharts', [key], {});\n",
              "      } catch (error) {\n",
              "        console.error('Error during call to suggestCharts:', error);\n",
              "      }\n",
              "      quickchartButtonEl.classList.remove('colab-df-spinner');\n",
              "      quickchartButtonEl.classList.add('colab-df-quickchart-complete');\n",
              "    }\n",
              "    (() => {\n",
              "      let quickchartButtonEl =\n",
              "        document.querySelector('#df-fb7dcaef-ed3f-4653-804e-3925c0a241ee button');\n",
              "      quickchartButtonEl.style.display =\n",
              "        google.colab.kernel.accessAllowed ? 'block' : 'none';\n",
              "    })();\n",
              "  </script>\n",
              "</div>\n",
              "\n",
              "    </div>\n",
              "  </div>\n"
            ],
            "application/vnd.google.colaboratory.intrinsic+json": {
              "type": "dataframe",
              "variable_name": "data"
            }
          },
          "metadata": {},
          "execution_count": 13
        }
      ]
    },
    {
      "cell_type": "code",
      "source": [
        "# Esto corre mal, rehacer\n",
        "# Agrego Lag y Dlag para las variables\n",
        "\n",
        "# Columnas que deben excluirse\n",
        "# exclude_columns = ['numero_de_cliente', 'foto_mes', 'clase_ternaria']\n",
        "\n",
        "# Iterar sobre las columnas que no están en la lista de exclusión\n",
        "#for col in data.columns:\n",
        "#    if col not in exclude_columns:\n",
        "#        # Crear la columna 'lag' (valor del mes anterior)\n",
        "#        data[f'{col}_lag'] = data.groupby('numero_de_cliente')[col].shift(1)\n",
        "\n",
        "        # Crear la columna 'deltaLag' (diferencia entre original y lag)\n",
        "#        data[f'{col}_deltaLag'] = data[col] - data[f'{col}_lag']\n",
        "\n",
        "# Verificar el DataFrame resultante\n",
        "#print(data.head())"
      ],
      "metadata": {
        "id": "7lAO0Yd0ZrKB",
        "colab": {
          "base_uri": "https://localhost:8080/"
        },
        "outputId": "e36f2459-a683-41e8-c03f-dea2bfa1d803"
      },
      "execution_count": null,
      "outputs": [
        {
          "output_type": "stream",
          "name": "stdout",
          "text": [
            "  clase_ternaria  numero_de_cliente foto_mes  mpayroll  mcuenta_corriente  \\\n",
            "0       CONTINUA          249221109   202007  64515.00               0.00   \n",
            "1       CONTINUA          249221468   202007      0.00           -2423.81   \n",
            "2       CONTINUA          249223005   202007  99530.22            -418.29   \n",
            "3       CONTINUA          249228180   202007      0.00             -22.54   \n",
            "4       CONTINUA          249232117   202007      0.00               0.00   \n",
            "\n",
            "   mrentabilidad  mrentabilidad_annual  mcomisiones  ctrx_quarter  \\\n",
            "0        1550.36              15232.06      1623.85           161   \n",
            "1         893.83              20716.22       684.18           135   \n",
            "2        2604.70              26119.89      1194.66           230   \n",
            "3         521.80               3758.76       158.00            16   \n",
            "4        1154.58              31466.63      1654.78            29   \n",
            "\n",
            "   mtransferencias_emitidas  ...  percentile_ctrx_quarter_lag  \\\n",
            "0                  70164.19  ...                          NaN   \n",
            "1                  10557.00  ...                          NaN   \n",
            "2                      0.00  ...                          NaN   \n",
            "3                      0.00  ...                          NaN   \n",
            "4                      0.00  ...                          NaN   \n",
            "\n",
            "   percentile_ctrx_quarter_deltaLag  percentile_mtransferencias_emitidas_lag  \\\n",
            "0                               NaN                                      NaN   \n",
            "1                               NaN                                      NaN   \n",
            "2                               NaN                                      NaN   \n",
            "3                               NaN                                      NaN   \n",
            "4                               NaN                                      NaN   \n",
            "\n",
            "   percentile_mtransferencias_emitidas_deltaLag  \\\n",
            "0                                           NaN   \n",
            "1                                           NaN   \n",
            "2                                           NaN   \n",
            "3                                           NaN   \n",
            "4                                           NaN   \n",
            "\n",
            "   percentile_ctarjeta_visa_transacciones_lag  \\\n",
            "0                                         NaN   \n",
            "1                                         NaN   \n",
            "2                                         NaN   \n",
            "3                                         NaN   \n",
            "4                                         NaN   \n",
            "\n",
            "   percentile_ctarjeta_visa_transacciones_deltaLag  \\\n",
            "0                                              NaN   \n",
            "1                                              NaN   \n",
            "2                                              NaN   \n",
            "3                                              NaN   \n",
            "4                                              NaN   \n",
            "\n",
            "   percentile_mtarjeta_visa_consumo_lag  \\\n",
            "0                                   NaN   \n",
            "1                                   NaN   \n",
            "2                                   NaN   \n",
            "3                                   NaN   \n",
            "4                                   NaN   \n",
            "\n",
            "   percentile_mtarjeta_visa_consumo_deltaLag  percentile_cproductos_lag  \\\n",
            "0                                        NaN                        NaN   \n",
            "1                                        NaN                        NaN   \n",
            "2                                        NaN                        NaN   \n",
            "3                                        NaN                        NaN   \n",
            "4                                        NaN                        NaN   \n",
            "\n",
            "   percentile_cproductos_deltaLag  \n",
            "0                             NaN  \n",
            "1                             NaN  \n",
            "2                             NaN  \n",
            "3                             NaN  \n",
            "4                             NaN  \n",
            "\n",
            "[5 rows x 63 columns]\n"
          ]
        }
      ]
    },
    {
      "cell_type": "code",
      "source": [
        "# Guardar los datos correspondientes a agosto 2021 en un nuevo DataFrame para predicciones, que e slo que va finalmente a kaggle\n",
        "data_agosto_2021 = data[data['foto_mes'] == \"202108\"]"
      ],
      "metadata": {
        "id": "bmes4kF1sDq7"
      },
      "execution_count": 14,
      "outputs": []
    },
    {
      "cell_type": "code",
      "source": [
        "# Ahora sí quito julios\n",
        "\n",
        "# Quito el mes de prueba final, y los julios (el 2020 fue solo para calcular lags y delta lag, y el de 2021 no tiene info de clase ternaria)\n",
        "data = data[~data['foto_mes'].isin([\"202007\", \"202107\", \"202108\"])]"
      ],
      "metadata": {
        "id": "uvsEb2d9ELNv"
      },
      "execution_count": 15,
      "outputs": []
    },
    {
      "cell_type": "code",
      "source": [
        "# Ver los niveles únicos (valores distintos) de la variable 'foto_mes'\n",
        "print(data['foto_mes'].unique())\n",
        "\n",
        "# Ver el número de ocurrencias de cada mes en 'foto_mes'\n",
        "print(data['foto_mes'].value_counts())\n",
        "\n",
        "# Ver los niveles únicos (valores distintos) de la variable 'foto_mes'\n",
        "print(data_agosto_2021['foto_mes'].unique())\n",
        "\n",
        "# Ver el número de ocurrencias de cada mes en 'foto_mes'\n",
        "print(data_agosto_2021['foto_mes'].value_counts())"
      ],
      "metadata": {
        "colab": {
          "base_uri": "https://localhost:8080/"
        },
        "id": "czh4IgTEsYMu",
        "outputId": "62fac34d-e347-4a9c-c113-a08aa3b268e6"
      },
      "execution_count": 16,
      "outputs": [
        {
          "output_type": "stream",
          "name": "stdout",
          "text": [
            "['202008' '202009' '202010' '202011' '202012' '202101' '202102' '202103'\n",
            " '202104' '202105' '202106']\n",
            "foto_mes\n",
            "202106    164876\n",
            "202105    164623\n",
            "202104    164090\n",
            "202103    163685\n",
            "202102    162646\n",
            "202101    162026\n",
            "202012    161526\n",
            "202011    160742\n",
            "202010    159731\n",
            "202009    158371\n",
            "202008    157058\n",
            "Name: count, dtype: int64\n",
            "['202108']\n",
            "foto_mes\n",
            "202108    165442\n",
            "Name: count, dtype: int64\n"
          ]
        }
      ]
    },
    {
      "cell_type": "code",
      "source": [
        "# Parámetros de ganancia\n",
        "ganancia_acierto = 273000\n",
        "costo_estimulo = 7000"
      ],
      "metadata": {
        "id": "UXzYG6Ll672t"
      },
      "execution_count": 17,
      "outputs": []
    },
    {
      "cell_type": "code",
      "source": [
        "# Definir los meses de entrenamiento, validación y prueba. Estos son para cuando lo haga entero (saco agosto,que estoyjugado e tiempo)\n",
        "mes_train = [\"202010\", \"202011\",\n",
        "             \"202012\", \"202101\", \"202102\", \"202103\", \"202104\", \"202105\"]\n",
        "\n",
        "mes_test = \"202106\""
      ],
      "metadata": {
        "id": "glzFmESzdvYZ"
      },
      "execution_count": 18,
      "outputs": []
    },
    {
      "cell_type": "markdown",
      "metadata": {
        "id": "fcnEkzLNbGDV"
      },
      "source": [
        "Vamos a asignar pesos a las clases. En unos minutos explicaremos las razones detrás de esta decisión. Mientras tanto, pueden aprovechar el código para ajustar el peso de la clase **BAJA+2** según lo deseen.\n",
        "\n",
        "\n",
        "\n"
      ]
    },
    {
      "cell_type": "markdown",
      "source": [
        "clase_binaria2: toma el valor 1 si clase_ternaria es diferente de 'CONTINUA'"
      ],
      "metadata": {
        "id": "viEpO9gp54Tw"
      }
    },
    {
      "cell_type": "code",
      "execution_count": 18,
      "metadata": {
        "id": "fGl_tpfQbCIq"
      },
      "outputs": [],
      "source": [
        "# Asignación de pesos a las clases\n",
        "data['clase_peso'] = 1.0\n",
        "data.loc[data['clase_ternaria'] == 'BAJA+2', 'clase_peso'] = 1.00002\n",
        "data.loc[data['clase_ternaria'] == 'BAJA+1', 'clase_peso'] = 1.00001\n",
        "\n",
        "# Crear la clase binaria para el modelo\n",
        "data['clase_binaria'] = np.where(data['clase_ternaria'] == 'BAJA+2', 1, 0)"
      ]
    },
    {
      "cell_type": "code",
      "execution_count": 19,
      "metadata": {
        "id": "qMyg3LQybRFb",
        "colab": {
          "base_uri": "https://localhost:8080/",
          "height": 179
        },
        "outputId": "5d944ec4-1143-47ec-cad6-053c963c98f8"
      },
      "outputs": [
        {
          "output_type": "error",
          "ename": "NameError",
          "evalue": "name 'mes_train' is not defined",
          "traceback": [
            "\u001b[0;31m---------------------------------------------------------------------------\u001b[0m",
            "\u001b[0;31mNameError\u001b[0m                                 Traceback (most recent call last)",
            "\u001b[0;32m<ipython-input-19-c5b08694e747>\u001b[0m in \u001b[0;36m<cell line: 2>\u001b[0;34m()\u001b[0m\n\u001b[1;32m      1\u001b[0m \u001b[0;31m# Dividir los datos en entrenamiento y prueba\u001b[0m\u001b[0;34m\u001b[0m\u001b[0;34m\u001b[0m\u001b[0m\n\u001b[0;32m----> 2\u001b[0;31m \u001b[0mtrain_data\u001b[0m \u001b[0;34m=\u001b[0m \u001b[0mdata\u001b[0m\u001b[0;34m[\u001b[0m\u001b[0mdata\u001b[0m\u001b[0;34m[\u001b[0m\u001b[0;34m'foto_mes'\u001b[0m\u001b[0;34m]\u001b[0m\u001b[0;34m.\u001b[0m\u001b[0misin\u001b[0m\u001b[0;34m(\u001b[0m\u001b[0mmes_train\u001b[0m\u001b[0;34m)\u001b[0m\u001b[0;34m]\u001b[0m\u001b[0;34m.\u001b[0m\u001b[0mdrop\u001b[0m\u001b[0;34m(\u001b[0m\u001b[0;34m[\u001b[0m\u001b[0;34m'foto_mes'\u001b[0m\u001b[0;34m,\u001b[0m \u001b[0;34m'numero_de_cliente'\u001b[0m\u001b[0;34m]\u001b[0m\u001b[0;34m,\u001b[0m \u001b[0maxis\u001b[0m\u001b[0;34m=\u001b[0m\u001b[0;36m1\u001b[0m\u001b[0;34m)\u001b[0m\u001b[0;34m\u001b[0m\u001b[0;34m\u001b[0m\u001b[0m\n\u001b[0m\u001b[1;32m      3\u001b[0m \u001b[0mtest_data\u001b[0m \u001b[0;34m=\u001b[0m \u001b[0mdata\u001b[0m\u001b[0;34m[\u001b[0m\u001b[0mdata\u001b[0m\u001b[0;34m[\u001b[0m\u001b[0;34m'foto_mes'\u001b[0m\u001b[0;34m]\u001b[0m \u001b[0;34m==\u001b[0m \u001b[0mmes_test\u001b[0m\u001b[0;34m]\u001b[0m\u001b[0;34m.\u001b[0m\u001b[0mdrop\u001b[0m\u001b[0;34m(\u001b[0m\u001b[0;34m[\u001b[0m\u001b[0;34m'foto_mes'\u001b[0m\u001b[0;34m,\u001b[0m \u001b[0;34m'numero_de_cliente'\u001b[0m\u001b[0;34m]\u001b[0m\u001b[0;34m,\u001b[0m \u001b[0maxis\u001b[0m\u001b[0;34m=\u001b[0m\u001b[0;36m1\u001b[0m\u001b[0;34m)\u001b[0m\u001b[0;34m\u001b[0m\u001b[0;34m\u001b[0m\u001b[0m\n",
            "\u001b[0;31mNameError\u001b[0m: name 'mes_train' is not defined"
          ]
        }
      ],
      "source": [
        "# Dividir los datos en entrenamiento y prueba\n",
        "train_data = data[data['foto_mes'].isin(mes_train)].drop(['foto_mes', 'numero_de_cliente'], axis=1)\n",
        "test_data = data[data['foto_mes'] == mes_test].drop(['foto_mes', 'numero_de_cliente'], axis=1)"
      ]
    },
    {
      "cell_type": "code",
      "source": [
        "# Separar características (X), etiquetas (y) y pesos (w) para cada conjunto de datos\n",
        "X_train = train_data.drop(['clase_ternaria', 'clase_peso', 'clase_binaria'], axis=1)\n",
        "y_train = train_data['clase_binaria']\n",
        "w_train = train_data['clase_peso']\n",
        "\n",
        "X_test = test_data.drop(['clase_ternaria', 'clase_peso', 'clase_binaria'], axis=1)\n",
        "y_test = np.where(test_data['clase_ternaria'] == 'BAJA+2', 1, 0)\n",
        "w_test = test_data['clase_peso']"
      ],
      "metadata": {
        "id": "vomeSPMUJBsD"
      },
      "execution_count": 21,
      "outputs": []
    },
    {
      "cell_type": "code",
      "source": [
        "# Imputar los valores faltantes en los datos de prueba\n",
        "imp_mean = SimpleImputer(missing_values=np.nan, strategy='median')\n",
        "Xif = imp_mean.fit_transform(X_test)"
      ],
      "metadata": {
        "id": "cA2qFG3fJDCZ"
      },
      "execution_count": 22,
      "outputs": []
    },
    {
      "cell_type": "code",
      "source": [
        "print(data.shape)\n",
        "print(train_data.shape)\n",
        "print(test_data.shape)\n",
        "print(data_agosto_2021.shape)"
      ],
      "metadata": {
        "colab": {
          "base_uri": "https://localhost:8080/"
        },
        "id": "_od1EvnxG7By",
        "outputId": "9baa2dfb-86fa-4e5b-a441-f9116c94200e"
      },
      "execution_count": null,
      "outputs": [
        {
          "output_type": "stream",
          "name": "stdout",
          "text": [
            "(1779374, 65)\n",
            "(1614498, 63)\n",
            "(164876, 63)\n",
            "(165442, 63)\n"
          ]
        }
      ]
    },
    {
      "cell_type": "markdown",
      "metadata": {
        "id": "4pth-k4KbdrF"
      },
      "source": [
        "Para evaluar la calidad del modelo, crearemos nuestra propia función de evaluación que calcule la ganancia. La razón de incluir los pesos es precisamente para poder implementar esta función de evaluación de manera adecuada. Al combinar las clases BAJA+1 y BAJA+2 en una sola, necesitamos una forma de diferenciarlas, y es aquí donde entra en juego el weight. Este parámetro nos permitirá distinguir entre ambas clases al momento de evaluarlas dentro del algoritmo."
      ]
    },
    {
      "cell_type": "code",
      "execution_count": 23,
      "metadata": {
        "id": "-ts0bpblbUV8"
      },
      "outputs": [],
      "source": [
        "def calcular_ganancia(y_true, y_pred, weights):\n",
        "    sorted_indices = np.argsort(y_pred)[::-1]  # Ordenar por las predicciones\n",
        "    y_true = np.array(y_true)[sorted_indices]\n",
        "    weights = np.array(weights)[sorted_indices]\n",
        "\n",
        "    ganancia = np.where(y_true == 1, ganancia_acierto, -costo_estimulo)\n",
        "    ganancia_acumulada = np.cumsum(ganancia * weights)\n",
        "    return np.max(ganancia_acumulada)\n"
      ]
    },
    {
      "cell_type": "code",
      "execution_count": 24,
      "metadata": {
        "id": "gdR_jImrbZQD"
      },
      "outputs": [],
      "source": [
        "# Crear datasets para LightGBM\n",
        "lgb_train = lgb.Dataset(X_train, label=y_train, weight=w_train)\n",
        "\n",
        "# Generar 500 semillas aleatorias fijas para Optuna\n",
        "random_seeds = np.random.randint(1, 10**6, size=500)"
      ]
    },
    {
      "cell_type": "code",
      "source": [
        "def objective(trial):\n",
        "    trial_idx = trial.number\n",
        "    seed = random_seeds[trial_idx % len(random_seeds)] + trial_idx\n",
        "\n",
        "    # Configuración de los parámetros del modelo\n",
        "    params = {\n",
        "        'objective': 'binary',\n",
        "        'metric': 'None',\n",
        "        'boosting_type': 'gbdt',\n",
        "        'feature_pre_filter': False,\n",
        "        'num_leaves': trial.suggest_int('num_leaves', 8, 150),\n",
        "        'learning_rate': trial.suggest_float('learning_rate', 0.005, 0.25),\n",
        "        'min_data_in_leaf': trial.suggest_int('min_data_in_leaf', 1, 5000),\n",
        "        'feature_fraction': trial.suggest_float('feature_fraction', 0.1, 1.0),\n",
        "        'bagging_fraction': trial.suggest_float('bagging_fraction', 0.1, 1.0),\n",
        "        'bagging_freq': trial.suggest_int('bagging_freq', 1, 7),\n",
        "        'lambda_l1': trial.suggest_float('lambda_l1', 0.0, 10.0),\n",
        "        'lambda_l2': trial.suggest_float('lambda_l2', 0.0, 10.0),\n",
        "        'max_depth': trial.suggest_int('max_depth', 3, 50),\n",
        "        'min_gain_to_split': trial.suggest_float('min_gain_to_split', 0.0, 1.0),\n",
        "        'verbose': -1,\n",
        "        'seed': seed,  # Semilla única\n",
        "    }\n",
        "\n",
        "    # Configuración de KFold para la validación cruzada\n",
        "    kf = KFold(n_splits=3, shuffle=True, random_state=seed)  # Cambiado a 3 folds\n",
        "\n",
        "    ganancia_promedio = 0\n",
        "    ganancia_test_acumulada = 0  # Variable para acumular la ganancia en el conjunto de test\n",
        "\n",
        "    for train_index, val_index in kf.split(X_train):\n",
        "        X_train_fold, X_val_fold = X_train.iloc[train_index], X_train.iloc[val_index]\n",
        "        y_train_fold, y_val_fold = y_train.iloc[train_index], y_train.iloc[val_index]\n",
        "        w_train_fold, w_val_fold = w_train.iloc[train_index], w_train.iloc[val_index]\n",
        "\n",
        "        # Crear datasets de LightGBM para el fold\n",
        "        lgb_train_fold = lgb.Dataset(X_train_fold, label=y_train_fold, weight=w_train_fold)\n",
        "        lgb_val_fold = lgb.Dataset(X_val_fold, label=y_val_fold, weight=w_val_fold, reference=lgb_train_fold)\n",
        "\n",
        "        # Entrenar el modelo\n",
        "        model = lgb.train(\n",
        "            params,\n",
        "            lgb_train_fold,\n",
        "            valid_sets=[lgb_train_fold, lgb_val_fold],\n",
        "            num_boost_round=1000,\n",
        "            callbacks=[lgb.early_stopping(stopping_rounds=100)],\n",
        "            feval=lambda y_pred, data: (\n",
        "                'ganancia',\n",
        "                calcular_ganancia(data.get_label(), y_pred, data.get_weight()),\n",
        "                True\n",
        "            )\n",
        "        )\n",
        "\n",
        "        # Predecir en el conjunto de validación\n",
        "        y_pred_val = model.predict(X_val_fold, num_iteration=model.best_iteration)\n",
        "        ganancia_fold = calcular_ganancia(y_val_fold, y_pred_val, w_val_fold)\n",
        "        ganancia_promedio += ganancia_fold\n",
        "\n",
        "        # Predecir sobre el conjunto de test en cada iteración\n",
        "        y_pred_test = model.predict(X_test, num_iteration=model.best_iteration)\n",
        "        ganancia_test_iter = calcular_ganancia(y_test, y_pred_test, w_test)\n",
        "        ganancia_test_acumulada += ganancia_test_iter\n",
        "\n",
        "    # Calcular ganancia promedio de los folds\n",
        "    ganancia_promedio /= 3\n",
        "\n",
        "    # Calcular la ganancia promedio en el conjunto de prueba\n",
        "    ganancia_test_promedio = ganancia_test_acumulada / 3\n",
        "\n",
        "    # Devolver la ganancia en el conjunto de prueba como el objetivo\n",
        "    return ganancia_test_promedio"
      ],
      "metadata": {
        "id": "Kb9QIVPPFn05"
      },
      "execution_count": 25,
      "outputs": []
    },
    {
      "cell_type": "code",
      "execution_count": 26,
      "metadata": {
        "colab": {
          "base_uri": "https://localhost:8080/"
        },
        "id": "nKr45WYdcmj1",
        "outputId": "ebc13775-7297-4acf-a14e-bd624373947c"
      },
      "outputs": [
        {
          "output_type": "stream",
          "name": "stderr",
          "text": [
            "[I 2024-11-24 13:32:19,059] A new study created in RDB with name: exp_lgbm_13\n"
          ]
        }
      ],
      "source": [
        "# Definir la ubicación del almacenamiento y el nombre del estudio para Optuna\n",
        "storage_name = \"sqlite:///optimization_lgbm.db\"\n",
        "study_name = \"exp_lgbm_13\"\n",
        "\n",
        "# Crear y ejecutar el estudio de Optuna\n",
        "study = optuna.create_study(\n",
        "    direction=\"maximize\",\n",
        "    study_name=study_name,\n",
        "    storage=storage_name,\n",
        "    load_if_exists=True\n",
        ")"
      ]
    },
    {
      "cell_type": "code",
      "execution_count": 27,
      "metadata": {
        "colab": {
          "base_uri": "https://localhost:8080/"
        },
        "id": "yJc-k2aQcn-J",
        "outputId": "514594f4-3d85-4d27-c2fa-6b171f373730"
      },
      "outputs": [
        {
          "output_type": "stream",
          "name": "stdout",
          "text": [
            "Training until validation scores don't improve for 100 rounds\n",
            "Early stopping, best iteration is:\n",
            "[72]\ttraining's ganancia: 3.60967e+08\tvalid_1's ganancia: 1.71569e+08\n",
            "Training until validation scores don't improve for 100 rounds\n",
            "Early stopping, best iteration is:\n",
            "[235]\ttraining's ganancia: 4.65011e+08\tvalid_1's ganancia: 1.71065e+08\n",
            "Training until validation scores don't improve for 100 rounds\n",
            "Early stopping, best iteration is:\n",
            "[141]\ttraining's ganancia: 4.2936e+08\tvalid_1's ganancia: 1.56659e+08\n"
          ]
        },
        {
          "output_type": "stream",
          "name": "stderr",
          "text": [
            "[I 2024-11-24 13:39:37,161] Trial 0 finished with value: 88011773.15000011 and parameters: {'num_leaves': 16, 'learning_rate': 0.1357159860872724, 'min_data_in_leaf': 1512, 'feature_fraction': 0.3810426403432252, 'bagging_fraction': 0.8984896545750523, 'bagging_freq': 7, 'lambda_l1': 0.7723208613959376, 'lambda_l2': 0.5986243658217172, 'max_depth': 18, 'min_gain_to_split': 0.36272722043910277}. Best is trial 0 with value: 88011773.15000011.\n"
          ]
        },
        {
          "output_type": "stream",
          "name": "stdout",
          "text": [
            "Training until validation scores don't improve for 100 rounds\n",
            "Early stopping, best iteration is:\n",
            "[11]\ttraining's ganancia: 3.71266e+08\tvalid_1's ganancia: 1.52256e+08\n",
            "Training until validation scores don't improve for 100 rounds\n",
            "Early stopping, best iteration is:\n",
            "[41]\ttraining's ganancia: 4.75645e+08\tvalid_1's ganancia: 1.57107e+08\n",
            "Training until validation scores don't improve for 100 rounds\n",
            "Early stopping, best iteration is:\n",
            "[28]\ttraining's ganancia: 4.29004e+08\tvalid_1's ganancia: 1.61349e+08\n"
          ]
        },
        {
          "output_type": "stream",
          "name": "stderr",
          "text": [
            "[I 2024-11-24 13:43:37,730] Trial 1 finished with value: 85774173.35666682 and parameters: {'num_leaves': 119, 'learning_rate': 0.19828036245590452, 'min_data_in_leaf': 1474, 'feature_fraction': 0.6678344381746156, 'bagging_fraction': 0.6821147832187847, 'bagging_freq': 5, 'lambda_l1': 3.9547097580802912, 'lambda_l2': 0.31579042672580493, 'max_depth': 13, 'min_gain_to_split': 0.08384859342239614}. Best is trial 0 with value: 88011773.15000011.\n"
          ]
        },
        {
          "output_type": "stream",
          "name": "stdout",
          "text": [
            "Training until validation scores don't improve for 100 rounds\n",
            "Early stopping, best iteration is:\n",
            "[150]\ttraining's ganancia: 3.92245e+08\tvalid_1's ganancia: 1.56113e+08\n",
            "Training until validation scores don't improve for 100 rounds\n",
            "Early stopping, best iteration is:\n",
            "[293]\ttraining's ganancia: 4.22549e+08\tvalid_1's ganancia: 1.66473e+08\n",
            "Training until validation scores don't improve for 100 rounds\n",
            "Early stopping, best iteration is:\n",
            "[65]\ttraining's ganancia: 3.43523e+08\tvalid_1's ganancia: 1.7934e+08\n"
          ]
        },
        {
          "output_type": "stream",
          "name": "stderr",
          "text": [
            "[I 2024-11-24 13:50:42,731] Trial 2 finished with value: 90303247.93000002 and parameters: {'num_leaves': 41, 'learning_rate': 0.08589344627408316, 'min_data_in_leaf': 2237, 'feature_fraction': 0.2970700208632435, 'bagging_fraction': 0.5228767094698162, 'bagging_freq': 4, 'lambda_l1': 7.1281722353829355, 'lambda_l2': 3.09718349933409, 'max_depth': 48, 'min_gain_to_split': 0.21666937441434242}. Best is trial 2 with value: 90303247.93000002.\n"
          ]
        },
        {
          "output_type": "stream",
          "name": "stdout",
          "text": [
            "Training until validation scores don't improve for 100 rounds\n",
            "Early stopping, best iteration is:\n",
            "[29]\ttraining's ganancia: 3.72238e+08\tvalid_1's ganancia: 1.70113e+08\n",
            "Training until validation scores don't improve for 100 rounds\n",
            "Early stopping, best iteration is:\n",
            "[32]\ttraining's ganancia: 3.84698e+08\tvalid_1's ganancia: 1.55777e+08\n",
            "Training until validation scores don't improve for 100 rounds\n",
            "Early stopping, best iteration is:\n",
            "[35]\ttraining's ganancia: 3.80457e+08\tvalid_1's ganancia: 1.63267e+08\n"
          ]
        },
        {
          "output_type": "stream",
          "name": "stderr",
          "text": [
            "[I 2024-11-24 13:53:43,391] Trial 3 finished with value: 86630501.02000028 and parameters: {'num_leaves': 84, 'learning_rate': 0.21192735504901095, 'min_data_in_leaf': 1225, 'feature_fraction': 0.6564884448559505, 'bagging_fraction': 0.9628045866635162, 'bagging_freq': 7, 'lambda_l1': 7.8651324315405455, 'lambda_l2': 7.62947274899564, 'max_depth': 17, 'min_gain_to_split': 0.5268008555897008}. Best is trial 2 with value: 90303247.93000002.\n"
          ]
        },
        {
          "output_type": "stream",
          "name": "stdout",
          "text": [
            "Training until validation scores don't improve for 100 rounds\n",
            "Early stopping, best iteration is:\n",
            "[34]\ttraining's ganancia: 3.58987e+08\tvalid_1's ganancia: 1.51801e+08\n",
            "Training until validation scores don't improve for 100 rounds\n",
            "Early stopping, best iteration is:\n",
            "[56]\ttraining's ganancia: 3.74982e+08\tvalid_1's ganancia: 1.69008e+08\n",
            "Training until validation scores don't improve for 100 rounds\n",
            "Early stopping, best iteration is:\n",
            "[79]\ttraining's ganancia: 3.97572e+08\tvalid_1's ganancia: 1.41552e+08\n"
          ]
        },
        {
          "output_type": "stream",
          "name": "stderr",
          "text": [
            "[I 2024-11-24 13:57:18,134] Trial 4 finished with value: 89080647.64666678 and parameters: {'num_leaves': 119, 'learning_rate': 0.22611197275198744, 'min_data_in_leaf': 4480, 'feature_fraction': 0.6134698726494564, 'bagging_fraction': 0.6708127486613501, 'bagging_freq': 6, 'lambda_l1': 4.05810028789208, 'lambda_l2': 1.6691173516407154, 'max_depth': 23, 'min_gain_to_split': 0.8864772676743621}. Best is trial 2 with value: 90303247.93000002.\n"
          ]
        },
        {
          "output_type": "stream",
          "name": "stdout",
          "text": [
            "Training until validation scores don't improve for 100 rounds\n",
            "Early stopping, best iteration is:\n",
            "[68]\ttraining's ganancia: 3.71798e+08\tvalid_1's ganancia: 1.75468e+08\n",
            "Training until validation scores don't improve for 100 rounds\n",
            "Early stopping, best iteration is:\n",
            "[51]\ttraining's ganancia: 3.73534e+08\tvalid_1's ganancia: 1.62413e+08\n",
            "Training until validation scores don't improve for 100 rounds\n",
            "Early stopping, best iteration is:\n",
            "[129]\ttraining's ganancia: 4.51165e+08\tvalid_1's ganancia: 1.62042e+08\n"
          ]
        },
        {
          "output_type": "stream",
          "name": "stderr",
          "text": [
            "[I 2024-11-24 14:02:17,038] Trial 5 finished with value: 89887924.88666676 and parameters: {'num_leaves': 103, 'learning_rate': 0.13531629750494334, 'min_data_in_leaf': 4841, 'feature_fraction': 0.2936433179972585, 'bagging_fraction': 0.528523632706167, 'bagging_freq': 6, 'lambda_l1': 1.8788652765799685, 'lambda_l2': 4.77535894476317, 'max_depth': 23, 'min_gain_to_split': 0.3031895691309143}. Best is trial 2 with value: 90303247.93000002.\n"
          ]
        },
        {
          "output_type": "stream",
          "name": "stdout",
          "text": [
            "Training until validation scores don't improve for 100 rounds\n",
            "Early stopping, best iteration is:\n",
            "[671]\ttraining's ganancia: 3.28383e+08\tvalid_1's ganancia: 1.59179e+08\n",
            "Training until validation scores don't improve for 100 rounds\n",
            "Early stopping, best iteration is:\n",
            "[386]\ttraining's ganancia: 3.10553e+08\tvalid_1's ganancia: 1.69532e+08\n",
            "Training until validation scores don't improve for 100 rounds\n",
            "Early stopping, best iteration is:\n",
            "[346]\ttraining's ganancia: 3.27997e+08\tvalid_1's ganancia: 1.45263e+08\n"
          ]
        },
        {
          "output_type": "stream",
          "name": "stderr",
          "text": [
            "[I 2024-11-24 14:15:00,377] Trial 6 finished with value: 89227695.31666689 and parameters: {'num_leaves': 92, 'learning_rate': 0.005353610329806863, 'min_data_in_leaf': 1276, 'feature_fraction': 0.5349395407712705, 'bagging_fraction': 0.37586560521713097, 'bagging_freq': 1, 'lambda_l1': 7.179675347081178, 'lambda_l2': 5.810880520335373, 'max_depth': 4, 'min_gain_to_split': 0.6041688344051415}. Best is trial 2 with value: 90303247.93000002.\n"
          ]
        },
        {
          "output_type": "stream",
          "name": "stdout",
          "text": [
            "Training until validation scores don't improve for 100 rounds\n",
            "Early stopping, best iteration is:\n",
            "[65]\ttraining's ganancia: 4.64375e+08\tvalid_1's ganancia: 1.6639e+08\n",
            "Training until validation scores don't improve for 100 rounds\n",
            "Early stopping, best iteration is:\n",
            "[34]\ttraining's ganancia: 4.42094e+08\tvalid_1's ganancia: 1.61027e+08\n",
            "Training until validation scores don't improve for 100 rounds\n",
            "Early stopping, best iteration is:\n",
            "[27]\ttraining's ganancia: 4.07827e+08\tvalid_1's ganancia: 1.58745e+08\n"
          ]
        },
        {
          "output_type": "stream",
          "name": "stderr",
          "text": [
            "[I 2024-11-24 14:18:34,323] Trial 7 finished with value: 83860839.74333346 and parameters: {'num_leaves': 146, 'learning_rate': 0.19762011770644736, 'min_data_in_leaf': 848, 'feature_fraction': 0.27906904593303733, 'bagging_fraction': 0.7579223178512554, 'bagging_freq': 6, 'lambda_l1': 2.612346071348628, 'lambda_l2': 4.244191875329473, 'max_depth': 24, 'min_gain_to_split': 0.6162493255790326}. Best is trial 2 with value: 90303247.93000002.\n"
          ]
        },
        {
          "output_type": "stream",
          "name": "stdout",
          "text": [
            "Training until validation scores don't improve for 100 rounds\n",
            "Early stopping, best iteration is:\n",
            "[66]\ttraining's ganancia: 3.80617e+08\tvalid_1's ganancia: 1.61741e+08\n",
            "Training until validation scores don't improve for 100 rounds\n",
            "Early stopping, best iteration is:\n",
            "[67]\ttraining's ganancia: 3.71852e+08\tvalid_1's ganancia: 1.73816e+08\n",
            "Training until validation scores don't improve for 100 rounds\n",
            "Early stopping, best iteration is:\n",
            "[100]\ttraining's ganancia: 3.97697e+08\tvalid_1's ganancia: 1.60201e+08\n"
          ]
        },
        {
          "output_type": "stream",
          "name": "stderr",
          "text": [
            "[I 2024-11-24 14:23:11,541] Trial 8 finished with value: 90975422.65000008 and parameters: {'num_leaves': 102, 'learning_rate': 0.14134047588551593, 'min_data_in_leaf': 2518, 'feature_fraction': 0.30689437544941733, 'bagging_fraction': 0.33781109894665495, 'bagging_freq': 1, 'lambda_l1': 2.937483241655021, 'lambda_l2': 5.256941736444785, 'max_depth': 31, 'min_gain_to_split': 0.22580650142371717}. Best is trial 8 with value: 90975422.65000008.\n"
          ]
        },
        {
          "output_type": "stream",
          "name": "stdout",
          "text": [
            "Training until validation scores don't improve for 100 rounds\n",
            "Early stopping, best iteration is:\n",
            "[196]\ttraining's ganancia: 4.03704e+08\tvalid_1's ganancia: 1.69224e+08\n",
            "Training until validation scores don't improve for 100 rounds\n",
            "Early stopping, best iteration is:\n",
            "[94]\ttraining's ganancia: 3.64847e+08\tvalid_1's ganancia: 1.57352e+08\n",
            "Training until validation scores don't improve for 100 rounds\n",
            "Early stopping, best iteration is:\n",
            "[68]\ttraining's ganancia: 3.52308e+08\tvalid_1's ganancia: 1.57387e+08\n"
          ]
        },
        {
          "output_type": "stream",
          "name": "stderr",
          "text": [
            "[I 2024-11-24 14:28:03,840] Trial 9 finished with value: 84798845.15666677 and parameters: {'num_leaves': 10, 'learning_rate': 0.24268528134074055, 'min_data_in_leaf': 1939, 'feature_fraction': 0.4217597837601752, 'bagging_fraction': 0.4926937498774405, 'bagging_freq': 5, 'lambda_l1': 0.5351445827314183, 'lambda_l2': 5.523267547790539, 'max_depth': 34, 'min_gain_to_split': 0.6856864655175455}. Best is trial 8 with value: 90975422.65000008.\n"
          ]
        },
        {
          "output_type": "stream",
          "name": "stdout",
          "text": [
            "Training until validation scores don't improve for 100 rounds\n",
            "Early stopping, best iteration is:\n",
            "[273]\ttraining's ganancia: 3.21192e+08\tvalid_1's ganancia: 1.72221e+08\n",
            "Training until validation scores don't improve for 100 rounds\n",
            "Early stopping, best iteration is:\n",
            "[667]\ttraining's ganancia: 3.64314e+08\tvalid_1's ganancia: 1.52711e+08\n",
            "Training until validation scores don't improve for 100 rounds\n",
            "Early stopping, best iteration is:\n",
            "[266]\ttraining's ganancia: 3.28201e+08\tvalid_1's ganancia: 1.65192e+08\n"
          ]
        },
        {
          "output_type": "stream",
          "name": "stderr",
          "text": [
            "[I 2024-11-24 14:39:03,963] Trial 10 finished with value: 91453735.96333344 and parameters: {'num_leaves': 58, 'learning_rate': 0.06151642222922278, 'min_data_in_leaf': 3362, 'feature_fraction': 0.16608408883654513, 'bagging_fraction': 0.1142052792817311, 'bagging_freq': 1, 'lambda_l1': 5.435190060429809, 'lambda_l2': 9.392552686918574, 'max_depth': 37, 'min_gain_to_split': 0.0008345915471226206}. Best is trial 10 with value: 91453735.96333344.\n"
          ]
        },
        {
          "output_type": "stream",
          "name": "stdout",
          "text": [
            "Training until validation scores don't improve for 100 rounds\n",
            "Early stopping, best iteration is:\n",
            "[238]\ttraining's ganancia: 3.19485e+08\tvalid_1's ganancia: 1.39515e+08\n",
            "Training until validation scores don't improve for 100 rounds\n",
            "Early stopping, best iteration is:\n",
            "[690]\ttraining's ganancia: 3.06717e+08\tvalid_1's ganancia: 1.70618e+08\n",
            "Training until validation scores don't improve for 100 rounds\n",
            "Early stopping, best iteration is:\n",
            "[257]\ttraining's ganancia: 3.005e+08\tvalid_1's ganancia: 1.57583e+08\n"
          ]
        },
        {
          "output_type": "stream",
          "name": "stderr",
          "text": [
            "[I 2024-11-24 14:49:18,883] Trial 11 finished with value: 87556776.48666674 and parameters: {'num_leaves': 55, 'learning_rate': 0.06129386541145841, 'min_data_in_leaf': 3359, 'feature_fraction': 0.1054430085123777, 'bagging_fraction': 0.1085196691958023, 'bagging_freq': 1, 'lambda_l1': 9.915423506775344, 'lambda_l2': 9.730758277146021, 'max_depth': 38, 'min_gain_to_split': 0.01602597789642025}. Best is trial 10 with value: 91453735.96333344.\n"
          ]
        },
        {
          "output_type": "stream",
          "name": "stdout",
          "text": [
            "Training until validation scores don't improve for 100 rounds\n",
            "Early stopping, best iteration is:\n",
            "[233]\ttraining's ganancia: 3.63131e+08\tvalid_1's ganancia: 1.62609e+08\n",
            "Training until validation scores don't improve for 100 rounds\n",
            "Early stopping, best iteration is:\n",
            "[477]\ttraining's ganancia: 3.74899e+08\tvalid_1's ganancia: 1.66403e+08\n",
            "Training until validation scores don't improve for 100 rounds\n",
            "Early stopping, best iteration is:\n",
            "[138]\ttraining's ganancia: 3.36679e+08\tvalid_1's ganancia: 1.69687e+08\n"
          ]
        },
        {
          "output_type": "stream",
          "name": "stderr",
          "text": [
            "[I 2024-11-24 14:57:56,888] Trial 12 finished with value: 93630502.67666668 and parameters: {'num_leaves': 64, 'learning_rate': 0.09003784184754302, 'min_data_in_leaf': 3202, 'feature_fraction': 0.9931996706221722, 'bagging_fraction': 0.12004074552445335, 'bagging_freq': 2, 'lambda_l1': 4.735850108229597, 'lambda_l2': 9.756082154423169, 'max_depth': 35, 'min_gain_to_split': 0.13794398844018246}. Best is trial 12 with value: 93630502.67666668.\n"
          ]
        },
        {
          "output_type": "stream",
          "name": "stdout",
          "text": [
            "Training until validation scores don't improve for 100 rounds\n",
            "Early stopping, best iteration is:\n",
            "[266]\ttraining's ganancia: 3.36474e+08\tvalid_1's ganancia: 1.82882e+08\n",
            "Training until validation scores don't improve for 100 rounds\n",
            "Early stopping, best iteration is:\n",
            "[368]\ttraining's ganancia: 3.56222e+08\tvalid_1's ganancia: 1.56022e+08\n",
            "Training until validation scores don't improve for 100 rounds\n",
            "Early stopping, best iteration is:\n",
            "[675]\ttraining's ganancia: 3.77923e+08\tvalid_1's ganancia: 1.54559e+08\n"
          ]
        },
        {
          "output_type": "stream",
          "name": "stderr",
          "text": [
            "[I 2024-11-24 15:09:41,927] Trial 13 finished with value: 92888669.6500001 and parameters: {'num_leaves': 59, 'learning_rate': 0.0701327817065031, 'min_data_in_leaf': 3592, 'feature_fraction': 0.9712859679229868, 'bagging_fraction': 0.10958449613808145, 'bagging_freq': 3, 'lambda_l1': 6.03616232372982, 'lambda_l2': 9.997443186318987, 'max_depth': 45, 'min_gain_to_split': 0.10153115514265187}. Best is trial 12 with value: 93630502.67666668.\n"
          ]
        },
        {
          "output_type": "stream",
          "name": "stdout",
          "text": [
            "Training until validation scores don't improve for 100 rounds\n",
            "Early stopping, best iteration is:\n",
            "[348]\ttraining's ganancia: 4.05517e+08\tvalid_1's ganancia: 1.71009e+08\n",
            "Training until validation scores don't improve for 100 rounds\n",
            "Early stopping, best iteration is:\n",
            "[258]\ttraining's ganancia: 3.93912e+08\tvalid_1's ganancia: 1.65668e+08\n",
            "Training until validation scores don't improve for 100 rounds\n",
            "Early stopping, best iteration is:\n",
            "[60]\ttraining's ganancia: 3.3989e+08\tvalid_1's ganancia: 1.65892e+08\n"
          ]
        },
        {
          "output_type": "stream",
          "name": "stderr",
          "text": [
            "[I 2024-11-24 15:17:27,747] Trial 14 finished with value: 92405608.75 and parameters: {'num_leaves': 61, 'learning_rate': 0.09470694368155616, 'min_data_in_leaf': 3823, 'feature_fraction': 0.9740929864129113, 'bagging_fraction': 0.24826935170309478, 'bagging_freq': 3, 'lambda_l1': 5.703061149288208, 'lambda_l2': 7.732035214530397, 'max_depth': 47, 'min_gain_to_split': 0.15690394321817935}. Best is trial 12 with value: 93630502.67666668.\n"
          ]
        },
        {
          "output_type": "stream",
          "name": "stdout",
          "text": [
            "Training until validation scores don't improve for 100 rounds\n",
            "Early stopping, best iteration is:\n",
            "[701]\ttraining's ganancia: 3.90285e+08\tvalid_1's ganancia: 1.6067e+08\n",
            "Training until validation scores don't improve for 100 rounds\n",
            "Early stopping, best iteration is:\n",
            "[414]\ttraining's ganancia: 3.608e+08\tvalid_1's ganancia: 1.71843e+08\n",
            "Training until validation scores don't improve for 100 rounds\n",
            "Early stopping, best iteration is:\n",
            "[281]\ttraining's ganancia: 3.4813e+08\tvalid_1's ganancia: 1.65122e+08\n"
          ]
        },
        {
          "output_type": "stream",
          "name": "stderr",
          "text": [
            "[I 2024-11-24 15:31:12,559] Trial 15 finished with value: 89227675.48333347 and parameters: {'num_leaves': 72, 'learning_rate': 0.015959668517376104, 'min_data_in_leaf': 211, 'feature_fraction': 0.996144738683882, 'bagging_fraction': 0.23915497262194835, 'bagging_freq': 3, 'lambda_l1': 6.230578453604354, 'lambda_l2': 8.038504296747272, 'max_depth': 41, 'min_gain_to_split': 0.38937932760399285}. Best is trial 12 with value: 93630502.67666668.\n"
          ]
        },
        {
          "output_type": "stream",
          "name": "stdout",
          "text": [
            "Training until validation scores don't improve for 100 rounds\n",
            "Early stopping, best iteration is:\n",
            "[137]\ttraining's ganancia: 3.33149e+08\tvalid_1's ganancia: 1.57779e+08\n",
            "Training until validation scores don't improve for 100 rounds\n",
            "Early stopping, best iteration is:\n",
            "[418]\ttraining's ganancia: 3.387e+08\tvalid_1's ganancia: 1.71632e+08\n",
            "Training until validation scores don't improve for 100 rounds\n",
            "Early stopping, best iteration is:\n",
            "[250]\ttraining's ganancia: 3.34081e+08\tvalid_1's ganancia: 1.60572e+08\n"
          ]
        },
        {
          "output_type": "stream",
          "name": "stderr",
          "text": [
            "[I 2024-11-24 15:38:52,714] Trial 16 finished with value: 91110676.5566668 and parameters: {'num_leaves': 38, 'learning_rate': 0.04022578257080995, 'min_data_in_leaf': 2871, 'feature_fraction': 0.8257611410979471, 'bagging_fraction': 0.2381087046473479, 'bagging_freq': 3, 'lambda_l1': 8.837696959370314, 'lambda_l2': 8.787742612162376, 'max_depth': 44, 'min_gain_to_split': 0.9842184344910874}. Best is trial 12 with value: 93630502.67666668.\n"
          ]
        },
        {
          "output_type": "stream",
          "name": "stdout",
          "text": [
            "Training until validation scores don't improve for 100 rounds\n",
            "Early stopping, best iteration is:\n",
            "[179]\ttraining's ganancia: 4.35114e+08\tvalid_1's ganancia: 1.67621e+08\n",
            "Training until validation scores don't improve for 100 rounds\n",
            "Early stopping, best iteration is:\n",
            "[79]\ttraining's ganancia: 3.79331e+08\tvalid_1's ganancia: 1.54951e+08\n",
            "Training until validation scores don't improve for 100 rounds\n",
            "Early stopping, best iteration is:\n",
            "[137]\ttraining's ganancia: 3.87471e+08\tvalid_1's ganancia: 1.85598e+08\n"
          ]
        },
        {
          "output_type": "stream",
          "name": "stderr",
          "text": [
            "[I 2024-11-24 15:45:01,193] Trial 17 finished with value: 91658888.81333339 and parameters: {'num_leaves': 36, 'learning_rate': 0.10834214610300341, 'min_data_in_leaf': 4197, 'feature_fraction': 0.841016033674139, 'bagging_fraction': 0.3991859457155371, 'bagging_freq': 2, 'lambda_l1': 4.3509111308533495, 'lambda_l2': 6.818587422044871, 'max_depth': 30, 'min_gain_to_split': 0.13419875041590973}. Best is trial 12 with value: 93630502.67666668.\n"
          ]
        },
        {
          "output_type": "stream",
          "name": "stdout",
          "text": [
            "Training until validation scores don't improve for 100 rounds\n",
            "Early stopping, best iteration is:\n",
            "[247]\ttraining's ganancia: 3.75919e+08\tvalid_1's ganancia: 1.66046e+08\n",
            "Training until validation scores don't improve for 100 rounds\n",
            "Early stopping, best iteration is:\n",
            "[227]\ttraining's ganancia: 3.72196e+08\tvalid_1's ganancia: 1.64227e+08\n",
            "Training until validation scores don't improve for 100 rounds\n",
            "Early stopping, best iteration is:\n",
            "[127]\ttraining's ganancia: 3.52057e+08\tvalid_1's ganancia: 1.66816e+08\n"
          ]
        },
        {
          "output_type": "stream",
          "name": "stderr",
          "text": [
            "[I 2024-11-24 15:51:47,522] Trial 18 finished with value: 91465260.13333343 and parameters: {'num_leaves': 25, 'learning_rate': 0.1687152637018917, 'min_data_in_leaf': 3209, 'feature_fraction': 0.8514278621736503, 'bagging_fraction': 0.1725759133068384, 'bagging_freq': 2, 'lambda_l1': 6.302899923064556, 'lambda_l2': 8.757574585429058, 'max_depth': 50, 'min_gain_to_split': 0.43859921378694}. Best is trial 12 with value: 93630502.67666668.\n"
          ]
        },
        {
          "output_type": "stream",
          "name": "stdout",
          "text": [
            "Training until validation scores don't improve for 100 rounds\n",
            "Early stopping, best iteration is:\n",
            "[251]\ttraining's ganancia: 4.03998e+08\tvalid_1's ganancia: 1.70645e+08\n",
            "Training until validation scores don't improve for 100 rounds\n",
            "Early stopping, best iteration is:\n",
            "[271]\ttraining's ganancia: 3.97998e+08\tvalid_1's ganancia: 1.71611e+08\n",
            "Training until validation scores don't improve for 100 rounds\n",
            "Early stopping, best iteration is:\n",
            "[172]\ttraining's ganancia: 3.81674e+08\tvalid_1's ganancia: 1.62672e+08\n"
          ]
        },
        {
          "output_type": "stream",
          "name": "stderr",
          "text": [
            "[I 2024-11-24 15:59:59,748] Trial 19 finished with value: 93098575.71000005 and parameters: {'num_leaves': 73, 'learning_rate': 0.07511686788420809, 'min_data_in_leaf': 3900, 'feature_fraction': 0.7589397221233167, 'bagging_fraction': 0.30119292408494774, 'bagging_freq': 2, 'lambda_l1': 4.579757007636642, 'lambda_l2': 6.814051436218302, 'max_depth': 42, 'min_gain_to_split': 0.2764467048745286}. Best is trial 12 with value: 93630502.67666668.\n"
          ]
        },
        {
          "output_type": "stream",
          "name": "stdout",
          "text": [
            "Training until validation scores don't improve for 100 rounds\n",
            "Early stopping, best iteration is:\n",
            "[412]\ttraining's ganancia: 3.91698e+08\tvalid_1's ganancia: 1.66032e+08\n",
            "Training until validation scores don't improve for 100 rounds\n",
            "Early stopping, best iteration is:\n",
            "[353]\ttraining's ganancia: 3.8355e+08\tvalid_1's ganancia: 1.67488e+08\n",
            "Training until validation scores don't improve for 100 rounds\n",
            "Early stopping, best iteration is:\n",
            "[221]\ttraining's ganancia: 3.59778e+08\tvalid_1's ganancia: 1.70225e+08\n"
          ]
        },
        {
          "output_type": "stream",
          "name": "stderr",
          "text": [
            "[I 2024-11-24 16:10:36,398] Trial 20 finished with value: 92370694.03333344 and parameters: {'num_leaves': 79, 'learning_rate': 0.034696366354171865, 'min_data_in_leaf': 4099, 'feature_fraction': 0.7993843901745301, 'bagging_fraction': 0.31868373592281735, 'bagging_freq': 2, 'lambda_l1': 4.691806280563801, 'lambda_l2': 6.581660712429371, 'max_depth': 41, 'min_gain_to_split': 0.2754669378469936}. Best is trial 12 with value: 93630502.67666668.\n"
          ]
        },
        {
          "output_type": "stream",
          "name": "stdout",
          "text": [
            "Training until validation scores don't improve for 100 rounds\n",
            "Early stopping, best iteration is:\n",
            "[102]\ttraining's ganancia: 3.37356e+08\tvalid_1's ganancia: 1.6564e+08\n",
            "Training until validation scores don't improve for 100 rounds\n",
            "Early stopping, best iteration is:\n",
            "[317]\ttraining's ganancia: 3.78686e+08\tvalid_1's ganancia: 1.70954e+08\n",
            "Training until validation scores don't improve for 100 rounds\n",
            "Early stopping, best iteration is:\n",
            "[105]\ttraining's ganancia: 3.46492e+08\tvalid_1's ganancia: 1.59914e+08\n"
          ]
        },
        {
          "output_type": "stream",
          "name": "stderr",
          "text": [
            "[I 2024-11-24 16:17:01,181] Trial 21 finished with value: 92466255.23333347 and parameters: {'num_leaves': 66, 'learning_rate': 0.06736419148011076, 'min_data_in_leaf': 3716, 'feature_fraction': 0.9112038095465229, 'bagging_fraction': 0.17678791993417659, 'bagging_freq': 3, 'lambda_l1': 3.1418576804497667, 'lambda_l2': 9.921516420712232, 'max_depth': 44, 'min_gain_to_split': 0.10543254612784003}. Best is trial 12 with value: 93630502.67666668.\n"
          ]
        },
        {
          "output_type": "stream",
          "name": "stdout",
          "text": [
            "Training until validation scores don't improve for 100 rounds\n",
            "Early stopping, best iteration is:\n",
            "[173]\ttraining's ganancia: 3.58204e+08\tvalid_1's ganancia: 1.49918e+08\n",
            "Training until validation scores don't improve for 100 rounds\n",
            "Early stopping, best iteration is:\n",
            "[242]\ttraining's ganancia: 3.54583e+08\tvalid_1's ganancia: 1.62441e+08\n",
            "Training until validation scores don't improve for 100 rounds\n",
            "Early stopping, best iteration is:\n",
            "[268]\ttraining's ganancia: 3.489e+08\tvalid_1's ganancia: 1.82777e+08\n"
          ]
        },
        {
          "output_type": "stream",
          "name": "stderr",
          "text": [
            "[I 2024-11-24 16:24:12,698] Trial 22 finished with value: 92604037.14333342 and parameters: {'num_leaves': 48, 'learning_rate': 0.0983819124732916, 'min_data_in_leaf': 2839, 'feature_fraction': 0.7607375566740706, 'bagging_fraction': 0.10195467937020852, 'bagging_freq': 2, 'lambda_l1': 5.194442727553476, 'lambda_l2': 8.471800016083156, 'max_depth': 35, 'min_gain_to_split': 0.19949560210313239}. Best is trial 12 with value: 93630502.67666668.\n"
          ]
        },
        {
          "output_type": "stream",
          "name": "stdout",
          "text": [
            "Training until validation scores don't improve for 100 rounds\n",
            "Early stopping, best iteration is:\n",
            "[143]\ttraining's ganancia: 3.56628e+08\tvalid_1's ganancia: 1.76742e+08\n",
            "Training until validation scores don't improve for 100 rounds\n",
            "Early stopping, best iteration is:\n",
            "[124]\ttraining's ganancia: 3.61619e+08\tvalid_1's ganancia: 1.66543e+08\n",
            "Training until validation scores don't improve for 100 rounds\n",
            "Early stopping, best iteration is:\n",
            "[158]\ttraining's ganancia: 3.78132e+08\tvalid_1's ganancia: 1.61489e+08\n"
          ]
        },
        {
          "output_type": "stream",
          "name": "stderr",
          "text": [
            "[I 2024-11-24 16:29:56,715] Trial 23 finished with value: 93177821.38000004 and parameters: {'num_leaves': 73, 'learning_rate': 0.11216313615298548, 'min_data_in_leaf': 4638, 'feature_fraction': 0.9290484346717098, 'bagging_fraction': 0.2761606923843618, 'bagging_freq': 4, 'lambda_l1': 6.520031281769345, 'lambda_l2': 6.900328729687747, 'max_depth': 42, 'min_gain_to_split': 0.30503848270642164}. Best is trial 12 with value: 93630502.67666668.\n"
          ]
        },
        {
          "output_type": "stream",
          "name": "stdout",
          "text": [
            "Training until validation scores don't improve for 100 rounds\n",
            "Early stopping, best iteration is:\n",
            "[91]\ttraining's ganancia: 3.66638e+08\tvalid_1's ganancia: 1.69435e+08\n",
            "Training until validation scores don't improve for 100 rounds\n",
            "Early stopping, best iteration is:\n",
            "[75]\ttraining's ganancia: 3.67324e+08\tvalid_1's ganancia: 1.68706e+08\n",
            "Training until validation scores don't improve for 100 rounds\n",
            "Early stopping, best iteration is:\n",
            "[144]\ttraining's ganancia: 3.91167e+08\tvalid_1's ganancia: 1.67271e+08\n"
          ]
        },
        {
          "output_type": "stream",
          "name": "stderr",
          "text": [
            "[I 2024-11-24 16:34:58,038] Trial 24 finished with value: 92361247.69666676 and parameters: {'num_leaves': 76, 'learning_rate': 0.11909476120040072, 'min_data_in_leaf': 4767, 'feature_fraction': 0.7401832098796206, 'bagging_fraction': 0.4421905857935029, 'bagging_freq': 4, 'lambda_l1': 7.082212697116671, 'lambda_l2': 6.846225611817792, 'max_depth': 31, 'min_gain_to_split': 0.30562784572559976}. Best is trial 12 with value: 93630502.67666668.\n"
          ]
        },
        {
          "output_type": "stream",
          "name": "stdout",
          "text": [
            "Training until validation scores don't improve for 100 rounds\n",
            "Early stopping, best iteration is:\n",
            "[51]\ttraining's ganancia: 3.49074e+08\tvalid_1's ganancia: 1.72878e+08\n",
            "Training until validation scores don't improve for 100 rounds\n",
            "Early stopping, best iteration is:\n",
            "[128]\ttraining's ganancia: 4.01346e+08\tvalid_1's ganancia: 1.71185e+08\n",
            "Training until validation scores don't improve for 100 rounds\n",
            "Early stopping, best iteration is:\n",
            "[96]\ttraining's ganancia: 4.07673e+08\tvalid_1's ganancia: 1.49239e+08\n"
          ]
        },
        {
          "output_type": "stream",
          "name": "stderr",
          "text": [
            "[I 2024-11-24 16:39:47,680] Trial 25 finished with value: 91038253.32000001 and parameters: {'num_leaves': 89, 'learning_rate': 0.1623521249631406, 'min_data_in_leaf': 4252, 'feature_fraction': 0.9023870674044817, 'bagging_fraction': 0.3159958463284655, 'bagging_freq': 5, 'lambda_l1': 3.620009989866273, 'lambda_l2': 3.942002394073927, 'max_depth': 40, 'min_gain_to_split': 0.451385668652094}. Best is trial 12 with value: 93630502.67666668.\n"
          ]
        },
        {
          "output_type": "stream",
          "name": "stdout",
          "text": [
            "Training until validation scores don't improve for 100 rounds\n",
            "Early stopping, best iteration is:\n",
            "[185]\ttraining's ganancia: 3.53982e+08\tvalid_1's ganancia: 1.70127e+08\n",
            "Training until validation scores don't improve for 100 rounds\n",
            "Early stopping, best iteration is:\n",
            "[490]\ttraining's ganancia: 3.80079e+08\tvalid_1's ganancia: 1.73998e+08\n",
            "Training until validation scores don't improve for 100 rounds\n",
            "Early stopping, best iteration is:\n",
            "[288]\ttraining's ganancia: 3.7144e+08\tvalid_1's ganancia: 1.6508e+08\n"
          ]
        },
        {
          "output_type": "stream",
          "name": "stderr",
          "text": [
            "[I 2024-11-24 16:49:20,612] Trial 26 finished with value: 93467263.84333336 and parameters: {'num_leaves': 100, 'learning_rate': 0.08510635610992318, 'min_data_in_leaf': 4419, 'feature_fraction': 0.9124243490506649, 'bagging_fraction': 0.262409011316342, 'bagging_freq': 4, 'lambda_l1': 8.057566519564528, 'lambda_l2': 6.156485616735512, 'max_depth': 28, 'min_gain_to_split': 0.3381746848662577}. Best is trial 12 with value: 93630502.67666668.\n"
          ]
        },
        {
          "output_type": "stream",
          "name": "stdout",
          "text": [
            "Training until validation scores don't improve for 100 rounds\n",
            "Early stopping, best iteration is:\n",
            "[116]\ttraining's ganancia: 3.52547e+08\tvalid_1's ganancia: 1.49652e+08\n",
            "Training until validation scores don't improve for 100 rounds\n",
            "Early stopping, best iteration is:\n",
            "[301]\ttraining's ganancia: 3.6299e+08\tvalid_1's ganancia: 1.65157e+08\n",
            "Training until validation scores don't improve for 100 rounds\n",
            "Early stopping, best iteration is:\n",
            "[167]\ttraining's ganancia: 3.46526e+08\tvalid_1's ganancia: 1.78472e+08\n"
          ]
        },
        {
          "output_type": "stream",
          "name": "stderr",
          "text": [
            "[I 2024-11-24 16:55:49,507] Trial 27 finished with value: 90384770.39666681 and parameters: {'num_leaves': 117, 'learning_rate': 0.15546539637026457, 'min_data_in_leaf': 4887, 'feature_fraction': 0.9085978681199036, 'bagging_fraction': 0.19543146430362843, 'bagging_freq': 4, 'lambda_l1': 8.411219373884704, 'lambda_l2': 2.9077129947174116, 'max_depth': 27, 'min_gain_to_split': 0.3638217039785973}. Best is trial 12 with value: 93630502.67666668.\n"
          ]
        },
        {
          "output_type": "stream",
          "name": "stdout",
          "text": [
            "Training until validation scores don't improve for 100 rounds\n",
            "Early stopping, best iteration is:\n",
            "[117]\ttraining's ganancia: 3.66518e+08\tvalid_1's ganancia: 1.57485e+08\n",
            "Training until validation scores don't improve for 100 rounds\n",
            "Early stopping, best iteration is:\n",
            "[170]\ttraining's ganancia: 3.69411e+08\tvalid_1's ganancia: 1.67607e+08\n",
            "Training until validation scores don't improve for 100 rounds\n",
            "Early stopping, best iteration is:\n",
            "[356]\ttraining's ganancia: 3.79e+08\tvalid_1's ganancia: 1.73914e+08\n"
          ]
        },
        {
          "output_type": "stream",
          "name": "stderr",
          "text": [
            "[I 2024-11-24 17:03:15,975] Trial 28 finished with value: 93373943.27333337 and parameters: {'num_leaves': 134, 'learning_rate': 0.11635336443413329, 'min_data_in_leaf': 4540, 'feature_fraction': 0.9083420838976209, 'bagging_fraction': 0.4400040779261106, 'bagging_freq': 4, 'lambda_l1': 9.535613914488522, 'lambda_l2': 5.907708981757417, 'max_depth': 27, 'min_gain_to_split': 0.5260699433587293}. Best is trial 12 with value: 93630502.67666668.\n"
          ]
        },
        {
          "output_type": "stream",
          "name": "stdout",
          "text": [
            "Training until validation scores don't improve for 100 rounds\n",
            "Early stopping, best iteration is:\n",
            "[180]\ttraining's ganancia: 3.5179e+08\tvalid_1's ganancia: 1.69287e+08\n",
            "Training until validation scores don't improve for 100 rounds\n",
            "Early stopping, best iteration is:\n",
            "[247]\ttraining's ganancia: 3.664e+08\tvalid_1's ganancia: 1.60327e+08\n",
            "Training until validation scores don't improve for 100 rounds\n",
            "Early stopping, best iteration is:\n",
            "[142]\ttraining's ganancia: 3.47521e+08\tvalid_1's ganancia: 1.65346e+08\n"
          ]
        },
        {
          "output_type": "stream",
          "name": "stderr",
          "text": [
            "[I 2024-11-24 17:09:53,663] Trial 29 finished with value: 92319346.93333338 and parameters: {'num_leaves': 131, 'learning_rate': 0.04352573063137821, 'min_data_in_leaf': 4359, 'feature_fraction': 0.5463879014509643, 'bagging_fraction': 0.6129738333996151, 'bagging_freq': 5, 'lambda_l1': 9.810673984583286, 'lambda_l2': 1.7168258865714314, 'max_depth': 19, 'min_gain_to_split': 0.7351574904185271}. Best is trial 12 with value: 93630502.67666668.\n"
          ]
        }
      ],
      "source": [
        "# Configurar Optuna\n",
        "study.optimize(objective, n_trials = 30)\n"
      ]
    },
    {
      "cell_type": "code",
      "source": [
        "# Mejor resultado\n",
        "print(f\"Mejor ganancia: {study.best_value}\")\n",
        "print(f\"Mejores hiperparámetros: {study.best_params}\")"
      ],
      "metadata": {
        "id": "KZxNTt3xKiJ8",
        "colab": {
          "base_uri": "https://localhost:8080/"
        },
        "outputId": "c6bf4f70-1e7a-48f3-db17-55d87cd43344"
      },
      "execution_count": 28,
      "outputs": [
        {
          "output_type": "stream",
          "name": "stdout",
          "text": [
            "Mejor ganancia: 93630502.67666668\n",
            "Mejores hiperparámetros: {'num_leaves': 64, 'learning_rate': 0.09003784184754302, 'min_data_in_leaf': 3202, 'feature_fraction': 0.9931996706221722, 'bagging_fraction': 0.12004074552445335, 'bagging_freq': 2, 'lambda_l1': 4.735850108229597, 'lambda_l2': 9.756082154423169, 'max_depth': 35, 'min_gain_to_split': 0.13794398844018246}\n"
          ]
        }
      ]
    },
    {
      "cell_type": "code",
      "execution_count": 29,
      "metadata": {
        "id": "9ktIOtq2c79m",
        "colab": {
          "base_uri": "https://localhost:8080/",
          "height": 542
        },
        "outputId": "f3916299-f6b6-418a-f48c-7c2f7cb1f5bd"
      },
      "outputs": [
        {
          "output_type": "display_data",
          "data": {
            "text/html": [
              "<html>\n",
              "<head><meta charset=\"utf-8\" /></head>\n",
              "<body>\n",
              "    <div>            <script src=\"https://cdnjs.cloudflare.com/ajax/libs/mathjax/2.7.5/MathJax.js?config=TeX-AMS-MML_SVG\"></script><script type=\"text/javascript\">if (window.MathJax && window.MathJax.Hub && window.MathJax.Hub.Config) {window.MathJax.Hub.Config({SVG: {font: \"STIX-Web\"}});}</script>                <script type=\"text/javascript\">window.PlotlyConfig = {MathJaxConfig: 'local'};</script>\n",
              "        <script charset=\"utf-8\" src=\"https://cdn.plot.ly/plotly-2.35.2.min.js\"></script>                <div id=\"9f435b1f-c6ad-4a02-be4f-c36f1342384f\" class=\"plotly-graph-div\" style=\"height:525px; width:100%;\"></div>            <script type=\"text/javascript\">                                    window.PLOTLYENV=window.PLOTLYENV || {};                                    if (document.getElementById(\"9f435b1f-c6ad-4a02-be4f-c36f1342384f\")) {                    Plotly.newPlot(                        \"9f435b1f-c6ad-4a02-be4f-c36f1342384f\",                        [{\"cliponaxis\":false,\"hovertemplate\":[\"max_depth (IntDistribution): 0.006125896830302733\\u003cextra\\u003e\\u003c\\u002fextra\\u003e\",\"min_gain_to_split (FloatDistribution): 0.011265840064802489\\u003cextra\\u003e\\u003c\\u002fextra\\u003e\",\"bagging_freq (IntDistribution): 0.019223547621727302\\u003cextra\\u003e\\u003c\\u002fextra\\u003e\",\"lambda_l1 (FloatDistribution): 0.021688859505222324\\u003cextra\\u003e\\u003c\\u002fextra\\u003e\",\"num_leaves (IntDistribution): 0.022928138547454242\\u003cextra\\u003e\\u003c\\u002fextra\\u003e\",\"lambda_l2 (FloatDistribution): 0.029134544052326246\\u003cextra\\u003e\\u003c\\u002fextra\\u003e\",\"feature_fraction (FloatDistribution): 0.11996949107076249\\u003cextra\\u003e\\u003c\\u002fextra\\u003e\",\"bagging_fraction (FloatDistribution): 0.14495277247120827\\u003cextra\\u003e\\u003c\\u002fextra\\u003e\",\"learning_rate (FloatDistribution): 0.22570045277647668\\u003cextra\\u003e\\u003c\\u002fextra\\u003e\",\"min_data_in_leaf (IntDistribution): 0.3990104570597172\\u003cextra\\u003e\\u003c\\u002fextra\\u003e\"],\"name\":\"Objective Value\",\"orientation\":\"h\",\"text\":[\"\\u003c0.01\",\"0.01\",\"0.02\",\"0.02\",\"0.02\",\"0.03\",\"0.12\",\"0.14\",\"0.23\",\"0.40\"],\"textposition\":\"outside\",\"x\":[0.006125896830302733,0.011265840064802489,0.019223547621727302,0.021688859505222324,0.022928138547454242,0.029134544052326246,0.11996949107076249,0.14495277247120827,0.22570045277647668,0.3990104570597172],\"y\":[\"max_depth\",\"min_gain_to_split\",\"bagging_freq\",\"lambda_l1\",\"num_leaves\",\"lambda_l2\",\"feature_fraction\",\"bagging_fraction\",\"learning_rate\",\"min_data_in_leaf\"],\"type\":\"bar\"}],                        {\"title\":{\"text\":\"Hyperparameter Importances\"},\"xaxis\":{\"title\":{\"text\":\"Hyperparameter Importance\"}},\"yaxis\":{\"title\":{\"text\":\"Hyperparameter\"}},\"template\":{\"data\":{\"histogram2dcontour\":[{\"type\":\"histogram2dcontour\",\"colorbar\":{\"outlinewidth\":0,\"ticks\":\"\"},\"colorscale\":[[0.0,\"#0d0887\"],[0.1111111111111111,\"#46039f\"],[0.2222222222222222,\"#7201a8\"],[0.3333333333333333,\"#9c179e\"],[0.4444444444444444,\"#bd3786\"],[0.5555555555555556,\"#d8576b\"],[0.6666666666666666,\"#ed7953\"],[0.7777777777777778,\"#fb9f3a\"],[0.8888888888888888,\"#fdca26\"],[1.0,\"#f0f921\"]]}],\"choropleth\":[{\"type\":\"choropleth\",\"colorbar\":{\"outlinewidth\":0,\"ticks\":\"\"}}],\"histogram2d\":[{\"type\":\"histogram2d\",\"colorbar\":{\"outlinewidth\":0,\"ticks\":\"\"},\"colorscale\":[[0.0,\"#0d0887\"],[0.1111111111111111,\"#46039f\"],[0.2222222222222222,\"#7201a8\"],[0.3333333333333333,\"#9c179e\"],[0.4444444444444444,\"#bd3786\"],[0.5555555555555556,\"#d8576b\"],[0.6666666666666666,\"#ed7953\"],[0.7777777777777778,\"#fb9f3a\"],[0.8888888888888888,\"#fdca26\"],[1.0,\"#f0f921\"]]}],\"heatmap\":[{\"type\":\"heatmap\",\"colorbar\":{\"outlinewidth\":0,\"ticks\":\"\"},\"colorscale\":[[0.0,\"#0d0887\"],[0.1111111111111111,\"#46039f\"],[0.2222222222222222,\"#7201a8\"],[0.3333333333333333,\"#9c179e\"],[0.4444444444444444,\"#bd3786\"],[0.5555555555555556,\"#d8576b\"],[0.6666666666666666,\"#ed7953\"],[0.7777777777777778,\"#fb9f3a\"],[0.8888888888888888,\"#fdca26\"],[1.0,\"#f0f921\"]]}],\"heatmapgl\":[{\"type\":\"heatmapgl\",\"colorbar\":{\"outlinewidth\":0,\"ticks\":\"\"},\"colorscale\":[[0.0,\"#0d0887\"],[0.1111111111111111,\"#46039f\"],[0.2222222222222222,\"#7201a8\"],[0.3333333333333333,\"#9c179e\"],[0.4444444444444444,\"#bd3786\"],[0.5555555555555556,\"#d8576b\"],[0.6666666666666666,\"#ed7953\"],[0.7777777777777778,\"#fb9f3a\"],[0.8888888888888888,\"#fdca26\"],[1.0,\"#f0f921\"]]}],\"contourcarpet\":[{\"type\":\"contourcarpet\",\"colorbar\":{\"outlinewidth\":0,\"ticks\":\"\"}}],\"contour\":[{\"type\":\"contour\",\"colorbar\":{\"outlinewidth\":0,\"ticks\":\"\"},\"colorscale\":[[0.0,\"#0d0887\"],[0.1111111111111111,\"#46039f\"],[0.2222222222222222,\"#7201a8\"],[0.3333333333333333,\"#9c179e\"],[0.4444444444444444,\"#bd3786\"],[0.5555555555555556,\"#d8576b\"],[0.6666666666666666,\"#ed7953\"],[0.7777777777777778,\"#fb9f3a\"],[0.8888888888888888,\"#fdca26\"],[1.0,\"#f0f921\"]]}],\"surface\":[{\"type\":\"surface\",\"colorbar\":{\"outlinewidth\":0,\"ticks\":\"\"},\"colorscale\":[[0.0,\"#0d0887\"],[0.1111111111111111,\"#46039f\"],[0.2222222222222222,\"#7201a8\"],[0.3333333333333333,\"#9c179e\"],[0.4444444444444444,\"#bd3786\"],[0.5555555555555556,\"#d8576b\"],[0.6666666666666666,\"#ed7953\"],[0.7777777777777778,\"#fb9f3a\"],[0.8888888888888888,\"#fdca26\"],[1.0,\"#f0f921\"]]}],\"mesh3d\":[{\"type\":\"mesh3d\",\"colorbar\":{\"outlinewidth\":0,\"ticks\":\"\"}}],\"scatter\":[{\"fillpattern\":{\"fillmode\":\"overlay\",\"size\":10,\"solidity\":0.2},\"type\":\"scatter\"}],\"parcoords\":[{\"type\":\"parcoords\",\"line\":{\"colorbar\":{\"outlinewidth\":0,\"ticks\":\"\"}}}],\"scatterpolargl\":[{\"type\":\"scatterpolargl\",\"marker\":{\"colorbar\":{\"outlinewidth\":0,\"ticks\":\"\"}}}],\"bar\":[{\"error_x\":{\"color\":\"#2a3f5f\"},\"error_y\":{\"color\":\"#2a3f5f\"},\"marker\":{\"line\":{\"color\":\"#E5ECF6\",\"width\":0.5},\"pattern\":{\"fillmode\":\"overlay\",\"size\":10,\"solidity\":0.2}},\"type\":\"bar\"}],\"scattergeo\":[{\"type\":\"scattergeo\",\"marker\":{\"colorbar\":{\"outlinewidth\":0,\"ticks\":\"\"}}}],\"scatterpolar\":[{\"type\":\"scatterpolar\",\"marker\":{\"colorbar\":{\"outlinewidth\":0,\"ticks\":\"\"}}}],\"histogram\":[{\"marker\":{\"pattern\":{\"fillmode\":\"overlay\",\"size\":10,\"solidity\":0.2}},\"type\":\"histogram\"}],\"scattergl\":[{\"type\":\"scattergl\",\"marker\":{\"colorbar\":{\"outlinewidth\":0,\"ticks\":\"\"}}}],\"scatter3d\":[{\"type\":\"scatter3d\",\"line\":{\"colorbar\":{\"outlinewidth\":0,\"ticks\":\"\"}},\"marker\":{\"colorbar\":{\"outlinewidth\":0,\"ticks\":\"\"}}}],\"scattermapbox\":[{\"type\":\"scattermapbox\",\"marker\":{\"colorbar\":{\"outlinewidth\":0,\"ticks\":\"\"}}}],\"scatterternary\":[{\"type\":\"scatterternary\",\"marker\":{\"colorbar\":{\"outlinewidth\":0,\"ticks\":\"\"}}}],\"scattercarpet\":[{\"type\":\"scattercarpet\",\"marker\":{\"colorbar\":{\"outlinewidth\":0,\"ticks\":\"\"}}}],\"carpet\":[{\"aaxis\":{\"endlinecolor\":\"#2a3f5f\",\"gridcolor\":\"white\",\"linecolor\":\"white\",\"minorgridcolor\":\"white\",\"startlinecolor\":\"#2a3f5f\"},\"baxis\":{\"endlinecolor\":\"#2a3f5f\",\"gridcolor\":\"white\",\"linecolor\":\"white\",\"minorgridcolor\":\"white\",\"startlinecolor\":\"#2a3f5f\"},\"type\":\"carpet\"}],\"table\":[{\"cells\":{\"fill\":{\"color\":\"#EBF0F8\"},\"line\":{\"color\":\"white\"}},\"header\":{\"fill\":{\"color\":\"#C8D4E3\"},\"line\":{\"color\":\"white\"}},\"type\":\"table\"}],\"barpolar\":[{\"marker\":{\"line\":{\"color\":\"#E5ECF6\",\"width\":0.5},\"pattern\":{\"fillmode\":\"overlay\",\"size\":10,\"solidity\":0.2}},\"type\":\"barpolar\"}],\"pie\":[{\"automargin\":true,\"type\":\"pie\"}]},\"layout\":{\"autotypenumbers\":\"strict\",\"colorway\":[\"#636efa\",\"#EF553B\",\"#00cc96\",\"#ab63fa\",\"#FFA15A\",\"#19d3f3\",\"#FF6692\",\"#B6E880\",\"#FF97FF\",\"#FECB52\"],\"font\":{\"color\":\"#2a3f5f\"},\"hovermode\":\"closest\",\"hoverlabel\":{\"align\":\"left\"},\"paper_bgcolor\":\"white\",\"plot_bgcolor\":\"#E5ECF6\",\"polar\":{\"bgcolor\":\"#E5ECF6\",\"angularaxis\":{\"gridcolor\":\"white\",\"linecolor\":\"white\",\"ticks\":\"\"},\"radialaxis\":{\"gridcolor\":\"white\",\"linecolor\":\"white\",\"ticks\":\"\"}},\"ternary\":{\"bgcolor\":\"#E5ECF6\",\"aaxis\":{\"gridcolor\":\"white\",\"linecolor\":\"white\",\"ticks\":\"\"},\"baxis\":{\"gridcolor\":\"white\",\"linecolor\":\"white\",\"ticks\":\"\"},\"caxis\":{\"gridcolor\":\"white\",\"linecolor\":\"white\",\"ticks\":\"\"}},\"coloraxis\":{\"colorbar\":{\"outlinewidth\":0,\"ticks\":\"\"}},\"colorscale\":{\"sequential\":[[0.0,\"#0d0887\"],[0.1111111111111111,\"#46039f\"],[0.2222222222222222,\"#7201a8\"],[0.3333333333333333,\"#9c179e\"],[0.4444444444444444,\"#bd3786\"],[0.5555555555555556,\"#d8576b\"],[0.6666666666666666,\"#ed7953\"],[0.7777777777777778,\"#fb9f3a\"],[0.8888888888888888,\"#fdca26\"],[1.0,\"#f0f921\"]],\"sequentialminus\":[[0.0,\"#0d0887\"],[0.1111111111111111,\"#46039f\"],[0.2222222222222222,\"#7201a8\"],[0.3333333333333333,\"#9c179e\"],[0.4444444444444444,\"#bd3786\"],[0.5555555555555556,\"#d8576b\"],[0.6666666666666666,\"#ed7953\"],[0.7777777777777778,\"#fb9f3a\"],[0.8888888888888888,\"#fdca26\"],[1.0,\"#f0f921\"]],\"diverging\":[[0,\"#8e0152\"],[0.1,\"#c51b7d\"],[0.2,\"#de77ae\"],[0.3,\"#f1b6da\"],[0.4,\"#fde0ef\"],[0.5,\"#f7f7f7\"],[0.6,\"#e6f5d0\"],[0.7,\"#b8e186\"],[0.8,\"#7fbc41\"],[0.9,\"#4d9221\"],[1,\"#276419\"]]},\"xaxis\":{\"gridcolor\":\"white\",\"linecolor\":\"white\",\"ticks\":\"\",\"title\":{\"standoff\":15},\"zerolinecolor\":\"white\",\"automargin\":true,\"zerolinewidth\":2},\"yaxis\":{\"gridcolor\":\"white\",\"linecolor\":\"white\",\"ticks\":\"\",\"title\":{\"standoff\":15},\"zerolinecolor\":\"white\",\"automargin\":true,\"zerolinewidth\":2},\"scene\":{\"xaxis\":{\"backgroundcolor\":\"#E5ECF6\",\"gridcolor\":\"white\",\"linecolor\":\"white\",\"showbackground\":true,\"ticks\":\"\",\"zerolinecolor\":\"white\",\"gridwidth\":2},\"yaxis\":{\"backgroundcolor\":\"#E5ECF6\",\"gridcolor\":\"white\",\"linecolor\":\"white\",\"showbackground\":true,\"ticks\":\"\",\"zerolinecolor\":\"white\",\"gridwidth\":2},\"zaxis\":{\"backgroundcolor\":\"#E5ECF6\",\"gridcolor\":\"white\",\"linecolor\":\"white\",\"showbackground\":true,\"ticks\":\"\",\"zerolinecolor\":\"white\",\"gridwidth\":2}},\"shapedefaults\":{\"line\":{\"color\":\"#2a3f5f\"}},\"annotationdefaults\":{\"arrowcolor\":\"#2a3f5f\",\"arrowhead\":0,\"arrowwidth\":1},\"geo\":{\"bgcolor\":\"white\",\"landcolor\":\"#E5ECF6\",\"subunitcolor\":\"white\",\"showland\":true,\"showlakes\":true,\"lakecolor\":\"white\"},\"title\":{\"x\":0.05},\"mapbox\":{\"style\":\"light\"}}}},                        {\"responsive\": true}                    ).then(function(){\n",
              "                            \n",
              "var gd = document.getElementById('9f435b1f-c6ad-4a02-be4f-c36f1342384f');\n",
              "var x = new MutationObserver(function (mutations, observer) {{\n",
              "        var display = window.getComputedStyle(gd).display;\n",
              "        if (!display || display === 'none') {{\n",
              "            console.log([gd, 'removed!']);\n",
              "            Plotly.purge(gd);\n",
              "            observer.disconnect();\n",
              "        }}\n",
              "}});\n",
              "\n",
              "// Listen for the removal of the full notebook cells\n",
              "var notebookContainer = gd.closest('#notebook-container');\n",
              "if (notebookContainer) {{\n",
              "    x.observe(notebookContainer, {childList: true});\n",
              "}}\n",
              "\n",
              "// Listen for the clearing of the current output cell\n",
              "var outputEl = gd.closest('.output');\n",
              "if (outputEl) {{\n",
              "    x.observe(outputEl, {childList: true});\n",
              "}}\n",
              "\n",
              "                        })                };                            </script>        </div>\n",
              "</body>\n",
              "</html>"
            ]
          },
          "metadata": {}
        }
      ],
      "source": [
        "plot_param_importances(study)"
      ]
    },
    {
      "cell_type": "code",
      "source": [
        "# Parámetros óptimos obtenidos de la optimización de Optuna\n",
        "best_iter = study.best_trial.user_attrs[\"best_iter\"]\n",
        "print(f\"Mejor cantidad de árboles para el mejor modelo: {best_iter}\")"
      ],
      "metadata": {
        "colab": {
          "base_uri": "https://localhost:8080/",
          "height": 179
        },
        "id": "hq_YnWwKYRU7",
        "outputId": "61c19f64-f866-46bd-89ee-6f0ffa437402"
      },
      "execution_count": 30,
      "outputs": [
        {
          "output_type": "error",
          "ename": "KeyError",
          "evalue": "'best_iter'",
          "traceback": [
            "\u001b[0;31m---------------------------------------------------------------------------\u001b[0m",
            "\u001b[0;31mKeyError\u001b[0m                                  Traceback (most recent call last)",
            "\u001b[0;32m<ipython-input-30-7522439f1fdd>\u001b[0m in \u001b[0;36m<cell line: 2>\u001b[0;34m()\u001b[0m\n\u001b[1;32m      1\u001b[0m \u001b[0;31m# Parámetros óptimos obtenidos de la optimización de Optuna\u001b[0m\u001b[0;34m\u001b[0m\u001b[0;34m\u001b[0m\u001b[0m\n\u001b[0;32m----> 2\u001b[0;31m \u001b[0mbest_iter\u001b[0m \u001b[0;34m=\u001b[0m \u001b[0mstudy\u001b[0m\u001b[0;34m.\u001b[0m\u001b[0mbest_trial\u001b[0m\u001b[0;34m.\u001b[0m\u001b[0muser_attrs\u001b[0m\u001b[0;34m[\u001b[0m\u001b[0;34m\"best_iter\"\u001b[0m\u001b[0;34m]\u001b[0m\u001b[0;34m\u001b[0m\u001b[0;34m\u001b[0m\u001b[0m\n\u001b[0m\u001b[1;32m      3\u001b[0m \u001b[0mprint\u001b[0m\u001b[0;34m(\u001b[0m\u001b[0;34mf\"Mejor cantidad de árboles para el mejor modelo: {best_iter}\"\u001b[0m\u001b[0;34m)\u001b[0m\u001b[0;34m\u001b[0m\u001b[0;34m\u001b[0m\u001b[0m\n",
            "\u001b[0;31mKeyError\u001b[0m: 'best_iter'"
          ]
        }
      ]
    },
    {
      "cell_type": "markdown",
      "metadata": {
        "id": "IiQ0ZNDWdM8x"
      },
      "source": [
        "Y finalmente tomamos el mejor modelo y lo entrenamos con la totalidad de los\n",
        "datos"
      ]
    },
    {
      "cell_type": "code",
      "execution_count": null,
      "metadata": {
        "id": "-VSlBEvldjOs",
        "colab": {
          "base_uri": "https://localhost:8080/"
        },
        "outputId": "8d53f939-5600-4bbc-b15a-71668892fffc",
        "collapsed": true
      },
      "outputs": [
        {
          "output_type": "stream",
          "name": "stdout",
          "text": [
            "Mejor cantidad de árboles para el mejor modelo: 99\n",
            "[LightGBM] [Warning] No further splits with positive gain, best gain: -inf\n",
            "[LightGBM] [Warning] No further splits with positive gain, best gain: -inf\n",
            "[LightGBM] [Warning] No further splits with positive gain, best gain: -inf\n",
            "[LightGBM] [Warning] No further splits with positive gain, best gain: -inf\n",
            "[LightGBM] [Warning] No further splits with positive gain, best gain: -inf\n",
            "[LightGBM] [Warning] No further splits with positive gain, best gain: -inf\n",
            "[LightGBM] [Warning] No further splits with positive gain, best gain: -inf\n",
            "[LightGBM] [Warning] No further splits with positive gain, best gain: -inf\n",
            "[LightGBM] [Warning] No further splits with positive gain, best gain: -inf\n",
            "[LightGBM] [Warning] No further splits with positive gain, best gain: -inf\n",
            "[LightGBM] [Warning] No further splits with positive gain, best gain: -inf\n",
            "[LightGBM] [Warning] No further splits with positive gain, best gain: -inf\n",
            "[LightGBM] [Warning] No further splits with positive gain, best gain: -inf\n",
            "[LightGBM] [Warning] No further splits with positive gain, best gain: -inf\n",
            "[LightGBM] [Warning] No further splits with positive gain, best gain: -inf\n",
            "[LightGBM] [Warning] No further splits with positive gain, best gain: -inf\n",
            "[LightGBM] [Warning] No further splits with positive gain, best gain: -inf\n",
            "[LightGBM] [Warning] No further splits with positive gain, best gain: -inf\n",
            "[LightGBM] [Warning] No further splits with positive gain, best gain: -inf\n",
            "[LightGBM] [Warning] No further splits with positive gain, best gain: -inf\n",
            "[LightGBM] [Warning] No further splits with positive gain, best gain: -inf\n",
            "[LightGBM] [Warning] No further splits with positive gain, best gain: -inf\n",
            "[LightGBM] [Warning] No further splits with positive gain, best gain: -inf\n",
            "[LightGBM] [Warning] No further splits with positive gain, best gain: -inf\n",
            "[LightGBM] [Warning] No further splits with positive gain, best gain: -inf\n",
            "[LightGBM] [Warning] No further splits with positive gain, best gain: -inf\n",
            "[LightGBM] [Warning] No further splits with positive gain, best gain: -inf\n",
            "[LightGBM] [Warning] No further splits with positive gain, best gain: -inf\n",
            "[LightGBM] [Warning] No further splits with positive gain, best gain: -inf\n",
            "[LightGBM] [Warning] No further splits with positive gain, best gain: -inf\n",
            "[LightGBM] [Warning] No further splits with positive gain, best gain: -inf\n",
            "[LightGBM] [Warning] No further splits with positive gain, best gain: -inf\n",
            "[LightGBM] [Warning] No further splits with positive gain, best gain: -inf\n",
            "[LightGBM] [Warning] No further splits with positive gain, best gain: -inf\n",
            "[LightGBM] [Warning] No further splits with positive gain, best gain: -inf\n",
            "[LightGBM] [Warning] No further splits with positive gain, best gain: -inf\n",
            "[LightGBM] [Warning] No further splits with positive gain, best gain: -inf\n",
            "[LightGBM] [Warning] No further splits with positive gain, best gain: -inf\n",
            "[LightGBM] [Warning] No further splits with positive gain, best gain: -inf\n",
            "[LightGBM] [Warning] No further splits with positive gain, best gain: -inf\n",
            "[LightGBM] [Warning] No further splits with positive gain, best gain: -inf\n",
            "[LightGBM] [Warning] No further splits with positive gain, best gain: -inf\n",
            "[LightGBM] [Warning] No further splits with positive gain, best gain: -inf\n",
            "[LightGBM] [Warning] No further splits with positive gain, best gain: -inf\n",
            "[LightGBM] [Warning] No further splits with positive gain, best gain: -inf\n",
            "[LightGBM] [Warning] No further splits with positive gain, best gain: -inf\n",
            "[LightGBM] [Warning] No further splits with positive gain, best gain: -inf\n",
            "[LightGBM] [Warning] No further splits with positive gain, best gain: -inf\n",
            "[LightGBM] [Warning] No further splits with positive gain, best gain: -inf\n",
            "[LightGBM] [Warning] No further splits with positive gain, best gain: -inf\n",
            "[LightGBM] [Warning] No further splits with positive gain, best gain: -inf\n",
            "[LightGBM] [Warning] No further splits with positive gain, best gain: -inf\n",
            "[LightGBM] [Warning] No further splits with positive gain, best gain: -inf\n",
            "[LightGBM] [Warning] No further splits with positive gain, best gain: -inf\n",
            "[LightGBM] [Warning] No further splits with positive gain, best gain: -inf\n",
            "[LightGBM] [Warning] No further splits with positive gain, best gain: -inf\n",
            "[LightGBM] [Warning] No further splits with positive gain, best gain: -inf\n",
            "[LightGBM] [Warning] No further splits with positive gain, best gain: -inf\n",
            "[LightGBM] [Warning] No further splits with positive gain, best gain: -inf\n",
            "[LightGBM] [Warning] No further splits with positive gain, best gain: -inf\n",
            "[LightGBM] [Warning] No further splits with positive gain, best gain: -inf\n",
            "[LightGBM] [Warning] No further splits with positive gain, best gain: -inf\n",
            "[LightGBM] [Warning] No further splits with positive gain, best gain: -inf\n",
            "[LightGBM] [Warning] No further splits with positive gain, best gain: -inf\n",
            "[LightGBM] [Warning] No further splits with positive gain, best gain: -inf\n",
            "[LightGBM] [Warning] No further splits with positive gain, best gain: -inf\n",
            "[LightGBM] [Warning] No further splits with positive gain, best gain: -inf\n",
            "[LightGBM] [Warning] No further splits with positive gain, best gain: -inf\n",
            "[LightGBM] [Warning] No further splits with positive gain, best gain: -inf\n",
            "[LightGBM] [Warning] No further splits with positive gain, best gain: -inf\n",
            "[LightGBM] [Warning] No further splits with positive gain, best gain: -inf\n",
            "[LightGBM] [Warning] No further splits with positive gain, best gain: -inf\n",
            "[LightGBM] [Warning] No further splits with positive gain, best gain: -inf\n",
            "[LightGBM] [Warning] No further splits with positive gain, best gain: -inf\n",
            "[LightGBM] [Warning] No further splits with positive gain, best gain: -inf\n",
            "[LightGBM] [Warning] No further splits with positive gain, best gain: -inf\n",
            "[LightGBM] [Warning] No further splits with positive gain, best gain: -inf\n",
            "[LightGBM] [Warning] No further splits with positive gain, best gain: -inf\n",
            "[LightGBM] [Warning] No further splits with positive gain, best gain: -inf\n",
            "[LightGBM] [Warning] No further splits with positive gain, best gain: -inf\n",
            "[LightGBM] [Warning] No further splits with positive gain, best gain: -inf\n",
            "[LightGBM] [Warning] No further splits with positive gain, best gain: -inf\n",
            "[LightGBM] [Warning] No further splits with positive gain, best gain: -inf\n",
            "[LightGBM] [Warning] No further splits with positive gain, best gain: -inf\n",
            "[LightGBM] [Warning] No further splits with positive gain, best gain: -inf\n",
            "[LightGBM] [Warning] No further splits with positive gain, best gain: -inf\n",
            "[LightGBM] [Warning] No further splits with positive gain, best gain: -inf\n",
            "[LightGBM] [Warning] No further splits with positive gain, best gain: -inf\n",
            "[LightGBM] [Warning] No further splits with positive gain, best gain: -inf\n",
            "[LightGBM] [Warning] No further splits with positive gain, best gain: -inf\n",
            "[LightGBM] [Warning] No further splits with positive gain, best gain: -inf\n",
            "[LightGBM] [Warning] No further splits with positive gain, best gain: -inf\n",
            "[LightGBM] [Warning] No further splits with positive gain, best gain: -inf\n",
            "[LightGBM] [Warning] No further splits with positive gain, best gain: -inf\n",
            "[LightGBM] [Warning] No further splits with positive gain, best gain: -inf\n",
            "[LightGBM] [Warning] No further splits with positive gain, best gain: -inf\n",
            "[LightGBM] [Warning] No further splits with positive gain, best gain: -inf\n",
            "[LightGBM] [Warning] No further splits with positive gain, best gain: -inf\n",
            "[LightGBM] [Warning] No further splits with positive gain, best gain: -inf\n"
          ]
        }
      ],
      "source": [
        "# Definir los parámetros del modelo con los mejores hiperparámetros encontrados (Se tildó lo de arriba y no quedó guardado. Los pongo a mano abajo)\n",
        "# params = {\n",
        "#     'objective': 'binary',\n",
        "#     'boosting_type': 'gbdt',\n",
        "#     'first_metric_only': True,\n",
        "#     'boost_from_average': True,\n",
        "#     'feature_pre_filter': False,\n",
        "#     'max_bin': 31,\n",
        "#     'num_leaves': study.best_trial.params['num_leaves'],\n",
        "#     'learning_rate': study.best_trial.params['learning_rate'],\n",
        "#     'min_data_in_leaf': study.best_trial.params['min_data_in_leaf'],\n",
        "#     'feature_fraction': study.best_trial.params['feature_fraction'],\n",
        "#     'bagging_fraction': study.best_trial.params['bagging_fraction'],\n",
        "#     'max_depth': study.best_trial.params['max_depth'],\n",
        "#     'lambda_l1': study.best_trial.params['lambda_l1'],\n",
        "#     'lambda_l2': study.best_trial.params['lambda_l2'],\n",
        "#     'min_gain_to_split': study.best_trial.params['min_gain_to_split'],\n",
        "#     'bagging_freq': study.best_trial.params['bagging_freq'],\n",
        "#     'seed': 11,\n",
        "#     'verbose': 0\n",
        "# }"
      ]
    },
    {
      "cell_type": "code",
      "source": [
        "# Definir los parámetros del modelo con los mejores hiperparámetros encontrados\n",
        "params = {\n",
        "    'objective': 'binary',\n",
        "    'boosting_type': 'gbdt',\n",
        "    'first_metric_only': True,\n",
        "    'boost_from_average': True,\n",
        "    'feature_pre_filter': False,\n",
        "    'max_bin': 31,\n",
        "    'num_leaves': 64,\n",
        "    'learning_rate': 0.09003784184754302,\n",
        "    'min_data_in_leaf': 3202,\n",
        "    'feature_fraction': 0.9931996706221722,\n",
        "    'bagging_fraction': 0.12004074552445335,\n",
        "    'max_depth': 35,\n",
        "    'lambda_l1': 4.735850108229597,\n",
        "    'lambda_l2': 9.756082154423169,\n",
        "    'min_gain_to_split': 0.13794398844018246,\n",
        "    'bagging_freq': 2,\n",
        "    'seed': 11,\n",
        "    'verbose': 0\n",
        "}"
      ],
      "metadata": {
        "id": "iseh3i5BHl5v"
      },
      "execution_count": 20,
      "outputs": []
    },
    {
      "cell_type": "code",
      "source": [
        "# Preparación de los datos de entrenamiento (hasta abril 2021) y validación (mayo y junio 2021)\n",
        "mes_train = [\"202008\", \"202009\", \"202010\", \"202011\",\n",
        "             \"202012\", \"202101\", \"202102\", \"202103\", \"202104\"]\n",
        "mes_val = [\"202105\", \"202106\"]\n",
        "\n",
        "# Datos de entrenamiento\n",
        "train_data = data[data['foto_mes'].isin(mes_train)].drop(['foto_mes', 'numero_de_cliente'], axis=1)\n",
        "X_train = train_data.drop(['clase_ternaria', 'clase_peso', 'clase_binaria'], axis=1)\n",
        "y_train = train_data['clase_binaria']\n",
        "w_train = train_data['clase_peso']\n",
        "\n",
        "# Datos de validación (junio 2021)\n",
        "val_data = data[data['foto_mes'].isin(mes_val)].drop(['foto_mes', 'numero_de_cliente'], axis=1)\n",
        "X_val = val_data.drop(['clase_ternaria', 'clase_peso', 'clase_binaria'], axis=1)\n",
        "y_val = val_data['clase_binaria']\n",
        "w_val = val_data['clase_peso']\n"
      ],
      "metadata": {
        "id": "-rDh7TTQzgrt"
      },
      "execution_count": 21,
      "outputs": []
    },
    {
      "cell_type": "code",
      "source": [
        "# Crear datasets de LightGBM\n",
        "lgb_train = lgb.Dataset(X_train, label=y_train, weight=w_train)\n",
        "lgb_val = lgb.Dataset(X_val, label=y_val, weight=w_val, reference=lgb_train)"
      ],
      "metadata": {
        "id": "68HGgte3zrRa"
      },
      "execution_count": 22,
      "outputs": []
    },
    {
      "cell_type": "code",
      "source": [
        "# Entrenar el modelo\n",
        "model = lgb.train(params,\n",
        "                  lgb_train,\n",
        "                  num_boost_round=500,\n",
        "                  valid_sets=[lgb_train, lgb_val],\n",
        "                  callbacks=[lgb.early_stopping(stopping_rounds=10)])"
      ],
      "metadata": {
        "id": "vV-1gen-ztyA",
        "colab": {
          "base_uri": "https://localhost:8080/"
        },
        "outputId": "321ab99c-8893-469b-ad16-54e303e8b425"
      },
      "execution_count": 25,
      "outputs": [
        {
          "output_type": "stream",
          "name": "stdout",
          "text": [
            "[LightGBM] [Warning] No further splits with positive gain, best gain: -inf\n",
            "Training until validation scores don't improve for 10 rounds\n",
            "[LightGBM] [Warning] No further splits with positive gain, best gain: -inf\n",
            "[LightGBM] [Warning] No further splits with positive gain, best gain: -inf\n",
            "[LightGBM] [Warning] No further splits with positive gain, best gain: -inf\n",
            "[LightGBM] [Warning] No further splits with positive gain, best gain: -inf\n",
            "[LightGBM] [Warning] No further splits with positive gain, best gain: -inf\n",
            "[LightGBM] [Warning] No further splits with positive gain, best gain: -inf\n",
            "[LightGBM] [Warning] No further splits with positive gain, best gain: -inf\n",
            "[LightGBM] [Warning] No further splits with positive gain, best gain: -inf\n",
            "[LightGBM] [Warning] No further splits with positive gain, best gain: -inf\n",
            "[LightGBM] [Warning] No further splits with positive gain, best gain: -inf\n",
            "[LightGBM] [Warning] No further splits with positive gain, best gain: -inf\n",
            "[LightGBM] [Warning] No further splits with positive gain, best gain: -inf\n",
            "[LightGBM] [Warning] No further splits with positive gain, best gain: -inf\n",
            "[LightGBM] [Warning] No further splits with positive gain, best gain: -inf\n",
            "[LightGBM] [Warning] No further splits with positive gain, best gain: -inf\n",
            "[LightGBM] [Warning] No further splits with positive gain, best gain: -inf\n",
            "[LightGBM] [Warning] No further splits with positive gain, best gain: -inf\n",
            "[LightGBM] [Warning] No further splits with positive gain, best gain: -inf\n",
            "[LightGBM] [Warning] No further splits with positive gain, best gain: -inf\n",
            "[LightGBM] [Warning] No further splits with positive gain, best gain: -inf\n",
            "[LightGBM] [Warning] No further splits with positive gain, best gain: -inf\n",
            "[LightGBM] [Warning] No further splits with positive gain, best gain: -inf\n",
            "[LightGBM] [Warning] No further splits with positive gain, best gain: -inf\n",
            "[LightGBM] [Warning] No further splits with positive gain, best gain: -inf\n",
            "[LightGBM] [Warning] No further splits with positive gain, best gain: -inf\n",
            "[LightGBM] [Warning] No further splits with positive gain, best gain: -inf\n",
            "[LightGBM] [Warning] No further splits with positive gain, best gain: -inf\n",
            "[LightGBM] [Warning] No further splits with positive gain, best gain: -inf\n",
            "[LightGBM] [Warning] No further splits with positive gain, best gain: -inf\n",
            "[LightGBM] [Warning] No further splits with positive gain, best gain: -inf\n",
            "[LightGBM] [Warning] No further splits with positive gain, best gain: -inf\n",
            "[LightGBM] [Warning] No further splits with positive gain, best gain: -inf\n",
            "[LightGBM] [Warning] No further splits with positive gain, best gain: -inf\n",
            "[LightGBM] [Warning] No further splits with positive gain, best gain: -inf\n",
            "[LightGBM] [Warning] No further splits with positive gain, best gain: -inf\n",
            "[LightGBM] [Warning] No further splits with positive gain, best gain: -inf\n",
            "[LightGBM] [Warning] No further splits with positive gain, best gain: -inf\n",
            "[LightGBM] [Warning] No further splits with positive gain, best gain: -inf\n",
            "[LightGBM] [Warning] No further splits with positive gain, best gain: -inf\n",
            "[LightGBM] [Warning] No further splits with positive gain, best gain: -inf\n",
            "[LightGBM] [Warning] No further splits with positive gain, best gain: -inf\n",
            "[LightGBM] [Warning] No further splits with positive gain, best gain: -inf\n",
            "[LightGBM] [Warning] No further splits with positive gain, best gain: -inf\n",
            "[LightGBM] [Warning] No further splits with positive gain, best gain: -inf\n",
            "[LightGBM] [Warning] No further splits with positive gain, best gain: -inf\n",
            "[LightGBM] [Warning] No further splits with positive gain, best gain: -inf\n",
            "[LightGBM] [Warning] No further splits with positive gain, best gain: -inf\n",
            "[LightGBM] [Warning] No further splits with positive gain, best gain: -inf\n",
            "[LightGBM] [Warning] No further splits with positive gain, best gain: -inf\n",
            "[LightGBM] [Warning] No further splits with positive gain, best gain: -inf\n",
            "[LightGBM] [Warning] No further splits with positive gain, best gain: -inf\n",
            "[LightGBM] [Warning] No further splits with positive gain, best gain: -inf\n",
            "[LightGBM] [Warning] No further splits with positive gain, best gain: -inf\n",
            "[LightGBM] [Warning] No further splits with positive gain, best gain: -inf\n",
            "[LightGBM] [Warning] No further splits with positive gain, best gain: -inf\n",
            "[LightGBM] [Warning] No further splits with positive gain, best gain: -inf\n",
            "[LightGBM] [Warning] No further splits with positive gain, best gain: -inf\n",
            "[LightGBM] [Warning] No further splits with positive gain, best gain: -inf\n",
            "[LightGBM] [Warning] No further splits with positive gain, best gain: -inf\n",
            "[LightGBM] [Warning] No further splits with positive gain, best gain: -inf\n",
            "[LightGBM] [Warning] No further splits with positive gain, best gain: -inf\n",
            "[LightGBM] [Warning] No further splits with positive gain, best gain: -inf\n",
            "[LightGBM] [Warning] No further splits with positive gain, best gain: -inf\n",
            "[LightGBM] [Warning] No further splits with positive gain, best gain: -inf\n",
            "[LightGBM] [Warning] No further splits with positive gain, best gain: -inf\n",
            "[LightGBM] [Warning] No further splits with positive gain, best gain: -inf\n",
            "[LightGBM] [Warning] No further splits with positive gain, best gain: -inf\n",
            "[LightGBM] [Warning] No further splits with positive gain, best gain: -inf\n",
            "[LightGBM] [Warning] No further splits with positive gain, best gain: -inf\n",
            "[LightGBM] [Warning] No further splits with positive gain, best gain: -inf\n",
            "[LightGBM] [Warning] No further splits with positive gain, best gain: -inf\n",
            "[LightGBM] [Warning] No further splits with positive gain, best gain: -inf\n",
            "[LightGBM] [Warning] No further splits with positive gain, best gain: -inf\n",
            "[LightGBM] [Warning] No further splits with positive gain, best gain: -inf\n",
            "[LightGBM] [Warning] No further splits with positive gain, best gain: -inf\n",
            "[LightGBM] [Warning] No further splits with positive gain, best gain: -inf\n",
            "[LightGBM] [Warning] No further splits with positive gain, best gain: -inf\n",
            "[LightGBM] [Warning] No further splits with positive gain, best gain: -inf\n",
            "[LightGBM] [Warning] No further splits with positive gain, best gain: -inf\n",
            "[LightGBM] [Warning] No further splits with positive gain, best gain: -inf\n",
            "[LightGBM] [Warning] No further splits with positive gain, best gain: -inf\n",
            "[LightGBM] [Warning] No further splits with positive gain, best gain: -inf\n",
            "[LightGBM] [Warning] No further splits with positive gain, best gain: -inf\n",
            "[LightGBM] [Warning] No further splits with positive gain, best gain: -inf\n",
            "[LightGBM] [Warning] No further splits with positive gain, best gain: -inf\n",
            "[LightGBM] [Warning] No further splits with positive gain, best gain: -inf\n",
            "[LightGBM] [Warning] No further splits with positive gain, best gain: -inf\n",
            "[LightGBM] [Warning] No further splits with positive gain, best gain: -inf\n",
            "[LightGBM] [Warning] No further splits with positive gain, best gain: -inf\n",
            "[LightGBM] [Warning] No further splits with positive gain, best gain: -inf\n",
            "[LightGBM] [Warning] No further splits with positive gain, best gain: -inf\n",
            "[LightGBM] [Warning] No further splits with positive gain, best gain: -inf\n",
            "[LightGBM] [Warning] No further splits with positive gain, best gain: -inf\n",
            "[LightGBM] [Warning] No further splits with positive gain, best gain: -inf\n",
            "[LightGBM] [Warning] No further splits with positive gain, best gain: -inf\n",
            "Early stopping, best iteration is:\n",
            "[86]\ttraining's binary_logloss: 0.0231204\tvalid_1's binary_logloss: 0.0296818\n"
          ]
        }
      ]
    },
    {
      "cell_type": "code",
      "execution_count": 26,
      "metadata": {
        "id": "oFTugdp3dm6B",
        "colab": {
          "base_uri": "https://localhost:8080/",
          "height": 645
        },
        "outputId": "846c0c8c-fe0d-46f4-96fb-93bbf77a083a"
      },
      "outputs": [
        {
          "output_type": "execute_result",
          "data": {
            "text/plain": [
              "                                   feature  importance\n",
              "5                             ctrx_quarter         106\n",
              "13         percentile_mrentabilidad_annual         103\n",
              "4                              mcomisiones         101\n",
              "7              ctarjeta_visa_transacciones         100\n",
              "1                        mcuenta_corriente         100\n",
              "14                  percentile_mcomisiones          94\n",
              "9                               cproductos          94\n",
              "11            percentile_mcuenta_corriente          92\n",
              "2                            mrentabilidad          91\n",
              "3                     mrentabilidad_annual          90\n",
              "15                 percentile_ctrx_quarter          90\n",
              "12                percentile_mrentabilidad          86\n",
              "0                                 mpayroll          64\n",
              "8                    mtarjeta_visa_consumo          58\n",
              "18        percentile_mtarjeta_visa_consumo          54\n",
              "6                 mtransferencias_emitidas          44\n",
              "16     percentile_mtransferencias_emitidas          25\n",
              "10                     percentile_mpayroll           9\n",
              "17  percentile_ctarjeta_visa_transacciones           1"
            ],
            "text/html": [
              "\n",
              "  <div id=\"df-5b8fc667-d804-4e3b-bac5-d49c61e64834\" class=\"colab-df-container\">\n",
              "    <div>\n",
              "<style scoped>\n",
              "    .dataframe tbody tr th:only-of-type {\n",
              "        vertical-align: middle;\n",
              "    }\n",
              "\n",
              "    .dataframe tbody tr th {\n",
              "        vertical-align: top;\n",
              "    }\n",
              "\n",
              "    .dataframe thead th {\n",
              "        text-align: right;\n",
              "    }\n",
              "</style>\n",
              "<table border=\"1\" class=\"dataframe\">\n",
              "  <thead>\n",
              "    <tr style=\"text-align: right;\">\n",
              "      <th></th>\n",
              "      <th>feature</th>\n",
              "      <th>importance</th>\n",
              "    </tr>\n",
              "  </thead>\n",
              "  <tbody>\n",
              "    <tr>\n",
              "      <th>5</th>\n",
              "      <td>ctrx_quarter</td>\n",
              "      <td>106</td>\n",
              "    </tr>\n",
              "    <tr>\n",
              "      <th>13</th>\n",
              "      <td>percentile_mrentabilidad_annual</td>\n",
              "      <td>103</td>\n",
              "    </tr>\n",
              "    <tr>\n",
              "      <th>4</th>\n",
              "      <td>mcomisiones</td>\n",
              "      <td>101</td>\n",
              "    </tr>\n",
              "    <tr>\n",
              "      <th>7</th>\n",
              "      <td>ctarjeta_visa_transacciones</td>\n",
              "      <td>100</td>\n",
              "    </tr>\n",
              "    <tr>\n",
              "      <th>1</th>\n",
              "      <td>mcuenta_corriente</td>\n",
              "      <td>100</td>\n",
              "    </tr>\n",
              "    <tr>\n",
              "      <th>14</th>\n",
              "      <td>percentile_mcomisiones</td>\n",
              "      <td>94</td>\n",
              "    </tr>\n",
              "    <tr>\n",
              "      <th>9</th>\n",
              "      <td>cproductos</td>\n",
              "      <td>94</td>\n",
              "    </tr>\n",
              "    <tr>\n",
              "      <th>11</th>\n",
              "      <td>percentile_mcuenta_corriente</td>\n",
              "      <td>92</td>\n",
              "    </tr>\n",
              "    <tr>\n",
              "      <th>2</th>\n",
              "      <td>mrentabilidad</td>\n",
              "      <td>91</td>\n",
              "    </tr>\n",
              "    <tr>\n",
              "      <th>3</th>\n",
              "      <td>mrentabilidad_annual</td>\n",
              "      <td>90</td>\n",
              "    </tr>\n",
              "    <tr>\n",
              "      <th>15</th>\n",
              "      <td>percentile_ctrx_quarter</td>\n",
              "      <td>90</td>\n",
              "    </tr>\n",
              "    <tr>\n",
              "      <th>12</th>\n",
              "      <td>percentile_mrentabilidad</td>\n",
              "      <td>86</td>\n",
              "    </tr>\n",
              "    <tr>\n",
              "      <th>0</th>\n",
              "      <td>mpayroll</td>\n",
              "      <td>64</td>\n",
              "    </tr>\n",
              "    <tr>\n",
              "      <th>8</th>\n",
              "      <td>mtarjeta_visa_consumo</td>\n",
              "      <td>58</td>\n",
              "    </tr>\n",
              "    <tr>\n",
              "      <th>18</th>\n",
              "      <td>percentile_mtarjeta_visa_consumo</td>\n",
              "      <td>54</td>\n",
              "    </tr>\n",
              "    <tr>\n",
              "      <th>6</th>\n",
              "      <td>mtransferencias_emitidas</td>\n",
              "      <td>44</td>\n",
              "    </tr>\n",
              "    <tr>\n",
              "      <th>16</th>\n",
              "      <td>percentile_mtransferencias_emitidas</td>\n",
              "      <td>25</td>\n",
              "    </tr>\n",
              "    <tr>\n",
              "      <th>10</th>\n",
              "      <td>percentile_mpayroll</td>\n",
              "      <td>9</td>\n",
              "    </tr>\n",
              "    <tr>\n",
              "      <th>17</th>\n",
              "      <td>percentile_ctarjeta_visa_transacciones</td>\n",
              "      <td>1</td>\n",
              "    </tr>\n",
              "  </tbody>\n",
              "</table>\n",
              "</div>\n",
              "    <div class=\"colab-df-buttons\">\n",
              "\n",
              "  <div class=\"colab-df-container\">\n",
              "    <button class=\"colab-df-convert\" onclick=\"convertToInteractive('df-5b8fc667-d804-4e3b-bac5-d49c61e64834')\"\n",
              "            title=\"Convert this dataframe to an interactive table.\"\n",
              "            style=\"display:none;\">\n",
              "\n",
              "  <svg xmlns=\"http://www.w3.org/2000/svg\" height=\"24px\" viewBox=\"0 -960 960 960\">\n",
              "    <path d=\"M120-120v-720h720v720H120Zm60-500h600v-160H180v160Zm220 220h160v-160H400v160Zm0 220h160v-160H400v160ZM180-400h160v-160H180v160Zm440 0h160v-160H620v160ZM180-180h160v-160H180v160Zm440 0h160v-160H620v160Z\"/>\n",
              "  </svg>\n",
              "    </button>\n",
              "\n",
              "  <style>\n",
              "    .colab-df-container {\n",
              "      display:flex;\n",
              "      gap: 12px;\n",
              "    }\n",
              "\n",
              "    .colab-df-convert {\n",
              "      background-color: #E8F0FE;\n",
              "      border: none;\n",
              "      border-radius: 50%;\n",
              "      cursor: pointer;\n",
              "      display: none;\n",
              "      fill: #1967D2;\n",
              "      height: 32px;\n",
              "      padding: 0 0 0 0;\n",
              "      width: 32px;\n",
              "    }\n",
              "\n",
              "    .colab-df-convert:hover {\n",
              "      background-color: #E2EBFA;\n",
              "      box-shadow: 0px 1px 2px rgba(60, 64, 67, 0.3), 0px 1px 3px 1px rgba(60, 64, 67, 0.15);\n",
              "      fill: #174EA6;\n",
              "    }\n",
              "\n",
              "    .colab-df-buttons div {\n",
              "      margin-bottom: 4px;\n",
              "    }\n",
              "\n",
              "    [theme=dark] .colab-df-convert {\n",
              "      background-color: #3B4455;\n",
              "      fill: #D2E3FC;\n",
              "    }\n",
              "\n",
              "    [theme=dark] .colab-df-convert:hover {\n",
              "      background-color: #434B5C;\n",
              "      box-shadow: 0px 1px 3px 1px rgba(0, 0, 0, 0.15);\n",
              "      filter: drop-shadow(0px 1px 2px rgba(0, 0, 0, 0.3));\n",
              "      fill: #FFFFFF;\n",
              "    }\n",
              "  </style>\n",
              "\n",
              "    <script>\n",
              "      const buttonEl =\n",
              "        document.querySelector('#df-5b8fc667-d804-4e3b-bac5-d49c61e64834 button.colab-df-convert');\n",
              "      buttonEl.style.display =\n",
              "        google.colab.kernel.accessAllowed ? 'block' : 'none';\n",
              "\n",
              "      async function convertToInteractive(key) {\n",
              "        const element = document.querySelector('#df-5b8fc667-d804-4e3b-bac5-d49c61e64834');\n",
              "        const dataTable =\n",
              "          await google.colab.kernel.invokeFunction('convertToInteractive',\n",
              "                                                    [key], {});\n",
              "        if (!dataTable) return;\n",
              "\n",
              "        const docLinkHtml = 'Like what you see? Visit the ' +\n",
              "          '<a target=\"_blank\" href=https://colab.research.google.com/notebooks/data_table.ipynb>data table notebook</a>'\n",
              "          + ' to learn more about interactive tables.';\n",
              "        element.innerHTML = '';\n",
              "        dataTable['output_type'] = 'display_data';\n",
              "        await google.colab.output.renderOutput(dataTable, element);\n",
              "        const docLink = document.createElement('div');\n",
              "        docLink.innerHTML = docLinkHtml;\n",
              "        element.appendChild(docLink);\n",
              "      }\n",
              "    </script>\n",
              "  </div>\n",
              "\n",
              "\n",
              "<div id=\"df-4f54cbbd-e054-4faf-94f3-8ec1e8e8e1ed\">\n",
              "  <button class=\"colab-df-quickchart\" onclick=\"quickchart('df-4f54cbbd-e054-4faf-94f3-8ec1e8e8e1ed')\"\n",
              "            title=\"Suggest charts\"\n",
              "            style=\"display:none;\">\n",
              "\n",
              "<svg xmlns=\"http://www.w3.org/2000/svg\" height=\"24px\"viewBox=\"0 0 24 24\"\n",
              "     width=\"24px\">\n",
              "    <g>\n",
              "        <path d=\"M19 3H5c-1.1 0-2 .9-2 2v14c0 1.1.9 2 2 2h14c1.1 0 2-.9 2-2V5c0-1.1-.9-2-2-2zM9 17H7v-7h2v7zm4 0h-2V7h2v10zm4 0h-2v-4h2v4z\"/>\n",
              "    </g>\n",
              "</svg>\n",
              "  </button>\n",
              "\n",
              "<style>\n",
              "  .colab-df-quickchart {\n",
              "      --bg-color: #E8F0FE;\n",
              "      --fill-color: #1967D2;\n",
              "      --hover-bg-color: #E2EBFA;\n",
              "      --hover-fill-color: #174EA6;\n",
              "      --disabled-fill-color: #AAA;\n",
              "      --disabled-bg-color: #DDD;\n",
              "  }\n",
              "\n",
              "  [theme=dark] .colab-df-quickchart {\n",
              "      --bg-color: #3B4455;\n",
              "      --fill-color: #D2E3FC;\n",
              "      --hover-bg-color: #434B5C;\n",
              "      --hover-fill-color: #FFFFFF;\n",
              "      --disabled-bg-color: #3B4455;\n",
              "      --disabled-fill-color: #666;\n",
              "  }\n",
              "\n",
              "  .colab-df-quickchart {\n",
              "    background-color: var(--bg-color);\n",
              "    border: none;\n",
              "    border-radius: 50%;\n",
              "    cursor: pointer;\n",
              "    display: none;\n",
              "    fill: var(--fill-color);\n",
              "    height: 32px;\n",
              "    padding: 0;\n",
              "    width: 32px;\n",
              "  }\n",
              "\n",
              "  .colab-df-quickchart:hover {\n",
              "    background-color: var(--hover-bg-color);\n",
              "    box-shadow: 0 1px 2px rgba(60, 64, 67, 0.3), 0 1px 3px 1px rgba(60, 64, 67, 0.15);\n",
              "    fill: var(--button-hover-fill-color);\n",
              "  }\n",
              "\n",
              "  .colab-df-quickchart-complete:disabled,\n",
              "  .colab-df-quickchart-complete:disabled:hover {\n",
              "    background-color: var(--disabled-bg-color);\n",
              "    fill: var(--disabled-fill-color);\n",
              "    box-shadow: none;\n",
              "  }\n",
              "\n",
              "  .colab-df-spinner {\n",
              "    border: 2px solid var(--fill-color);\n",
              "    border-color: transparent;\n",
              "    border-bottom-color: var(--fill-color);\n",
              "    animation:\n",
              "      spin 1s steps(1) infinite;\n",
              "  }\n",
              "\n",
              "  @keyframes spin {\n",
              "    0% {\n",
              "      border-color: transparent;\n",
              "      border-bottom-color: var(--fill-color);\n",
              "      border-left-color: var(--fill-color);\n",
              "    }\n",
              "    20% {\n",
              "      border-color: transparent;\n",
              "      border-left-color: var(--fill-color);\n",
              "      border-top-color: var(--fill-color);\n",
              "    }\n",
              "    30% {\n",
              "      border-color: transparent;\n",
              "      border-left-color: var(--fill-color);\n",
              "      border-top-color: var(--fill-color);\n",
              "      border-right-color: var(--fill-color);\n",
              "    }\n",
              "    40% {\n",
              "      border-color: transparent;\n",
              "      border-right-color: var(--fill-color);\n",
              "      border-top-color: var(--fill-color);\n",
              "    }\n",
              "    60% {\n",
              "      border-color: transparent;\n",
              "      border-right-color: var(--fill-color);\n",
              "    }\n",
              "    80% {\n",
              "      border-color: transparent;\n",
              "      border-right-color: var(--fill-color);\n",
              "      border-bottom-color: var(--fill-color);\n",
              "    }\n",
              "    90% {\n",
              "      border-color: transparent;\n",
              "      border-bottom-color: var(--fill-color);\n",
              "    }\n",
              "  }\n",
              "</style>\n",
              "\n",
              "  <script>\n",
              "    async function quickchart(key) {\n",
              "      const quickchartButtonEl =\n",
              "        document.querySelector('#' + key + ' button');\n",
              "      quickchartButtonEl.disabled = true;  // To prevent multiple clicks.\n",
              "      quickchartButtonEl.classList.add('colab-df-spinner');\n",
              "      try {\n",
              "        const charts = await google.colab.kernel.invokeFunction(\n",
              "            'suggestCharts', [key], {});\n",
              "      } catch (error) {\n",
              "        console.error('Error during call to suggestCharts:', error);\n",
              "      }\n",
              "      quickchartButtonEl.classList.remove('colab-df-spinner');\n",
              "      quickchartButtonEl.classList.add('colab-df-quickchart-complete');\n",
              "    }\n",
              "    (() => {\n",
              "      let quickchartButtonEl =\n",
              "        document.querySelector('#df-4f54cbbd-e054-4faf-94f3-8ec1e8e8e1ed button');\n",
              "      quickchartButtonEl.style.display =\n",
              "        google.colab.kernel.accessAllowed ? 'block' : 'none';\n",
              "    })();\n",
              "  </script>\n",
              "</div>\n",
              "\n",
              "    </div>\n",
              "  </div>\n"
            ],
            "application/vnd.google.colaboratory.intrinsic+json": {
              "type": "dataframe",
              "summary": "{\n  \"name\": \"importance_df[importance_df['importance'] > 0]\",\n  \"rows\": 19,\n  \"fields\": [\n    {\n      \"column\": \"feature\",\n      \"properties\": {\n        \"dtype\": \"string\",\n        \"num_unique_values\": 19,\n        \"samples\": [\n          \"ctrx_quarter\",\n          \"percentile_mcomisiones\",\n          \"percentile_mrentabilidad\"\n        ],\n        \"semantic_type\": \"\",\n        \"description\": \"\"\n      }\n    },\n    {\n      \"column\": \"importance\",\n      \"properties\": {\n        \"dtype\": \"int32\",\n        \"num_unique_values\": 16,\n        \"samples\": [\n          106,\n          103,\n          92\n        ],\n        \"semantic_type\": \"\",\n        \"description\": \"\"\n      }\n    }\n  ]\n}"
            }
          },
          "metadata": {},
          "execution_count": 26
        }
      ],
      "source": [
        "importances = model.feature_importance()\n",
        "feature_names = X_train.columns.tolist()\n",
        "importance_df = pd.DataFrame({'feature': feature_names, 'importance': importances})\n",
        "importance_df = importance_df.sort_values('importance', ascending=False)\n",
        "importance_df[importance_df['importance'] > 0]\n"
      ]
    },
    {
      "cell_type": "code",
      "source": [
        "# Obtener e imprimir las variables que entraron en el modelo\n",
        "print(\"Variables utilizadas en el modelo:\")\n",
        "print(model.feature_name())"
      ],
      "metadata": {
        "colab": {
          "base_uri": "https://localhost:8080/"
        },
        "id": "Z7G2CyWULNUk",
        "outputId": "b7a13bf4-09dd-4ca6-f41b-bf897dd91ac2"
      },
      "execution_count": 32,
      "outputs": [
        {
          "output_type": "stream",
          "name": "stdout",
          "text": [
            "Variables utilizadas en el modelo:\n",
            "['mpayroll', 'mcuenta_corriente', 'mrentabilidad', 'mrentabilidad_annual', 'mcomisiones', 'ctrx_quarter', 'mtransferencias_emitidas', 'ctarjeta_visa_transacciones', 'mtarjeta_visa_consumo', 'cproductos', 'percentile_mpayroll', 'percentile_mcuenta_corriente', 'percentile_mrentabilidad', 'percentile_mrentabilidad_annual', 'percentile_mcomisiones', 'percentile_ctrx_quarter', 'percentile_mtransferencias_emitidas', 'percentile_ctarjeta_visa_transacciones', 'percentile_mtarjeta_visa_consumo', 'percentile_cproductos']\n"
          ]
        }
      ]
    },
    {
      "cell_type": "code",
      "source": [
        "print(data_agosto_2021.columns.tolist())"
      ],
      "metadata": {
        "colab": {
          "base_uri": "https://localhost:8080/"
        },
        "id": "OzFfTiqmKO_b",
        "outputId": "05e3d450-692e-45eb-935e-aef552d12d1b"
      },
      "execution_count": 30,
      "outputs": [
        {
          "output_type": "stream",
          "name": "stdout",
          "text": [
            "['clase_ternaria', 'numero_de_cliente', 'foto_mes', 'mpayroll', 'mcuenta_corriente', 'mrentabilidad', 'mrentabilidad_annual', 'mcomisiones', 'ctrx_quarter', 'mtransferencias_emitidas', 'ctarjeta_visa_transacciones', 'mtarjeta_visa_consumo', 'cproductos', 'percentile_mpayroll', 'percentile_mcuenta_corriente', 'percentile_mrentabilidad', 'percentile_mrentabilidad_annual', 'percentile_mcomisiones', 'percentile_ctrx_quarter', 'percentile_mtransferencias_emitidas', 'percentile_ctarjeta_visa_transacciones', 'percentile_mtarjeta_visa_consumo', 'percentile_cproductos']\n"
          ]
        }
      ]
    },
    {
      "cell_type": "code",
      "execution_count": 33,
      "metadata": {
        "id": "oh42cNCGd9fs"
      },
      "outputs": [],
      "source": [
        "# Selección de las variables del modelo\n",
        "X_agosto_2021 = data_agosto_2021[['mpayroll', 'mcuenta_corriente', 'mrentabilidad', 'mrentabilidad_annual',\n",
        "                                  'mcomisiones', 'ctrx_quarter', 'mtransferencias_emitidas',\n",
        "                                  'ctarjeta_visa_transacciones', 'mtarjeta_visa_consumo', 'cproductos',\n",
        "                                  'percentile_mpayroll', 'percentile_mcuenta_corriente',\n",
        "                                  'percentile_mrentabilidad', 'percentile_mrentabilidad_annual',\n",
        "                                  'percentile_mcomisiones', 'percentile_ctrx_quarter',\n",
        "                                  'percentile_mtransferencias_emitidas', 'percentile_ctarjeta_visa_transacciones',\n",
        "                                  'percentile_mtarjeta_visa_consumo', 'percentile_cproductos']]\n",
        "\n",
        "# Realizar predicciones para el periodo 202108\n",
        "y_pred_agosto_2021 = model.predict(X_agosto_2021, num_iteration=model.best_iteration)\n",
        "\n"
      ]
    },
    {
      "cell_type": "code",
      "execution_count": null,
      "metadata": {
        "id": "saX21blQeHTN",
        "colab": {
          "base_uri": "https://localhost:8080/"
        },
        "outputId": "998370fd-2d90-4b1c-f11f-13a52a8b1c22"
      },
      "outputs": [
        {
          "output_type": "stream",
          "name": "stdout",
          "text": [
            "Ganancia LGBM: -105028000.0\n"
          ]
        }
      ],
      "source": [
        "# Calcular la ganancia utilizando las probabilidades predichas\n",
        "def ganancia_prob(y_pred, y_true, prop=1):\n",
        "    ganancia = np.where(y_true == 1, ganancia_acierto, 0) - np.where(y_true == 0, costo_estimulo, 0)\n",
        "    return ganancia[y_pred >= 0.025].sum() / prop"
      ]
    },
    {
      "cell_type": "code",
      "source": [
        "# Agregar las probabilidades al DataFrame\n",
        "data_agosto_2021['pred_prob'] = y_pred_agosto_2021\n",
        "\n",
        "# Ordenar las predicciones por probabilidad en orden descendente\n",
        "data_agosto_2021 = data_agosto_2021.sort_values(by='pred_prob', ascending=False)\n",
        "\n",
        "# Marcar las primeras X predicciones como positivas\n",
        "X = 6500\n",
        "data_agosto_2021['Predicted'] = 0  # Inicializar todos como negativos\n",
        "data_agosto_2021.iloc[:X, data_agosto_2021.columns.get_loc('Predicted')] = 1  # Marcar las primeras X como positivos\n",
        "\n",
        "# Crear el archivo de salida con las columnas solicitadas\n",
        "output = data_agosto_2021[['numero_de_cliente', 'Predicted']]\n",
        "\n",
        "# Guardar el archivo en formato CSV para Kaggle\n",
        "nombre_archivo = 'predicciones_kaggle_202108.csv'\n",
        "output.to_csv(nombre_archivo, index=False)\n",
        "print(f\"Archivo {nombre_archivo} guardado.\")\n",
        "\n",
        "# Descargar el archivo para Kaggle\n",
        "from google.colab import files\n",
        "files.download(nombre_archivo)\n"
      ],
      "metadata": {
        "id": "Lms0u3uYz-ny",
        "colab": {
          "base_uri": "https://localhost:8080/",
          "height": 35
        },
        "outputId": "d8319ecd-1a46-49f4-ae7c-8083672d9988"
      },
      "execution_count": 40,
      "outputs": [
        {
          "output_type": "stream",
          "name": "stdout",
          "text": [
            "Archivo predicciones_kaggle_202108.csv guardado.\n"
          ]
        },
        {
          "output_type": "display_data",
          "data": {
            "text/plain": [
              "<IPython.core.display.Javascript object>"
            ],
            "application/javascript": [
              "\n",
              "    async function download(id, filename, size) {\n",
              "      if (!google.colab.kernel.accessAllowed) {\n",
              "        return;\n",
              "      }\n",
              "      const div = document.createElement('div');\n",
              "      const label = document.createElement('label');\n",
              "      label.textContent = `Downloading \"${filename}\": `;\n",
              "      div.appendChild(label);\n",
              "      const progress = document.createElement('progress');\n",
              "      progress.max = size;\n",
              "      div.appendChild(progress);\n",
              "      document.body.appendChild(div);\n",
              "\n",
              "      const buffers = [];\n",
              "      let downloaded = 0;\n",
              "\n",
              "      const channel = await google.colab.kernel.comms.open(id);\n",
              "      // Send a message to notify the kernel that we're ready.\n",
              "      channel.send({})\n",
              "\n",
              "      for await (const message of channel.messages) {\n",
              "        // Send a message to notify the kernel that we're ready.\n",
              "        channel.send({})\n",
              "        if (message.buffers) {\n",
              "          for (const buffer of message.buffers) {\n",
              "            buffers.push(buffer);\n",
              "            downloaded += buffer.byteLength;\n",
              "            progress.value = downloaded;\n",
              "          }\n",
              "        }\n",
              "      }\n",
              "      const blob = new Blob(buffers, {type: 'application/binary'});\n",
              "      const a = document.createElement('a');\n",
              "      a.href = window.URL.createObjectURL(blob);\n",
              "      a.download = filename;\n",
              "      div.appendChild(a);\n",
              "      a.click();\n",
              "      div.remove();\n",
              "    }\n",
              "  "
            ]
          },
          "metadata": {}
        },
        {
          "output_type": "display_data",
          "data": {
            "text/plain": [
              "<IPython.core.display.Javascript object>"
            ],
            "application/javascript": [
              "download(\"download_d9cbf85d-17de-4e2c-a102-db69615152da\", \"predicciones_kaggle_202108.csv\", 2027976)"
            ]
          },
          "metadata": {}
        }
      ]
    },
    {
      "cell_type": "markdown",
      "metadata": {
        "id": "rLaNokOzd827"
      },
      "source": [
        "Prediccion de abril"
      ]
    },
    {
      "cell_type": "code",
      "source": [
        "output.shape"
      ],
      "metadata": {
        "colab": {
          "base_uri": "https://localhost:8080/"
        },
        "id": "p0D59Y77sMik",
        "outputId": "88614923-3fc4-42e2-a239-01abddb9b762"
      },
      "execution_count": 37,
      "outputs": [
        {
          "output_type": "execute_result",
          "data": {
            "text/plain": [
              "(165442, 2)"
            ]
          },
          "metadata": {},
          "execution_count": 37
        }
      ]
    }
  ],
  "metadata": {
    "colab": {
      "provenance": []
    },
    "kernelspec": {
      "display_name": "Python 3",
      "name": "python3"
    },
    "language_info": {
      "name": "python"
    }
  },
  "nbformat": 4,
  "nbformat_minor": 0
}